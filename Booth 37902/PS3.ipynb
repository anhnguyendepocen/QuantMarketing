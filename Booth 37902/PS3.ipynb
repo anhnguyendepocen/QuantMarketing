{
 "cells": [
  {
   "cell_type": "markdown",
   "metadata": {},
   "source": [
    "37902 Foundation of Advanced Quantitative Marketing\n",
    "\n",
    "Li Liu"
   ]
  },
  {
   "cell_type": "markdown",
   "metadata": {},
   "source": [
    "#### Tasks\n",
    "1)      Compute the nested logit elasticities (if you haven’t already done so)\n",
    "\n",
    "2)      Try out the IIA tests\n",
    "\n",
    "3)      Work on the observable heterogeneity model – both a priori and with interactions\n",
    "\n",
    "4)      Fit the latent-segment / latent-class / discrete heterogeneity model with 2 segments"
   ]
  },
  {
   "cell_type": "code",
   "execution_count": 72,
   "metadata": {},
   "outputs": [],
   "source": [
    "import numpy as np\n",
    "import pandas as pd\n",
    "import matplotlib.pyplot as plt\n",
    "import scipy.optimize as opt\n",
    "pd.options.display.max_colwidth = 1000"
   ]
  },
  {
   "cell_type": "markdown",
   "metadata": {},
   "source": [
    "### Yogurt100N Sales Data"
   ]
  },
  {
   "cell_type": "code",
   "execution_count": 73,
   "metadata": {
    "scrolled": true
   },
   "outputs": [
    {
     "data": {
      "text/html": [
       "<div>\n",
       "<style scoped>\n",
       "    .dataframe tbody tr th:only-of-type {\n",
       "        vertical-align: middle;\n",
       "    }\n",
       "\n",
       "    .dataframe tbody tr th {\n",
       "        vertical-align: top;\n",
       "    }\n",
       "\n",
       "    .dataframe thead th {\n",
       "        text-align: right;\n",
       "    }\n",
       "</style>\n",
       "<table border=\"1\" class=\"dataframe\">\n",
       "  <thead>\n",
       "    <tr style=\"text-align: right;\">\n",
       "      <th></th>\n",
       "      <th>Pan I.D.</th>\n",
       "      <th>Expend $</th>\n",
       "      <th>Income</th>\n",
       "      <th>HH Size</th>\n",
       "      <th>IPT</th>\n",
       "      <th>Quantity</th>\n",
       "      <th>Brand 1</th>\n",
       "      <th>Brand  2</th>\n",
       "      <th>Brand 3</th>\n",
       "      <th>Brand 4</th>\n",
       "      <th>Feature 1</th>\n",
       "      <th>Feature 2</th>\n",
       "      <th>Feature 3</th>\n",
       "      <th>Feature 4</th>\n",
       "      <th>Price 1</th>\n",
       "      <th>Price 2</th>\n",
       "      <th>Price 3</th>\n",
       "      <th>Price 4</th>\n",
       "      <th>PanelistFirstObs</th>\n",
       "    </tr>\n",
       "  </thead>\n",
       "  <tbody>\n",
       "    <tr>\n",
       "      <th>0</th>\n",
       "      <td>1</td>\n",
       "      <td>40.900002</td>\n",
       "      <td>9</td>\n",
       "      <td>2</td>\n",
       "      <td>5</td>\n",
       "      <td>2</td>\n",
       "      <td>0</td>\n",
       "      <td>0</td>\n",
       "      <td>0</td>\n",
       "      <td>1</td>\n",
       "      <td>0</td>\n",
       "      <td>0</td>\n",
       "      <td>0</td>\n",
       "      <td>0</td>\n",
       "      <td>0.108</td>\n",
       "      <td>0.081</td>\n",
       "      <td>0.061</td>\n",
       "      <td>0.079</td>\n",
       "      <td>1</td>\n",
       "    </tr>\n",
       "    <tr>\n",
       "      <th>1</th>\n",
       "      <td>1</td>\n",
       "      <td>16.809999</td>\n",
       "      <td>9</td>\n",
       "      <td>2</td>\n",
       "      <td>5</td>\n",
       "      <td>2</td>\n",
       "      <td>0</td>\n",
       "      <td>1</td>\n",
       "      <td>0</td>\n",
       "      <td>0</td>\n",
       "      <td>0</td>\n",
       "      <td>0</td>\n",
       "      <td>0</td>\n",
       "      <td>0</td>\n",
       "      <td>0.108</td>\n",
       "      <td>0.098</td>\n",
       "      <td>0.064</td>\n",
       "      <td>0.075</td>\n",
       "      <td>0</td>\n",
       "    </tr>\n",
       "    <tr>\n",
       "      <th>2</th>\n",
       "      <td>1</td>\n",
       "      <td>4.060000</td>\n",
       "      <td>9</td>\n",
       "      <td>2</td>\n",
       "      <td>1</td>\n",
       "      <td>2</td>\n",
       "      <td>0</td>\n",
       "      <td>1</td>\n",
       "      <td>0</td>\n",
       "      <td>0</td>\n",
       "      <td>0</td>\n",
       "      <td>0</td>\n",
       "      <td>0</td>\n",
       "      <td>0</td>\n",
       "      <td>0.108</td>\n",
       "      <td>0.098</td>\n",
       "      <td>0.061</td>\n",
       "      <td>0.086</td>\n",
       "      <td>0</td>\n",
       "    </tr>\n",
       "    <tr>\n",
       "      <th>3</th>\n",
       "      <td>1</td>\n",
       "      <td>34.459999</td>\n",
       "      <td>9</td>\n",
       "      <td>2</td>\n",
       "      <td>4</td>\n",
       "      <td>2</td>\n",
       "      <td>0</td>\n",
       "      <td>1</td>\n",
       "      <td>0</td>\n",
       "      <td>0</td>\n",
       "      <td>0</td>\n",
       "      <td>0</td>\n",
       "      <td>0</td>\n",
       "      <td>0</td>\n",
       "      <td>0.108</td>\n",
       "      <td>0.098</td>\n",
       "      <td>0.061</td>\n",
       "      <td>0.086</td>\n",
       "      <td>0</td>\n",
       "    </tr>\n",
       "    <tr>\n",
       "      <th>4</th>\n",
       "      <td>1</td>\n",
       "      <td>8.390000</td>\n",
       "      <td>9</td>\n",
       "      <td>2</td>\n",
       "      <td>7</td>\n",
       "      <td>2</td>\n",
       "      <td>0</td>\n",
       "      <td>1</td>\n",
       "      <td>0</td>\n",
       "      <td>0</td>\n",
       "      <td>0</td>\n",
       "      <td>0</td>\n",
       "      <td>0</td>\n",
       "      <td>0</td>\n",
       "      <td>0.125</td>\n",
       "      <td>0.098</td>\n",
       "      <td>0.049</td>\n",
       "      <td>0.079</td>\n",
       "      <td>0</td>\n",
       "    </tr>\n",
       "  </tbody>\n",
       "</table>\n",
       "</div>"
      ],
      "text/plain": [
       "   Pan I.D.   Expend $  Income  HH Size  IPT  Quantity  Brand 1  Brand  2  \\\n",
       "0         1  40.900002       9        2    5         2        0         0   \n",
       "1         1  16.809999       9        2    5         2        0         1   \n",
       "2         1   4.060000       9        2    1         2        0         1   \n",
       "3         1  34.459999       9        2    4         2        0         1   \n",
       "4         1   8.390000       9        2    7         2        0         1   \n",
       "\n",
       "   Brand 3  Brand 4  Feature 1  Feature 2  Feature 3  Feature 4  Price 1  \\\n",
       "0        0        1          0          0          0          0    0.108   \n",
       "1        0        0          0          0          0          0    0.108   \n",
       "2        0        0          0          0          0          0    0.108   \n",
       "3        0        0          0          0          0          0    0.108   \n",
       "4        0        0          0          0          0          0    0.125   \n",
       "\n",
       "   Price 2  Price 3  Price 4  PanelistFirstObs  \n",
       "0    0.081    0.061    0.079                 1  \n",
       "1    0.098    0.064    0.075                 0  \n",
       "2    0.098    0.061    0.086                 0  \n",
       "3    0.098    0.061    0.086                 0  \n",
       "4    0.098    0.049    0.079                 0  "
      ]
     },
     "execution_count": 73,
     "metadata": {},
     "output_type": "execute_result"
    }
   ],
   "source": [
    "df=pd.read_excel(\"Yogurt100N.csv.xlsx\")\n",
    "df.describe()\n",
    "df.head()"
   ]
  },
  {
   "cell_type": "markdown",
   "metadata": {},
   "source": [
    "### Simple Logit on Yogurt Data"
   ]
  },
  {
   "cell_type": "code",
   "execution_count": 235,
   "metadata": {},
   "outputs": [
    {
     "name": "stdout",
     "output_type": "stream",
     "text": [
      " a1 (Intrinsic brand preference for Brand 1): 1.3877493848693059 \n",
      " a2 (Intrinsic brand preference for Brand 2): 0.6435046305879636 \n",
      " a3 (Intrinsic brand preference for Brand 3): -3.0861119572117355 \n",
      " bf (Coefficients for feature variable): 0.4874149107851659 \n",
      " bp (Coefficients for price variable): -37.057782766093105 \n",
      " Maximized Log Likelihood: -2658.5566975071233\n"
     ]
    }
   ],
   "source": [
    "def crit(params,df):\n",
    "\n",
    "    a1,a2,a3,bf,bp=params\n",
    "    ev1=np.exp(a1+bf*df['Feature 1']+bp*df['Price 1'])\n",
    "    ev2=np.exp(a2+bf*df['Feature 2']+bp*df['Price 2'])\n",
    "    ev3=np.exp(a3+bf*df['Feature 3']+bp*df['Price 3'])\n",
    "    ev4=np.exp(0+bf*df['Feature 4']+bp*df['Price 4'])\n",
    "    denom=ev1+ev2+ev3+ev4\n",
    "    pc=(ev1*df['Brand 1']+ev2*df['Brand  2']+ev3*df['Brand 3']+ev4*df['Brand 4'])/denom\n",
    "    Inpc=np.log(pc)\n",
    "    LL=np.sum(Inpc)\n",
    "    return -LL\n",
    "a1,a2,a3,bf,bp=1,1,1,1,1 #Initalization\n",
    "params_init = np.array([a1,a2,a3,bf,bp])\n",
    "results = opt.minimize(crit, params_init,df)\n",
    "a1,a2,a3,bf,bp = results.x\n",
    "sigmaR=results.hess_inv\n",
    "print(\" a1 (Intrinsic brand preference for Brand 1):\",a1,\"\\n\",\n",
    "      \"a2 (Intrinsic brand preference for Brand 2):\",a2,\"\\n\",\n",
    "      \"a3 (Intrinsic brand preference for Brand 3):\",a3,\"\\n\",\n",
    "      \"bf (Coefficients for feature variable):\",bf,\"\\n\",\n",
    "      \"bp (Coefficients for price variable):\",bp,\"\\n\",\n",
    "      \"Maximized Log Likelihood:\",-results.fun)"
   ]
  },
  {
   "cell_type": "markdown",
   "metadata": {},
   "source": [
    "### Elasticity with I.I.A assumption"
   ]
  },
  {
   "cell_type": "code",
   "execution_count": 75,
   "metadata": {},
   "outputs": [],
   "source": [
    "#Own elasticities\n",
    "e11=np.mean((bf*df['Feature 1']+bp*df['Price 1'])*(1-df['Price 1']))\n",
    "e22=np.mean((bf*df['Feature 2']+bp*df['Price 2'])*(1-df['Price 2']))\n",
    "e33=np.mean((bf*df['Feature 3']+bp*df['Price 3'])*(1-df['Price 3']))\n",
    "e44=np.mean((bf*df['Feature 4']+bp*df['Price 4'])*(1-df['Price 4']))"
   ]
  },
  {
   "cell_type": "code",
   "execution_count": 76,
   "metadata": {},
   "outputs": [],
   "source": [
    "#Property of Logit Model: for all j != k, the cross elasticity will be the same.\n",
    "e21=e31=e41=np.mean(-(bf*df['Feature 1']+bp*df['Price 1'])*(df['Price 1']))\n",
    "e12=e32=e42=np.mean(-(bf*df['Feature 2']+bp*df['Price 2'])*(df['Price 2']))\n",
    "e13=e23=e43=np.mean(-(bf*df['Feature 3']+bp*df['Price 3'])*(df['Price 3']))\n",
    "e14=e24=e34=np.mean(-(bf*df['Feature 4']+bp*df['Price 4'])*(df['Price 4']))"
   ]
  },
  {
   "cell_type": "code",
   "execution_count": 77,
   "metadata": {},
   "outputs": [
    {
     "name": "stdout",
     "output_type": "stream",
     "text": [
      "Elasiticy Matrix with Simple Logit Model\n"
     ]
    },
    {
     "data": {
      "text/html": [
       "<div>\n",
       "<style scoped>\n",
       "    .dataframe tbody tr th:only-of-type {\n",
       "        vertical-align: middle;\n",
       "    }\n",
       "\n",
       "    .dataframe tbody tr th {\n",
       "        vertical-align: top;\n",
       "    }\n",
       "\n",
       "    .dataframe thead th {\n",
       "        text-align: right;\n",
       "    }\n",
       "</style>\n",
       "<table border=\"1\" class=\"dataframe\">\n",
       "  <thead>\n",
       "    <tr style=\"text-align: right;\">\n",
       "      <th></th>\n",
       "      <th>Brand 1</th>\n",
       "      <th>Brand2</th>\n",
       "      <th>Brand 3</th>\n",
       "      <th>Brand 4</th>\n",
       "    </tr>\n",
       "  </thead>\n",
       "  <tbody>\n",
       "    <tr>\n",
       "      <th>Brand 1</th>\n",
       "      <td>-3.478799</td>\n",
       "      <td>0.249660</td>\n",
       "      <td>0.108242</td>\n",
       "      <td>0.235253</td>\n",
       "    </tr>\n",
       "    <tr>\n",
       "      <th>Brand 2</th>\n",
       "      <td>0.431428</td>\n",
       "      <td>-2.752467</td>\n",
       "      <td>0.108242</td>\n",
       "      <td>0.235253</td>\n",
       "    </tr>\n",
       "    <tr>\n",
       "      <th>Brand 3</th>\n",
       "      <td>0.431428</td>\n",
       "      <td>0.249660</td>\n",
       "      <td>-1.860610</td>\n",
       "      <td>0.235253</td>\n",
       "    </tr>\n",
       "    <tr>\n",
       "      <th>Brand 4</th>\n",
       "      <td>0.431428</td>\n",
       "      <td>0.249660</td>\n",
       "      <td>0.108242</td>\n",
       "      <td>-2.692863</td>\n",
       "    </tr>\n",
       "  </tbody>\n",
       "</table>\n",
       "</div>"
      ],
      "text/plain": [
       "          Brand 1    Brand2   Brand 3   Brand 4\n",
       "Brand 1 -3.478799  0.249660  0.108242  0.235253\n",
       "Brand 2  0.431428 -2.752467  0.108242  0.235253\n",
       "Brand 3  0.431428  0.249660 -1.860610  0.235253\n",
       "Brand 4  0.431428  0.249660  0.108242 -2.692863"
      ]
     },
     "execution_count": 77,
     "metadata": {},
     "output_type": "execute_result"
    }
   ],
   "source": [
    "mat=pd.DataFrame({\"Brand 1\":[e11,e21,e31,e41], \"Brand2\":[e12,e22,e32,e42],\n",
    "                  \"Brand 3\":[e13,e23,e33,e43],'Brand 4':[e14,e24,e34,e44]})\n",
    "mat.index=[\"Brand 1\",\"Brand 2\", \"Brand 3\", \"Brand 4\"]\n",
    "print(\"Elasiticy Matrix with Simple Logit Model\")\n",
    "mat"
   ]
  },
  {
   "cell_type": "markdown",
   "metadata": {},
   "source": [
    "### Nested Logit Model on Yogurt Data"
   ]
  },
  {
   "cell_type": "markdown",
   "metadata": {},
   "source": [
    "#### Brands 1~3 in one nest and 4 in another "
   ]
  },
  {
   "cell_type": "code",
   "execution_count": 78,
   "metadata": {},
   "outputs": [],
   "source": [
    "def nestedlogit(params):\n",
    "\n",
    "    a1,a2,a3,bf,bp,theta=params \n",
    "    rho=np.exp(theta)/(np.exp(theta)+1)\n",
    "    ev1=np.exp((a1+bf*df['Feature 1']+bp*df['Price 1'])/rho)\n",
    "    ev2=np.exp((a2+bf*df['Feature 2']+bp*df['Price 2'])/rho)\n",
    "    ev3=np.exp((a3+bf*df['Feature 3']+bp*df['Price 3'])/rho)\n",
    "    ev4=np.exp(0+bf*df['Feature 4']+bp*df['Price 4'])\n",
    "    denom=ev1+ev2+ev3\n",
    "    P4=ev4/(np.power(denom,rho)+ev4)\n",
    "    P1=(1-P4)*ev1/denom\n",
    "    P2=(1-P4)*ev2/denom\n",
    "    P3=(1-P4)*ev3/denom\n",
    "        \n",
    "    pc=(P1*df['Brand 1']+P2*df['Brand  2']+P3*df['Brand 3']+P4*df['Brand 4'])\n",
    "    Inpc=np.log(pc)\n",
    "    LL=np.sum(Inpc)\n",
    "    return -LL"
   ]
  },
  {
   "cell_type": "code",
   "execution_count": 79,
   "metadata": {},
   "outputs": [
    {
     "name": "stdout",
     "output_type": "stream",
     "text": [
      " a1 (Intrinsic brand preference for Brand 1): 1.3816689432731886 \n",
      " a2 (Intrinsic brand preference for Brand 2): 0.8394218694834024 \n",
      " a3 (Intrinsic brand preference for Brand 3): -1.6585023784518325 \n",
      " bf (Coefficients for feature variable): 0.3744679884335011 \n",
      " bp (Coefficients for price variable): -26.58112038547648 \n",
      " rho (Correlation variable): 0.6433848076286417 \n",
      " Maximized Log Likelihood: -2653.7645999847773\n"
     ]
    }
   ],
   "source": [
    "a1,a2,a3,bf,bp,theta=1,1,1,1,1,1 #Initalization\n",
    "params_init = np.array([a1,a2,a3,bf,bp,theta])\n",
    "results = opt.minimize(nestedlogit, params_init)\n",
    "a1,a2,a3,bf,bp,theta = results.x\n",
    "rho=np.exp(theta)/(np.exp(theta)+1)\n",
    "print(\" a1 (Intrinsic brand preference for Brand 1):\",a1,\"\\n\",\n",
    "      \"a2 (Intrinsic brand preference for Brand 2):\",a2,\"\\n\",\n",
    "      \"a3 (Intrinsic brand preference for Brand 3):\",a3,\"\\n\",\n",
    "      \"bf (Coefficients for feature variable):\",bf,\"\\n\",\n",
    "      \"bp (Coefficients for price variable):\",bp,\"\\n\",\n",
    "      \"rho (Correlation variable):\",rho,\"\\n\",\n",
    "      \"Maximized Log Likelihood:\",-results.fun)"
   ]
  },
  {
   "cell_type": "code",
   "execution_count": 80,
   "metadata": {},
   "outputs": [
    {
     "name": "stdout",
     "output_type": "stream",
     "text": [
      "Standard error for a1 estimate =  0.07125745085397713\n",
      "Standard error for a2 estimate =  0.0498364392238186\n",
      "Standard error for a3 estimate =  0.023037025008121905\n",
      "Standard error for bf estimate =  0.08637968526841336\n",
      "Standard error for bp estimate =  1.4536600440077279\n",
      "Standard error for theta estimate =  0.1084251269080594\n"
     ]
    }
   ],
   "source": [
    "vcv_mle = results.hess_inv\n",
    "stderr_a1_mle = np.sqrt(vcv_mle[0,0])\n",
    "stderr_a2_mle = np.sqrt(vcv_mle[1,1])\n",
    "stderr_a3_mle = np.sqrt(vcv_mle[2,2])\n",
    "stderr_bf_mle = np.sqrt(vcv_mle[3,3])\n",
    "stderr_bp_mle = np.sqrt(vcv_mle[4,4])\n",
    "stderr_theta_mle = np.sqrt(vcv_mle[5,5])\n",
    "\n",
    "print('Standard error for a1 estimate = ', stderr_a1_mle)\n",
    "print('Standard error for a2 estimate = ', stderr_a2_mle)\n",
    "print('Standard error for a3 estimate = ', stderr_a3_mle)\n",
    "print('Standard error for bf estimate = ', stderr_bf_mle)\n",
    "print('Standard error for bp estimate = ', stderr_bp_mle)\n",
    "print('Standard error for theta estimate = ', stderr_theta_mle)"
   ]
  },
  {
   "cell_type": "markdown",
   "metadata": {},
   "source": [
    "### Elasticity when I.I.A assumption is violated"
   ]
  },
  {
   "cell_type": "code",
   "execution_count": 81,
   "metadata": {},
   "outputs": [],
   "source": [
    "ev1=np.exp((a1+bf*df['Feature 1']+bp*df['Price 1'])/rho)\n",
    "ev2=np.exp((a2+bf*df['Feature 2']+bp*df['Price 2'])/rho)\n",
    "ev3=np.exp((a3+bf*df['Feature 3']+bp*df['Price 3'])/rho)\n",
    "ev4=np.exp(0+bf*df['Feature 4']+bp*df['Price 4'])\n",
    "denom=ev1+ev2+ev3\n",
    "P4=ev4/(np.power(denom,rho)+ev4)\n",
    "P1=(1-P4)*ev1/denom\n",
    "P2=(1-P4)*ev2/denom\n",
    "P3=(1-P4)*ev3/denom\n",
    "#Own Elasticities\n",
    "e11=np.mean((bf*df['Feature 1']+bp*df['Price 1'])*((1/rho)+(ev1/denom)*(1-1/rho)-P1))\n",
    "e22=np.mean((bf*df['Feature 2']+bp*df['Price 2'])*((1/rho)+(ev2/denom)*(1-1/rho)-P2))\n",
    "e33=np.mean((bf*df['Feature 3']+bp*df['Price 3'])*((1/rho)+(ev3/denom)*(1-1/rho)-P3))\n",
    "e44=np.mean((bf*df['Feature 4']+bp*df['Price 4'])*((1/rho)+P4*(1-1/rho)-P1))"
   ]
  },
  {
   "cell_type": "code",
   "execution_count": 82,
   "metadata": {},
   "outputs": [
    {
     "name": "stdout",
     "output_type": "stream",
     "text": [
      "Elasiticy Matrix with Model 1 (Nest 1: 1~3; Nest 2: 4)\n"
     ]
    },
    {
     "data": {
      "text/html": [
       "<div>\n",
       "<style scoped>\n",
       "    .dataframe tbody tr th:only-of-type {\n",
       "        vertical-align: middle;\n",
       "    }\n",
       "\n",
       "    .dataframe tbody tr th {\n",
       "        vertical-align: top;\n",
       "    }\n",
       "\n",
       "    .dataframe thead th {\n",
       "        text-align: right;\n",
       "    }\n",
       "</style>\n",
       "<table border=\"1\" class=\"dataframe\">\n",
       "  <thead>\n",
       "    <tr style=\"text-align: right;\">\n",
       "      <th></th>\n",
       "      <th>Brand 1</th>\n",
       "      <th>Brand2</th>\n",
       "      <th>Brand 3</th>\n",
       "      <th>Brand 4</th>\n",
       "    </tr>\n",
       "  </thead>\n",
       "  <tbody>\n",
       "    <tr>\n",
       "      <th>Brand 1</th>\n",
       "      <td>-2.862330</td>\n",
       "      <td>-2.060837</td>\n",
       "      <td>-1.370846</td>\n",
       "      <td>0.470184</td>\n",
       "    </tr>\n",
       "    <tr>\n",
       "      <th>Brand 2</th>\n",
       "      <td>-2.305927</td>\n",
       "      <td>-1.894288</td>\n",
       "      <td>-1.208777</td>\n",
       "      <td>0.470184</td>\n",
       "    </tr>\n",
       "    <tr>\n",
       "      <th>Brand 3</th>\n",
       "      <td>-4.206838</td>\n",
       "      <td>-3.232809</td>\n",
       "      <td>-2.129334</td>\n",
       "      <td>0.470184</td>\n",
       "    </tr>\n",
       "    <tr>\n",
       "      <th>Brand 4</th>\n",
       "      <td>0.867566</td>\n",
       "      <td>0.839326</td>\n",
       "      <td>0.037066</td>\n",
       "      <td>-2.288338</td>\n",
       "    </tr>\n",
       "  </tbody>\n",
       "</table>\n",
       "</div>"
      ],
      "text/plain": [
       "          Brand 1    Brand2   Brand 3   Brand 4\n",
       "Brand 1 -2.862330 -2.060837 -1.370846  0.470184\n",
       "Brand 2 -2.305927 -1.894288 -1.208777  0.470184\n",
       "Brand 3 -4.206838 -3.232809 -2.129334  0.470184\n",
       "Brand 4  0.867566  0.839326  0.037066 -2.288338"
      ]
     },
     "execution_count": 82,
     "metadata": {},
     "output_type": "execute_result"
    }
   ],
   "source": [
    "e41=np.mean(-(bf*df['Feature 1']+bp*df['Price 1'])*(P1))\n",
    "e42=np.mean(-(bf*df['Feature 2']+bp*df['Price 2'])*(P2))\n",
    "e43=np.mean(-(bf*df['Feature 3']+bp*df['Price 3'])*(P3))\n",
    "e14=e24=e34=np.mean(-(bf*df['Feature 4']+bp*df['Price 4'])*(P4))\n",
    "\n",
    "e12=np.mean((bf*df['Feature 2']+bp*df['Price 2'])*((1/rho)+(ev1/denom)*(1-1/rho)-P1))\n",
    "e13=np.mean((bf*df['Feature 3']+bp*df['Price 3'])*((1/rho)+(ev1/denom)*(1-1/rho)-P1))\n",
    "e21=np.mean((bf*df['Feature 1']+bp*df['Price 1'])*((1/rho)+(ev2/denom)*(1-1/rho)-P2))\n",
    "e23=np.mean((bf*df['Feature 3']+bp*df['Price 3'])*((1/rho)+(ev2/denom)*(1-1/rho)-P2))\n",
    "e32=np.mean((bf*df['Feature 2']+bp*df['Price 2'])*((1/rho)+(ev3/denom)*(1-1/rho)-P3))\n",
    "e31=np.mean((bf*df['Feature 1']+bp*df['Price 1'])*((1/rho)+(ev3/denom)*(1-1/rho)-P3))\n",
    "\n",
    "mat=pd.DataFrame({\"Brand 1\":[e11,e21,e31,e41], \"Brand2\":[e12,e22,e32,e42],\n",
    "                  \"Brand 3\":[e13,e23,e33,e43],'Brand 4':[e14,e24,e34,e44]})\n",
    "mat.index=[\"Brand 1\",\"Brand 2\", \"Brand 3\", \"Brand 4\"]\n",
    "print(\"Elasiticy Matrix with Model 1 (Nest 1: 1~3; Nest 2: 4)\")\n",
    "mat"
   ]
  },
  {
   "cell_type": "markdown",
   "metadata": {},
   "source": [
    "### IIA Test"
   ]
  },
  {
   "cell_type": "markdown",
   "metadata": {},
   "source": [
    "MTT(McFadden, Train, Tye)"
   ]
  },
  {
   "cell_type": "code",
   "execution_count": 90,
   "metadata": {},
   "outputs": [
    {
     "data": {
      "text/plain": [
       "-3046.9511846920705"
      ]
     },
     "execution_count": 90,
     "metadata": {},
     "output_type": "execute_result"
    }
   ],
   "source": [
    "#Drop a1 to fit a restricted logit model\n",
    "a2,a3,bf,bp=0.6435046305879636,-3.0861119572117355, 0.4874149107851659,-37.057782766093105 \n",
    "ev1=np.exp(bf*df['Feature 1']+bp*df['Price 1'])\n",
    "ev2=np.exp(a2+bf*df['Feature 2']+bp*df['Price 2'])\n",
    "ev3=np.exp(a3+bf*df['Feature 3']+bp*df['Price 3'])\n",
    "ev4=np.exp(0+bf*df['Feature 4']+bp*df['Price 4'])\n",
    "denom=ev1+ev2+ev3+ev4\n",
    "pc=(ev1*df['Brand 1']+ev2*df['Brand  2']+ev3*df['Brand 3']+ev4*df['Brand 4'])/denom\n",
    "Inpc=np.log(pc)\n",
    "LLFR=np.sum(Inpc)\n",
    "LLFR"
   ]
  },
  {
   "cell_type": "code",
   "execution_count": 101,
   "metadata": {},
   "outputs": [
    {
     "data": {
      "text/plain": [
       "-2811.1557606390343"
      ]
     },
     "execution_count": 101,
     "metadata": {},
     "output_type": "execute_result"
    }
   ],
   "source": [
    "def crit2(params):\n",
    "\n",
    "    a2,a3,bf,bp=params\n",
    "    ev1=np.exp(bf*df['Feature 1']+bp*df['Price 1'])\n",
    "    ev2=np.exp(a2+bf*df['Feature 2']+bp*df['Price 2'])\n",
    "    ev3=np.exp(a3+bf*df['Feature 3']+bp*df['Price 3'])\n",
    "    ev4=np.exp(0+bf*df['Feature 4']+bp*df['Price 4'])\n",
    "    denom=ev1+ev2+ev3+ev4\n",
    "    pc=(ev1*df['Brand 1']+ev2*df['Brand  2']+ev3*df['Brand 3']+ev4*df['Brand 4'])/denom\n",
    "    Inpc=np.log(pc)\n",
    "    LL=np.sum(Inpc)\n",
    "    return -LL\n",
    "a2r,a3r,bfr,bpr=1,1,1,1 #Initalization\n",
    "params_init = np.array([a2,a3,bf,bp])\n",
    "results = opt.minimize(crit2, params_init)\n",
    "a2r,a3r,bfr,bpr = results.x\n",
    "sigmaFR=results.hess_inv\n",
    "LLR=-results.fun\n",
    "LLR"
   ]
  },
  {
   "cell_type": "code",
   "execution_count": 89,
   "metadata": {},
   "outputs": [
    {
     "data": {
      "text/plain": [
       "471.59084810507375"
      ]
     },
     "execution_count": 89,
     "metadata": {},
     "output_type": "execute_result"
    }
   ],
   "source": [
    "#MMT Formula\n",
    "MMT=-2*(LLU-LLR)\n",
    "MMT"
   ]
  },
  {
   "cell_type": "code",
   "execution_count": 86,
   "metadata": {},
   "outputs": [
    {
     "data": {
      "text/plain": [
       "0.0"
      ]
     },
     "execution_count": 86,
     "metadata": {},
     "output_type": "execute_result"
    }
   ],
   "source": [
    "from scipy.stats import chi2\n",
    "1 - chi2.cdf(MMT, 3)"
   ]
  },
  {
   "cell_type": "markdown",
   "metadata": {},
   "source": [
    "Harbar McFadden"
   ]
  },
  {
   "cell_type": "code",
   "execution_count": 131,
   "metadata": {},
   "outputs": [
    {
     "data": {
      "text/plain": [
       "matrix([[215.08755288]])"
      ]
     },
     "execution_count": 131,
     "metadata": {},
     "output_type": "execute_result"
    }
   ],
   "source": [
    "from numpy import matrix\n",
    "A=matrix(sigmaR[1:,1:]-sigmaFR)\n",
    "paraR=np.array([a2r,a3r,bfr,bpr])\n",
    "paraFR=np.array([a2,a3,bf,bp])\n",
    "paradiff=(paraR-paraFR)\n",
    "paradiff*A.I*paradiff.reshape(4,1)"
   ]
  },
  {
   "cell_type": "markdown",
   "metadata": {},
   "source": [
    "#### Observable heterogeneity model with a priori "
   ]
  },
  {
   "cell_type": "markdown",
   "metadata": {},
   "source": [
    "Motivation: use demographical information to divide customers into segments\n",
    "\n",
    "For Yogurt Data, we divide the customers into four segments based on income level and household size."
   ]
  },
  {
   "cell_type": "code",
   "execution_count": 138,
   "metadata": {},
   "outputs": [
    {
     "data": {
      "text/html": [
       "<div>\n",
       "<style scoped>\n",
       "    .dataframe tbody tr th:only-of-type {\n",
       "        vertical-align: middle;\n",
       "    }\n",
       "\n",
       "    .dataframe tbody tr th {\n",
       "        vertical-align: top;\n",
       "    }\n",
       "\n",
       "    .dataframe thead th {\n",
       "        text-align: right;\n",
       "    }\n",
       "</style>\n",
       "<table border=\"1\" class=\"dataframe\">\n",
       "  <thead>\n",
       "    <tr style=\"text-align: right;\">\n",
       "      <th></th>\n",
       "      <th>Income</th>\n",
       "      <th>HH Size</th>\n",
       "    </tr>\n",
       "  </thead>\n",
       "  <tbody>\n",
       "    <tr>\n",
       "      <th>count</th>\n",
       "      <td>2430.000000</td>\n",
       "      <td>2430.000000</td>\n",
       "    </tr>\n",
       "    <tr>\n",
       "      <th>mean</th>\n",
       "      <td>8.720988</td>\n",
       "      <td>2.802058</td>\n",
       "    </tr>\n",
       "    <tr>\n",
       "      <th>std</th>\n",
       "      <td>3.800654</td>\n",
       "      <td>1.173291</td>\n",
       "    </tr>\n",
       "    <tr>\n",
       "      <th>min</th>\n",
       "      <td>1.000000</td>\n",
       "      <td>1.000000</td>\n",
       "    </tr>\n",
       "    <tr>\n",
       "      <th>25%</th>\n",
       "      <td>6.000000</td>\n",
       "      <td>2.000000</td>\n",
       "    </tr>\n",
       "    <tr>\n",
       "      <th>50%</th>\n",
       "      <td>9.000000</td>\n",
       "      <td>3.000000</td>\n",
       "    </tr>\n",
       "    <tr>\n",
       "      <th>75%</th>\n",
       "      <td>12.000000</td>\n",
       "      <td>4.000000</td>\n",
       "    </tr>\n",
       "    <tr>\n",
       "      <th>max</th>\n",
       "      <td>14.000000</td>\n",
       "      <td>6.000000</td>\n",
       "    </tr>\n",
       "  </tbody>\n",
       "</table>\n",
       "</div>"
      ],
      "text/plain": [
       "            Income      HH Size\n",
       "count  2430.000000  2430.000000\n",
       "mean      8.720988     2.802058\n",
       "std       3.800654     1.173291\n",
       "min       1.000000     1.000000\n",
       "25%       6.000000     2.000000\n",
       "50%       9.000000     3.000000\n",
       "75%      12.000000     4.000000\n",
       "max      14.000000     6.000000"
      ]
     },
     "execution_count": 138,
     "metadata": {},
     "output_type": "execute_result"
    }
   ],
   "source": [
    "df[['Income','HH Size']].describe()"
   ]
  },
  {
   "cell_type": "code",
   "execution_count": 211,
   "metadata": {},
   "outputs": [],
   "source": [
    "#Low Income, Small HH Size\n",
    "seg1=df[(df['Income']<9) & (df['HH Size']<3)]\n",
    "n1=seg1.shape[0]"
   ]
  },
  {
   "cell_type": "code",
   "execution_count": 212,
   "metadata": {},
   "outputs": [],
   "source": [
    "#High Income, Small HH Size\n",
    "seg2=df[(df['Income']>=9) & (df['HH Size']<3)]\n",
    "n2=seg2.shape[0]"
   ]
  },
  {
   "cell_type": "code",
   "execution_count": 213,
   "metadata": {},
   "outputs": [],
   "source": [
    "#Low Income, Large HH Size\n",
    "seg3=df[(df['Income']<9) & (df['HH Size']>=3)]\n",
    "n3=seg3.shape[0]"
   ]
  },
  {
   "cell_type": "code",
   "execution_count": 214,
   "metadata": {},
   "outputs": [],
   "source": [
    "#High Income, Large HH Size\n",
    "seg4=df[(df['Income']>=9) & (df['HH Size']>=3)]\n",
    "n4=seg4.shape[0]"
   ]
  },
  {
   "cell_type": "code",
   "execution_count": 237,
   "metadata": {},
   "outputs": [],
   "source": [
    "def BIC(data):\n",
    "    params_init = np.array([a1,a2,a3,bf,bp])\n",
    "    results = opt.minimize(crit, params_init,data)\n",
    "    n=data.shape[0]\n",
    "    return np.log(n)*(5+2)-2*(-results.fun)"
   ]
  },
  {
   "cell_type": "code",
   "execution_count": 260,
   "metadata": {},
   "outputs": [
    {
     "data": {
      "text/html": [
       "<div>\n",
       "<style scoped>\n",
       "    .dataframe tbody tr th:only-of-type {\n",
       "        vertical-align: middle;\n",
       "    }\n",
       "\n",
       "    .dataframe tbody tr th {\n",
       "        vertical-align: top;\n",
       "    }\n",
       "\n",
       "    .dataframe thead th {\n",
       "        text-align: right;\n",
       "    }\n",
       "</style>\n",
       "<table border=\"1\" class=\"dataframe\">\n",
       "  <thead>\n",
       "    <tr style=\"text-align: right;\">\n",
       "      <th></th>\n",
       "      <th>BIC</th>\n",
       "    </tr>\n",
       "  </thead>\n",
       "  <tbody>\n",
       "    <tr>\n",
       "      <th>Seg 1</th>\n",
       "      <td>1345.463511</td>\n",
       "    </tr>\n",
       "    <tr>\n",
       "      <th>Seg 2</th>\n",
       "      <td>1263.959099</td>\n",
       "    </tr>\n",
       "    <tr>\n",
       "      <th>Seg 3</th>\n",
       "      <td>1003.496163</td>\n",
       "    </tr>\n",
       "    <tr>\n",
       "      <th>Seg 4</th>\n",
       "      <td>1656.280668</td>\n",
       "    </tr>\n",
       "    <tr>\n",
       "      <th>Avg BIC</th>\n",
       "      <td>1317.299860</td>\n",
       "    </tr>\n",
       "    <tr>\n",
       "      <th>25% of Full Model</th>\n",
       "      <td>1342.920730</td>\n",
       "    </tr>\n",
       "  </tbody>\n",
       "</table>\n",
       "</div>"
      ],
      "text/plain": [
       "                          BIC \n",
       "Seg 1              1345.463511\n",
       "Seg 2              1263.959099\n",
       "Seg 3              1003.496163\n",
       "Seg 4              1656.280668\n",
       "Avg BIC            1317.299860\n",
       "25% of Full Model  1342.920730"
      ]
     },
     "execution_count": 260,
     "metadata": {},
     "output_type": "execute_result"
    }
   ],
   "source": [
    "tab=pd.DataFrame({'BIC ':[BIC(seg1),BIC(seg2),BIC(seg3),BIC(seg4),\n",
    "                          (BIC(seg1)+BIC(seg2)+BIC(seg3)+BIC(seg4))/4,BIC(df)/4]},\n",
    "                 index=[\"Seg 1\",\"Seg 2\",\"Seg 3\",\"Seg 4\",\"Avg BIC\",\"25% of Full Model\"])\n",
    "tab"
   ]
  },
  {
   "cell_type": "markdown",
   "metadata": {},
   "source": [
    "The average BIC of four models is close to the 25% of the BIC from full logit model.\n",
    "\n",
    "There exists heterogeneity among this four groups, as the BIC changes greatly when one condition varies."
   ]
  },
  {
   "cell_type": "markdown",
   "metadata": {},
   "source": [
    "#### Observable heterogeneity model with interactions "
   ]
  },
  {
   "cell_type": "code",
   "execution_count": 275,
   "metadata": {},
   "outputs": [
    {
     "name": "stdout",
     "output_type": "stream",
     "text": [
      "Maximized Log Likelihood: -2537.4825261515534\n"
     ]
    }
   ],
   "source": [
    "def crit(params,df):\n",
    "\n",
    "    a11,a1i,a1h,a22,a2i,a2h,a33,a3i,a3h,bf,bp,bfi,bfh,bpi,bph=params\n",
    "    \n",
    "    a1=a11+a1i*df[\"Income\"]+a1h*df[\"HH Size\"]\n",
    "    a2=a22+a2i*df[\"Income\"]+a2h*df[\"HH Size\"]\n",
    "    a3=a33+a3i*df[\"Income\"]+a3h*df[\"HH Size\"]\n",
    "    \n",
    "    bfi=bf+bfi*df[\"Income\"]+bfh*df[\"HH Size\"]\n",
    "    bpi=bp+bpi*df[\"Income\"]+bph*df[\"HH Size\"]\n",
    "    ev1=np.exp(a1+bfi*df['Feature 1']+bpi*df['Price 1'])\n",
    "    ev2=np.exp(a2+bfi*df['Feature 2']+bpi*df['Price 2'])\n",
    "    ev3=np.exp(a3+bfi*df['Feature 3']+bpi*df['Price 3'])\n",
    "    ev4=np.exp(0+bfi*df['Feature 4']+bpi*df['Price 4'])\n",
    "    denom=ev1+ev2+ev3+ev4\n",
    "    pc=(ev1*df['Brand 1']+ev2*df['Brand  2']+ev3*df['Brand 3']+ev4*df['Brand 4'])/denom\n",
    "    Inpc=np.log(pc)\n",
    "    LL=np.sum(Inpc)\n",
    "    return -LL\n",
    "a11,a1i,a1h,a22,a2i,a2h,a33,a3i,a3h,bf,bp,bfi,bfh,bpi,bph=1,1,1,1,1,1,1,1,1,1,1,1,1,1,1\n",
    "params_init = np.array([a11,a1i,a1h,a22,a2i,a2h,a33,a3i,a3h,bf,bp,bfi,bfh,bpi,bph])\n",
    "results = opt.minimize(crit, params_init,df)\n",
    "a11,a1i,a1h,a22,a2i,a2h,a33,a3i,a3h,bf,bp,bfi,bfh,bpi,bph= results.x\n",
    "print(\"Maximized Log Likelihood:\",-results.fun)"
   ]
  },
  {
   "cell_type": "markdown",
   "metadata": {},
   "source": [
    "$\\alpha_1=0.51-0.097*Inc+0.617*HH$\n",
    "\n",
    "$\\alpha_2=1.19-0.119*Inc+0.196*HH$\n",
    "\n",
    "$\\alpha_3=-1.88-0.293*Inc+0.373*HH$\n",
    "\n",
    "$\\beta_f=0.542-0.089*Inc+0.219*HH$\n",
    "\n",
    "$\\beta_p=-40+1.22*Inc-2.458*HH$\n"
   ]
  },
  {
   "cell_type": "code",
   "execution_count": 287,
   "metadata": {},
   "outputs": [
    {
     "data": {
      "text/html": [
       "<div>\n",
       "<style scoped>\n",
       "    .dataframe tbody tr th:only-of-type {\n",
       "        vertical-align: middle;\n",
       "    }\n",
       "\n",
       "    .dataframe tbody tr th {\n",
       "        vertical-align: top;\n",
       "    }\n",
       "\n",
       "    .dataframe thead th {\n",
       "        text-align: right;\n",
       "    }\n",
       "</style>\n",
       "<table border=\"1\" class=\"dataframe\">\n",
       "  <thead>\n",
       "    <tr style=\"text-align: right;\">\n",
       "      <th></th>\n",
       "      <th>Mean Value of Parameters</th>\n",
       "      <th>CI Left</th>\n",
       "      <th>CI Right</th>\n",
       "    </tr>\n",
       "  </thead>\n",
       "  <tbody>\n",
       "    <tr>\n",
       "      <th>a11</th>\n",
       "      <td>0.510290</td>\n",
       "      <td>0.187368</td>\n",
       "      <td>0.833211</td>\n",
       "    </tr>\n",
       "    <tr>\n",
       "      <th>a1i</th>\n",
       "      <td>-0.097419</td>\n",
       "      <td>-0.129433</td>\n",
       "      <td>-0.065405</td>\n",
       "    </tr>\n",
       "    <tr>\n",
       "      <th>a1h</th>\n",
       "      <td>0.616646</td>\n",
       "      <td>0.519699</td>\n",
       "      <td>0.713593</td>\n",
       "    </tr>\n",
       "    <tr>\n",
       "      <th>a22</th>\n",
       "      <td>1.190373</td>\n",
       "      <td>0.987831</td>\n",
       "      <td>1.392914</td>\n",
       "    </tr>\n",
       "    <tr>\n",
       "      <th>a2i</th>\n",
       "      <td>-0.118501</td>\n",
       "      <td>-0.143341</td>\n",
       "      <td>-0.093661</td>\n",
       "    </tr>\n",
       "    <tr>\n",
       "      <th>a2h</th>\n",
       "      <td>0.196365</td>\n",
       "      <td>0.099227</td>\n",
       "      <td>0.293502</td>\n",
       "    </tr>\n",
       "    <tr>\n",
       "      <th>a33</th>\n",
       "      <td>-1.884975</td>\n",
       "      <td>-2.344343</td>\n",
       "      <td>-1.425606</td>\n",
       "    </tr>\n",
       "    <tr>\n",
       "      <th>a3i</th>\n",
       "      <td>-0.292851</td>\n",
       "      <td>-0.368287</td>\n",
       "      <td>-0.217416</td>\n",
       "    </tr>\n",
       "    <tr>\n",
       "      <th>a3h</th>\n",
       "      <td>0.372958</td>\n",
       "      <td>0.175329</td>\n",
       "      <td>0.570587</td>\n",
       "    </tr>\n",
       "    <tr>\n",
       "      <th>bf</th>\n",
       "      <td>0.542250</td>\n",
       "      <td>0.136067</td>\n",
       "      <td>0.948433</td>\n",
       "    </tr>\n",
       "    <tr>\n",
       "      <th>bp</th>\n",
       "      <td>-40.113837</td>\n",
       "      <td>-40.682639</td>\n",
       "      <td>-39.545034</td>\n",
       "    </tr>\n",
       "    <tr>\n",
       "      <th>bfi</th>\n",
       "      <td>-0.089989</td>\n",
       "      <td>-0.157655</td>\n",
       "      <td>-0.022323</td>\n",
       "    </tr>\n",
       "    <tr>\n",
       "      <th>bfh</th>\n",
       "      <td>0.219042</td>\n",
       "      <td>0.028561</td>\n",
       "      <td>0.409523</td>\n",
       "    </tr>\n",
       "    <tr>\n",
       "      <th>bpi</th>\n",
       "      <td>1.220267</td>\n",
       "      <td>0.866704</td>\n",
       "      <td>1.573830</td>\n",
       "    </tr>\n",
       "    <tr>\n",
       "      <th>bph</th>\n",
       "      <td>-2.457922</td>\n",
       "      <td>-2.805825</td>\n",
       "      <td>-2.110018</td>\n",
       "    </tr>\n",
       "  </tbody>\n",
       "</table>\n",
       "</div>"
      ],
      "text/plain": [
       "     Mean Value of Parameters    CI Left   CI Right\n",
       "a11                  0.510290   0.187368   0.833211\n",
       "a1i                 -0.097419  -0.129433  -0.065405\n",
       "a1h                  0.616646   0.519699   0.713593\n",
       "a22                  1.190373   0.987831   1.392914\n",
       "a2i                 -0.118501  -0.143341  -0.093661\n",
       "a2h                  0.196365   0.099227   0.293502\n",
       "a33                 -1.884975  -2.344343  -1.425606\n",
       "a3i                 -0.292851  -0.368287  -0.217416\n",
       "a3h                  0.372958   0.175329   0.570587\n",
       "bf                   0.542250   0.136067   0.948433\n",
       "bp                 -40.113837 -40.682639 -39.545034\n",
       "bfi                 -0.089989  -0.157655  -0.022323\n",
       "bfh                  0.219042   0.028561   0.409523\n",
       "bpi                  1.220267   0.866704   1.573830\n",
       "bph                 -2.457922  -2.805825  -2.110018"
      ]
     },
     "execution_count": 287,
     "metadata": {},
     "output_type": "execute_result"
    }
   ],
   "source": [
    "para=[a11,a1i,a1h,a22,a2i,a2h,a33,a3i,a3h,bf,bp,bfi,bfh,bpi,bph]\n",
    "paraname=[\"a11\",\"a1i\",\"a1h\",\"a22\",\"a2i\",\"a2h\",\"a33\",\"a3i\",\"a3h\",\"bf\",\"bp\",\"bfi\",\"bfh\",\"bpi\",\"bph\"]\n",
    "\n",
    "vcv_mle = results.hess_inv\n",
    "CIlow,CIhigh=[],[]\n",
    "for i in range(len(para)):\n",
    "    std=np.sqrt(vcv_mle[i,i])\n",
    "    CIlow.append(para[i]-1.96*std)\n",
    "    CIhigh.append(para[i]+1.96*std)\n",
    "paratable=pd.DataFrame({\"Mean Value of Parameters\":para,\"CI Left\":CIlow,\"CI Right\":CIhigh},\n",
    "                       index=paraname)\n",
    "paratable"
   ]
  },
  {
   "cell_type": "markdown",
   "metadata": {},
   "source": [
    "All of the confidence interval doesn't contain 0 at 95% level. So they are all statistically significant. There exists heterogeneity for groups with different income and household size when responding to feature and price."
   ]
  }
 ],
 "metadata": {
  "kernelspec": {
   "display_name": "Python 3",
   "language": "python",
   "name": "python3"
  },
  "language_info": {
   "codemirror_mode": {
    "name": "ipython",
    "version": 3
   },
   "file_extension": ".py",
   "mimetype": "text/x-python",
   "name": "python",
   "nbconvert_exporter": "python",
   "pygments_lexer": "ipython3",
   "version": "3.7.1"
  }
 },
 "nbformat": 4,
 "nbformat_minor": 2
}
