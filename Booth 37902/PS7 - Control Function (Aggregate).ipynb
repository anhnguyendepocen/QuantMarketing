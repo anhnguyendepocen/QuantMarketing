{
 "cells": [
  {
   "cell_type": "markdown",
   "metadata": {},
   "source": [
    "Task:  control function approach (Petrin & Train, JMR) to account fot endogeneity with aggregate data"
   ]
  },
  {
   "cell_type": "code",
   "execution_count": 23,
   "metadata": {},
   "outputs": [],
   "source": [
    "import pandas as pd\n",
    "import numpy as np\n",
    "import statsmodels.api as sm\n",
    "import scipy.optimize as opt"
   ]
  },
  {
   "cell_type": "markdown",
   "metadata": {},
   "source": [
    "#### Read in Data"
   ]
  },
  {
   "cell_type": "code",
   "execution_count": 24,
   "metadata": {},
   "outputs": [
    {
     "data": {
      "text/html": [
       "<div>\n",
       "<style scoped>\n",
       "    .dataframe tbody tr th:only-of-type {\n",
       "        vertical-align: middle;\n",
       "    }\n",
       "\n",
       "    .dataframe tbody tr th {\n",
       "        vertical-align: top;\n",
       "    }\n",
       "\n",
       "    .dataframe thead th {\n",
       "        text-align: right;\n",
       "    }\n",
       "</style>\n",
       "<table border=\"1\" class=\"dataframe\">\n",
       "  <thead>\n",
       "    <tr style=\"text-align: right;\">\n",
       "      <th></th>\n",
       "      <th>Week</th>\n",
       "      <th>Share</th>\n",
       "      <th>Outside</th>\n",
       "      <th>Brand 1</th>\n",
       "      <th>Brand 2</th>\n",
       "      <th>Brand 3</th>\n",
       "      <th>Brand 4</th>\n",
       "      <th>Price</th>\n",
       "      <th>Feature</th>\n",
       "      <th>Display</th>\n",
       "      <th>F&amp;D</th>\n",
       "      <th>Spot 1</th>\n",
       "      <th>Spot 2</th>\n",
       "      <th>Spot 3</th>\n",
       "      <th>Spot 4</th>\n",
       "      <th>Spot 5</th>\n",
       "      <th>Spot 6</th>\n",
       "    </tr>\n",
       "  </thead>\n",
       "  <tbody>\n",
       "    <tr>\n",
       "      <th>0</th>\n",
       "      <td>1</td>\n",
       "      <td>0.005929</td>\n",
       "      <td>0.969501</td>\n",
       "      <td>1</td>\n",
       "      <td>0</td>\n",
       "      <td>0</td>\n",
       "      <td>0</td>\n",
       "      <td>4.29168</td>\n",
       "      <td>0.000000</td>\n",
       "      <td>0.000000</td>\n",
       "      <td>0.0</td>\n",
       "      <td>134</td>\n",
       "      <td>146</td>\n",
       "      <td>169</td>\n",
       "      <td>170</td>\n",
       "      <td>164</td>\n",
       "      <td>168</td>\n",
       "    </tr>\n",
       "    <tr>\n",
       "      <th>1</th>\n",
       "      <td>1</td>\n",
       "      <td>0.000732</td>\n",
       "      <td>0.969501</td>\n",
       "      <td>0</td>\n",
       "      <td>1</td>\n",
       "      <td>0</td>\n",
       "      <td>0</td>\n",
       "      <td>3.39696</td>\n",
       "      <td>0.000000</td>\n",
       "      <td>0.000000</td>\n",
       "      <td>0.0</td>\n",
       "      <td>134</td>\n",
       "      <td>146</td>\n",
       "      <td>169</td>\n",
       "      <td>170</td>\n",
       "      <td>164</td>\n",
       "      <td>168</td>\n",
       "    </tr>\n",
       "    <tr>\n",
       "      <th>2</th>\n",
       "      <td>1</td>\n",
       "      <td>0.016865</td>\n",
       "      <td>0.969501</td>\n",
       "      <td>0</td>\n",
       "      <td>0</td>\n",
       "      <td>1</td>\n",
       "      <td>0</td>\n",
       "      <td>2.93088</td>\n",
       "      <td>42.261265</td>\n",
       "      <td>0.000000</td>\n",
       "      <td>0.0</td>\n",
       "      <td>134</td>\n",
       "      <td>146</td>\n",
       "      <td>169</td>\n",
       "      <td>170</td>\n",
       "      <td>164</td>\n",
       "      <td>168</td>\n",
       "    </tr>\n",
       "    <tr>\n",
       "      <th>3</th>\n",
       "      <td>1</td>\n",
       "      <td>0.006973</td>\n",
       "      <td>0.969501</td>\n",
       "      <td>0</td>\n",
       "      <td>0</td>\n",
       "      <td>0</td>\n",
       "      <td>1</td>\n",
       "      <td>3.40096</td>\n",
       "      <td>0.000000</td>\n",
       "      <td>1.492933</td>\n",
       "      <td>0.0</td>\n",
       "      <td>134</td>\n",
       "      <td>146</td>\n",
       "      <td>169</td>\n",
       "      <td>170</td>\n",
       "      <td>164</td>\n",
       "      <td>168</td>\n",
       "    </tr>\n",
       "    <tr>\n",
       "      <th>4</th>\n",
       "      <td>2</td>\n",
       "      <td>0.006089</td>\n",
       "      <td>0.967560</td>\n",
       "      <td>1</td>\n",
       "      <td>0</td>\n",
       "      <td>0</td>\n",
       "      <td>0</td>\n",
       "      <td>4.29168</td>\n",
       "      <td>0.000000</td>\n",
       "      <td>0.000000</td>\n",
       "      <td>0.0</td>\n",
       "      <td>138</td>\n",
       "      <td>141</td>\n",
       "      <td>175</td>\n",
       "      <td>164</td>\n",
       "      <td>157</td>\n",
       "      <td>176</td>\n",
       "    </tr>\n",
       "  </tbody>\n",
       "</table>\n",
       "</div>"
      ],
      "text/plain": [
       "   Week     Share   Outside  Brand 1  Brand 2  Brand 3  Brand 4    Price  \\\n",
       "0     1  0.005929  0.969501        1        0        0        0  4.29168   \n",
       "1     1  0.000732  0.969501        0        1        0        0  3.39696   \n",
       "2     1  0.016865  0.969501        0        0        1        0  2.93088   \n",
       "3     1  0.006973  0.969501        0        0        0        1  3.40096   \n",
       "4     2  0.006089  0.967560        1        0        0        0  4.29168   \n",
       "\n",
       "     Feature   Display  F&D  Spot 1  Spot 2  Spot 3  Spot 4  Spot 5  Spot 6  \n",
       "0   0.000000  0.000000  0.0     134     146     169     170     164     168  \n",
       "1   0.000000  0.000000  0.0     134     146     169     170     164     168  \n",
       "2  42.261265  0.000000  0.0     134     146     169     170     164     168  \n",
       "3   0.000000  1.492933  0.0     134     146     169     170     164     168  \n",
       "4   0.000000  0.000000  0.0     138     141     175     164     157     176  "
      ]
     },
     "execution_count": 24,
     "metadata": {},
     "output_type": "execute_result"
    }
   ],
   "source": [
    "df=pd.read_excel(\"CoffeeData.xlsx\")\n",
    "sjt=df[\"Share\"]/df[\"Outside\"]\n",
    "df.head()"
   ]
  },
  {
   "cell_type": "markdown",
   "metadata": {},
   "source": [
    "#### Step 1: Auxiliary regression"
   ]
  },
  {
   "cell_type": "code",
   "execution_count": 25,
   "metadata": {},
   "outputs": [],
   "source": [
    "# First Stage: price on X_jt, intercepts, and instruments\n",
    "X1=df[[\"Brand 1\", \"Brand 2\", \"Brand 3\", \"Brand 4\",\n",
    "       \"Feature\", \"Display\", \"F&D\",\n",
    "       \"Spot 1\", \"Spot 2\", \"Spot 3\",\n",
    "       \"Spot 4\", \"Spot 5\", \"Spot 6\"]]\n",
    "resf=sm.OLS(df[\"Price\"],X1).fit()\n",
    "njt=df[\"Price\"]-resf.predict(X1)"
   ]
  },
  {
   "cell_type": "markdown",
   "metadata": {},
   "source": [
    "#### Step 2 & 3: Polynomials for njt"
   ]
  },
  {
   "cell_type": "code",
   "execution_count": 26,
   "metadata": {},
   "outputs": [],
   "source": [
    "def cubic_poly(njt,a,b,c):\n",
    "    return a*njt+b*np.power(njt,2)+c*np.power(njt,3)"
   ]
  },
  {
   "cell_type": "code",
   "execution_count": 27,
   "metadata": {},
   "outputs": [],
   "source": [
    "#fn1t=cubic_poly(njt*df[\"Brand 1\"],aa1,bb1,cc1)\n",
    "#fn1t=cubic_poly(njt*df[\"Brand 2\"],aa2,bb2,cc2)\n",
    "#fn1t=cubic_poly(njt*df[\"Brand 3\"],aa3,bb3,cc3)\n",
    "#fn1t=cubic_poly(njt*df[\"Brand 4\"],aa4,bb4,cc4)"
   ]
  },
  {
   "cell_type": "markdown",
   "metadata": {},
   "source": [
    "#### Step 4: Starting values of $\\alpha_j$,$\\beta$,$aa_j$,$bb_j$,$cc_j$, j=1,...,4, and of $\\Gamma$\n"
   ]
  },
  {
   "cell_type": "code",
   "execution_count": 28,
   "metadata": {},
   "outputs": [],
   "source": [
    "D=30 #Number of random draws\n",
    "np.random.seed(100)\n",
    "draw=np.random.uniform(0,1,36).reshape(1,36)\n",
    "a11,a12,a13,a14,a15,a16,a17,a18,b22,b23,b24,b25,b26,b27,b28,c33,c34,c35,c36,c37,c38,d44,d45,d46,d47,d48,e55,e56,e57,e58,f66,f67,f68,g77,f78,h88=draw[0]\n",
    "r=np.matrix([[a11,a12,a13,a14,a15,a16,a17,a18], \n",
    "            [0,b22,b23,b24,b25,b26,b27,b28],\n",
    "                [0,0,c33,c34,c35,c36,c37,c38],\n",
    "                [0,0,0,d44,d45,d46,d47,d48],\n",
    "                [0,0,0,0,e55,e56,e57,e58],\n",
    "                [0,0,0,0,0,f66,f67,f68],\n",
    "                [0,0,0,0,0,0,g77,f78],\n",
    "                [0,0,0,0,0,0,0,h88]])\n",
    "Q=np.random.normal(0,1,8*D).reshape(D,8)\n",
    "a1,a2,a3,a4,bp,bf,bd,bfd=-2, -4, -3, -3, -1, 1, 1, -1\n",
    "QGT=Q@r+np.array([a1,a2,a3,a4,bp,bf,bd,bfd])"
   ]
  },
  {
   "cell_type": "markdown",
   "metadata": {},
   "source": [
    "#### Step 5: Compute $S_{jt}$"
   ]
  },
  {
   "cell_type": "code",
   "execution_count": 29,
   "metadata": {},
   "outputs": [],
   "source": [
    "def crit(params, D):\n",
    "    '''\n",
    "    Function computes the non-linear least squares of Sjt (Computed share) and sjt (Actual Share)\n",
    "    Input: params (initial values)\n",
    "           D (number of draws)\n",
    "    '''\n",
    "    a1,a2,a3,a4,bp,bf,bd,bfd,aa1,bb1,cc1,aa2,bb2,cc2,aa3,bb3,cc3,aa4,bb4,cc4=params\n",
    "    np.random.seed(100)\n",
    "    Q=np.random.normal(0,1,8*D).reshape(D,8)\n",
    "    QGT=Q@r+np.array([a1,a2,a3,a4,bp,bf,bd,bfd])  \n",
    "    table=pd.DataFrame({\"Week\":df[\"Week\"]})\n",
    "\n",
    "    for i in range(D):\n",
    "        #coef elements refer to a1,a2,a3,a4,bp,bf,bd,bfd\n",
    "        coef=QGT[i].tolist()[0] #Get coefficients in the ith simulation\n",
    "        ev1=coef[0]+coef[4]*df['Price']+coef[5]*df['Feature']+\\\n",
    "            coef[6]*df['Display']+coef[7]*df['F&D']+cubic_poly(njt*df[\"Brand 1\"],aa1,bb1,cc1)\n",
    "        ev2=coef[1]+coef[4]*df['Price']+coef[5]*df['Feature']+\\\n",
    "            coef[6]*df['Display']+coef[7]*df['F&D']+cubic_poly(njt*df[\"Brand 2\"],aa2,bb2,cc2)\n",
    "        ev3=coef[2]+coef[4]*df['Price']+coef[5]*df['Feature']+\\\n",
    "            coef[6]*df['Display']+coef[7]*df['F&D']+cubic_poly(njt*df[\"Brand 3\"],aa3,bb3,cc3)\n",
    "        ev4=coef[3]+coef[4]*df['Price']+coef[5]*df['Feature']+\\\n",
    "            coef[6]*df['Display']+coef[7]*df['F&D']+cubic_poly(njt*df[\"Brand 4\"],aa4,bb4,cc4)\n",
    "        summ=ev1+ev2+ev3+ev4\n",
    "        table[i]=(ev1*df['Brand 1']+ev2*df['Brand 2']+ev3*df['Brand 3']+ev4*df['Brand 4'])/(1+summ)\n",
    "    table=table.drop(columns=['Week'])\n",
    "    Sjt=np.mean(table,axis=1)\n",
    "    \n",
    "    return np.sum(np.square(Sjt-sjt))"
   ]
  },
  {
   "cell_type": "code",
   "execution_count": 30,
   "metadata": {},
   "outputs": [
    {
     "data": {
      "text/plain": [
       "40.52370256360693"
      ]
     },
     "execution_count": 30,
     "metadata": {},
     "output_type": "execute_result"
    }
   ],
   "source": [
    "#Least square when initial parameters are 1 with 10 draws\n",
    "crit(np.ones(20),10)"
   ]
  },
  {
   "cell_type": "markdown",
   "metadata": {},
   "source": [
    "#### Step 6: Iterate over the values of $\\alpha_j$,$\\beta$,$aa_j$,$bb_j$,$cc_j$ till $S_{jt}\\approx s_{jt}$"
   ]
  },
  {
   "cell_type": "code",
   "execution_count": 39,
   "metadata": {},
   "outputs": [],
   "source": [
    "para_init=[-2.5, -4, -2.5, -3, -2, 0, 0, 0, 1, 1, 1, 1, 1, 1, 1, 1, 1, 1, 1, 1]\n",
    "args=(10)\n",
    "results = opt.minimize(crit, para_init,args)"
   ]
  },
  {
   "cell_type": "code",
   "execution_count": 40,
   "metadata": {},
   "outputs": [
    {
     "data": {
      "text/plain": [
       "23.806215018156664"
      ]
     },
     "execution_count": 40,
     "metadata": {},
     "output_type": "execute_result"
    }
   ],
   "source": [
    "#Minimized least squares\n",
    "results.fun"
   ]
  },
  {
   "cell_type": "code",
   "execution_count": 41,
   "metadata": {},
   "outputs": [],
   "source": [
    "#Standard Errors\n",
    "se_list=[]\n",
    "for i in range(8):\n",
    "    se_list.append(np.sqrt(results.hess_inv[i,i]))"
   ]
  },
  {
   "cell_type": "code",
   "execution_count": 49,
   "metadata": {},
   "outputs": [],
   "source": [
    "a1,a2,a3,a4,bp,bf,bd,bfd,aa1,bb1,cc1,aa2,bb2,cc2,aa3,bb3,cc3,aa4,bb4,cc4= results.x\n",
    "tab=pd.DataFrame({\"Control Function\":[a1,a2,a3,a4,bp,bf,bd,bfd],\n",
    "                  \"CF-S.E\":se_list,\n",
    "                 \"BLP\":[-2.53249022, -4.4110098 , -2.28028224, -3.54245247, -0.21164297,\n",
    "                         0.00457774,  0.00759952, -0.00515928],\n",
    "                  \"BLP-S.E\":[0.28804858, 0.17166175, 0.18263546, 0.19311649, 0.0587026 ,\n",
    "                         0.00070996, 0.00202677, 0.00260889]},\n",
    "             index=[\"a1\",\"a2\",\"a3\",\"a4\",\"price\",\"feature\",\"display\",\"F&D\"])"
   ]
  },
  {
   "cell_type": "code",
   "execution_count": 51,
   "metadata": {},
   "outputs": [
    {
     "data": {
      "text/html": [
       "<div>\n",
       "<style scoped>\n",
       "    .dataframe tbody tr th:only-of-type {\n",
       "        vertical-align: middle;\n",
       "    }\n",
       "\n",
       "    .dataframe tbody tr th {\n",
       "        vertical-align: top;\n",
       "    }\n",
       "\n",
       "    .dataframe thead th {\n",
       "        text-align: right;\n",
       "    }\n",
       "</style>\n",
       "<table border=\"1\" class=\"dataframe\">\n",
       "  <thead>\n",
       "    <tr style=\"text-align: right;\">\n",
       "      <th></th>\n",
       "      <th>Control Function</th>\n",
       "      <th>CF-S.E</th>\n",
       "      <th>BLP</th>\n",
       "      <th>BLP-S.E</th>\n",
       "    </tr>\n",
       "  </thead>\n",
       "  <tbody>\n",
       "    <tr>\n",
       "      <th>a1</th>\n",
       "      <td>-2.745</td>\n",
       "      <td>0.298</td>\n",
       "      <td>-2.532</td>\n",
       "      <td>0.288</td>\n",
       "    </tr>\n",
       "    <tr>\n",
       "      <th>a2</th>\n",
       "      <td>-2.689</td>\n",
       "      <td>0.742</td>\n",
       "      <td>-4.411</td>\n",
       "      <td>0.172</td>\n",
       "    </tr>\n",
       "    <tr>\n",
       "      <th>a3</th>\n",
       "      <td>-3.846</td>\n",
       "      <td>0.852</td>\n",
       "      <td>-2.280</td>\n",
       "      <td>0.183</td>\n",
       "    </tr>\n",
       "    <tr>\n",
       "      <th>a4</th>\n",
       "      <td>-3.966</td>\n",
       "      <td>0.596</td>\n",
       "      <td>-3.542</td>\n",
       "      <td>0.193</td>\n",
       "    </tr>\n",
       "    <tr>\n",
       "      <th>price</th>\n",
       "      <td>-1.810</td>\n",
       "      <td>0.032</td>\n",
       "      <td>-0.212</td>\n",
       "      <td>0.059</td>\n",
       "    </tr>\n",
       "    <tr>\n",
       "      <th>feature</th>\n",
       "      <td>0.315</td>\n",
       "      <td>0.002</td>\n",
       "      <td>0.005</td>\n",
       "      <td>0.001</td>\n",
       "    </tr>\n",
       "    <tr>\n",
       "      <th>display</th>\n",
       "      <td>0.282</td>\n",
       "      <td>0.003</td>\n",
       "      <td>0.008</td>\n",
       "      <td>0.002</td>\n",
       "    </tr>\n",
       "    <tr>\n",
       "      <th>F&amp;D</th>\n",
       "      <td>-0.696</td>\n",
       "      <td>0.005</td>\n",
       "      <td>-0.005</td>\n",
       "      <td>0.003</td>\n",
       "    </tr>\n",
       "  </tbody>\n",
       "</table>\n",
       "</div>"
      ],
      "text/plain": [
       "         Control Function  CF-S.E    BLP  BLP-S.E\n",
       "a1                 -2.745   0.298 -2.532    0.288\n",
       "a2                 -2.689   0.742 -4.411    0.172\n",
       "a3                 -3.846   0.852 -2.280    0.183\n",
       "a4                 -3.966   0.596 -3.542    0.193\n",
       "price              -1.810   0.032 -0.212    0.059\n",
       "feature             0.315   0.002  0.005    0.001\n",
       "display             0.282   0.003  0.008    0.002\n",
       "F&D                -0.696   0.005 -0.005    0.003"
      ]
     },
     "execution_count": 51,
     "metadata": {},
     "output_type": "execute_result"
    }
   ],
   "source": [
    "tab.round(3)"
   ]
  }
 ],
 "metadata": {
  "kernelspec": {
   "display_name": "Python 3",
   "language": "python",
   "name": "python3"
  },
  "language_info": {
   "codemirror_mode": {
    "name": "ipython",
    "version": 3
   },
   "file_extension": ".py",
   "mimetype": "text/x-python",
   "name": "python",
   "nbconvert_exporter": "python",
   "pygments_lexer": "ipython3",
   "version": "3.7.1"
  }
 },
 "nbformat": 4,
 "nbformat_minor": 2
}
