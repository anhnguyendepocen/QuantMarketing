{
 "cells": [
  {
   "cell_type": "markdown",
   "metadata": {},
   "source": [
    "37902 Foundation of Advanced Quantitative Marketing\n",
    "\n",
    "Li Liu\n",
    "\n",
    "2/4/2019"
   ]
  },
  {
   "cell_type": "markdown",
   "metadata": {},
   "source": [
    "#### Tasks\n",
    "1)      Compute the nested logit elasticities (if you haven’t already done so)\n",
    "\n",
    "2)      Try out the IIA tests\n",
    "\n",
    "3)      Work on the observable heterogeneity model – both a priori and with interactions"
   ]
  },
  {
   "cell_type": "code",
   "execution_count": 10,
   "metadata": {},
   "outputs": [],
   "source": [
    "import numpy as np\n",
    "import pandas as pd\n",
    "import matplotlib.pyplot as plt\n",
    "import scipy.optimize as opt\n",
    "pd.options.display.max_colwidth = 1000"
   ]
  },
  {
   "cell_type": "markdown",
   "metadata": {},
   "source": [
    "### Yogurt100N Sales Data"
   ]
  },
  {
   "cell_type": "code",
   "execution_count": 11,
   "metadata": {
    "scrolled": true
   },
   "outputs": [
    {
     "data": {
      "text/html": [
       "<div>\n",
       "<style scoped>\n",
       "    .dataframe tbody tr th:only-of-type {\n",
       "        vertical-align: middle;\n",
       "    }\n",
       "\n",
       "    .dataframe tbody tr th {\n",
       "        vertical-align: top;\n",
       "    }\n",
       "\n",
       "    .dataframe thead th {\n",
       "        text-align: right;\n",
       "    }\n",
       "</style>\n",
       "<table border=\"1\" class=\"dataframe\">\n",
       "  <thead>\n",
       "    <tr style=\"text-align: right;\">\n",
       "      <th></th>\n",
       "      <th>Pan I.D.</th>\n",
       "      <th>Expend $</th>\n",
       "      <th>Income</th>\n",
       "      <th>HH Size</th>\n",
       "      <th>IPT</th>\n",
       "      <th>Quantity</th>\n",
       "      <th>Brand 1</th>\n",
       "      <th>Brand  2</th>\n",
       "      <th>Brand 3</th>\n",
       "      <th>Brand 4</th>\n",
       "      <th>Feature 1</th>\n",
       "      <th>Feature 2</th>\n",
       "      <th>Feature 3</th>\n",
       "      <th>Feature 4</th>\n",
       "      <th>Price 1</th>\n",
       "      <th>Price 2</th>\n",
       "      <th>Price 3</th>\n",
       "      <th>Price 4</th>\n",
       "      <th>PanelistFirstObs</th>\n",
       "    </tr>\n",
       "  </thead>\n",
       "  <tbody>\n",
       "    <tr>\n",
       "      <th>0</th>\n",
       "      <td>1</td>\n",
       "      <td>40.900002</td>\n",
       "      <td>9</td>\n",
       "      <td>2</td>\n",
       "      <td>5</td>\n",
       "      <td>2</td>\n",
       "      <td>0</td>\n",
       "      <td>0</td>\n",
       "      <td>0</td>\n",
       "      <td>1</td>\n",
       "      <td>0</td>\n",
       "      <td>0</td>\n",
       "      <td>0</td>\n",
       "      <td>0</td>\n",
       "      <td>0.108</td>\n",
       "      <td>0.081</td>\n",
       "      <td>0.061</td>\n",
       "      <td>0.079</td>\n",
       "      <td>1</td>\n",
       "    </tr>\n",
       "    <tr>\n",
       "      <th>1</th>\n",
       "      <td>1</td>\n",
       "      <td>16.809999</td>\n",
       "      <td>9</td>\n",
       "      <td>2</td>\n",
       "      <td>5</td>\n",
       "      <td>2</td>\n",
       "      <td>0</td>\n",
       "      <td>1</td>\n",
       "      <td>0</td>\n",
       "      <td>0</td>\n",
       "      <td>0</td>\n",
       "      <td>0</td>\n",
       "      <td>0</td>\n",
       "      <td>0</td>\n",
       "      <td>0.108</td>\n",
       "      <td>0.098</td>\n",
       "      <td>0.064</td>\n",
       "      <td>0.075</td>\n",
       "      <td>0</td>\n",
       "    </tr>\n",
       "    <tr>\n",
       "      <th>2</th>\n",
       "      <td>1</td>\n",
       "      <td>4.060000</td>\n",
       "      <td>9</td>\n",
       "      <td>2</td>\n",
       "      <td>1</td>\n",
       "      <td>2</td>\n",
       "      <td>0</td>\n",
       "      <td>1</td>\n",
       "      <td>0</td>\n",
       "      <td>0</td>\n",
       "      <td>0</td>\n",
       "      <td>0</td>\n",
       "      <td>0</td>\n",
       "      <td>0</td>\n",
       "      <td>0.108</td>\n",
       "      <td>0.098</td>\n",
       "      <td>0.061</td>\n",
       "      <td>0.086</td>\n",
       "      <td>0</td>\n",
       "    </tr>\n",
       "    <tr>\n",
       "      <th>3</th>\n",
       "      <td>1</td>\n",
       "      <td>34.459999</td>\n",
       "      <td>9</td>\n",
       "      <td>2</td>\n",
       "      <td>4</td>\n",
       "      <td>2</td>\n",
       "      <td>0</td>\n",
       "      <td>1</td>\n",
       "      <td>0</td>\n",
       "      <td>0</td>\n",
       "      <td>0</td>\n",
       "      <td>0</td>\n",
       "      <td>0</td>\n",
       "      <td>0</td>\n",
       "      <td>0.108</td>\n",
       "      <td>0.098</td>\n",
       "      <td>0.061</td>\n",
       "      <td>0.086</td>\n",
       "      <td>0</td>\n",
       "    </tr>\n",
       "    <tr>\n",
       "      <th>4</th>\n",
       "      <td>1</td>\n",
       "      <td>8.390000</td>\n",
       "      <td>9</td>\n",
       "      <td>2</td>\n",
       "      <td>7</td>\n",
       "      <td>2</td>\n",
       "      <td>0</td>\n",
       "      <td>1</td>\n",
       "      <td>0</td>\n",
       "      <td>0</td>\n",
       "      <td>0</td>\n",
       "      <td>0</td>\n",
       "      <td>0</td>\n",
       "      <td>0</td>\n",
       "      <td>0.125</td>\n",
       "      <td>0.098</td>\n",
       "      <td>0.049</td>\n",
       "      <td>0.079</td>\n",
       "      <td>0</td>\n",
       "    </tr>\n",
       "  </tbody>\n",
       "</table>\n",
       "</div>"
      ],
      "text/plain": [
       "   Pan I.D.   Expend $  Income  HH Size  IPT  Quantity  Brand 1  Brand  2  \\\n",
       "0         1  40.900002       9        2    5         2        0         0   \n",
       "1         1  16.809999       9        2    5         2        0         1   \n",
       "2         1   4.060000       9        2    1         2        0         1   \n",
       "3         1  34.459999       9        2    4         2        0         1   \n",
       "4         1   8.390000       9        2    7         2        0         1   \n",
       "\n",
       "   Brand 3  Brand 4  Feature 1  Feature 2  Feature 3  Feature 4  Price 1  \\\n",
       "0        0        1          0          0          0          0    0.108   \n",
       "1        0        0          0          0          0          0    0.108   \n",
       "2        0        0          0          0          0          0    0.108   \n",
       "3        0        0          0          0          0          0    0.108   \n",
       "4        0        0          0          0          0          0    0.125   \n",
       "\n",
       "   Price 2  Price 3  Price 4  PanelistFirstObs  \n",
       "0    0.081    0.061    0.079                 1  \n",
       "1    0.098    0.064    0.075                 0  \n",
       "2    0.098    0.061    0.086                 0  \n",
       "3    0.098    0.061    0.086                 0  \n",
       "4    0.098    0.049    0.079                 0  "
      ]
     },
     "execution_count": 11,
     "metadata": {},
     "output_type": "execute_result"
    }
   ],
   "source": [
    "df=pd.read_excel(\"Yogurt100N.csv.xlsx\")\n",
    "df.describe()\n",
    "df.head()"
   ]
  },
  {
   "cell_type": "markdown",
   "metadata": {},
   "source": [
    "### Simple Logit on Yogurt Data"
   ]
  },
  {
   "cell_type": "code",
   "execution_count": 12,
   "metadata": {},
   "outputs": [
    {
     "name": "stdout",
     "output_type": "stream",
     "text": [
      " a1 (Intrinsic brand preference for Brand 1): 1.3877493848693059 \n",
      " a2 (Intrinsic brand preference for Brand 2): 0.6435046305879636 \n",
      " a3 (Intrinsic brand preference for Brand 3): -3.0861119572117355 \n",
      " bf (Coefficients for feature variable): 0.4874149107851659 \n",
      " bp (Coefficients for price variable): -37.057782766093105 \n",
      " Maximized Log Likelihood: -2658.5566975071233\n"
     ]
    }
   ],
   "source": [
    "def crit(params,df):\n",
    "\n",
    "    a1,a2,a3,bf,bp=params\n",
    "    ev1=np.exp(a1+bf*df['Feature 1']+bp*df['Price 1'])\n",
    "    ev2=np.exp(a2+bf*df['Feature 2']+bp*df['Price 2'])\n",
    "    ev3=np.exp(a3+bf*df['Feature 3']+bp*df['Price 3'])\n",
    "    ev4=np.exp(0+bf*df['Feature 4']+bp*df['Price 4'])\n",
    "    denom=ev1+ev2+ev3+ev4\n",
    "    global p1,p2,p3,p4\n",
    "    p1,p2,p3,p4=ev1/denom,ev2/denom,ev3/denom,ev4/denom\n",
    "    pc=(ev1*df['Brand 1']+ev2*df['Brand  2']+ev3*df['Brand 3']+ev4*df['Brand 4'])/denom\n",
    "    Inpc=np.log(pc)\n",
    "    LL=np.sum(Inpc)\n",
    "    return -LL\n",
    "a1,a2,a3,bf,bp=1,1,1,1,1 #Initalization\n",
    "params_init = np.array([a1,a2,a3,bf,bp])\n",
    "results = opt.minimize(crit, params_init,df)\n",
    "a1,a2,a3,bf,bp = results.x\n",
    "a1F,a2F,a3F,bfF,bpF = results.x #For IIA Test\n",
    "\n",
    "sigmaF=results.hess_inv\n",
    "print(\" a1 (Intrinsic brand preference for Brand 1):\",a1,\"\\n\",\n",
    "      \"a2 (Intrinsic brand preference for Brand 2):\",a2,\"\\n\",\n",
    "      \"a3 (Intrinsic brand preference for Brand 3):\",a3,\"\\n\",\n",
    "      \"bf (Coefficients for feature variable):\",bf,\"\\n\",\n",
    "      \"bp (Coefficients for price variable):\",bp,\"\\n\",\n",
    "      \"Maximized Log Likelihood:\",-results.fun)"
   ]
  },
  {
   "cell_type": "markdown",
   "metadata": {},
   "source": [
    "### Elasticity with I.I.A assumption"
   ]
  },
  {
   "cell_type": "markdown",
   "metadata": {},
   "source": [
    "Own Elasticity:\n",
    "$\\beta*X_{jt}*(1-P_{ijt})$\n",
    "\n",
    "Cross Elasticity (doesn't depend on j):\n",
    "$-\\beta*P_{ikt}*X_{kt}$"
   ]
  },
  {
   "cell_type": "code",
   "execution_count": 13,
   "metadata": {},
   "outputs": [],
   "source": [
    "#Own elasticities\n",
    "e11=np.mean((bf*df['Feature 1']+bp*df['Price 1'])*(1-p1))\n",
    "e22=np.mean((bf*df['Feature 2']+bp*df['Price 2'])*(1-p2))\n",
    "e33=np.mean((bf*df['Feature 3']+bp*df['Price 3'])*(1-p3))\n",
    "e44=np.mean((bf*df['Feature 4']+bp*df['Price 4'])*(1-p4))"
   ]
  },
  {
   "cell_type": "code",
   "execution_count": 14,
   "metadata": {},
   "outputs": [],
   "source": [
    "#Property of Logit Model: for all j != k, the cross elasticity will be the same.\n",
    "e21=e31=e41=np.mean(-(bf*df['Feature 1']+bp*df['Price 1'])*p1)\n",
    "e12=e32=e42=np.mean(-(bf*df['Feature 2']+bp*df['Price 2'])*p2)\n",
    "e13=e23=e43=np.mean(-(bf*df['Feature 3']+bp*df['Price 3'])*p3)\n",
    "e14=e24=e34=np.mean(-(bf*df['Feature 4']+bp*df['Price 4'])*p4)"
   ]
  },
  {
   "cell_type": "code",
   "execution_count": 15,
   "metadata": {},
   "outputs": [
    {
     "name": "stdout",
     "output_type": "stream",
     "text": [
      "Elasiticy Matrix with Simple Logit Model\n"
     ]
    },
    {
     "data": {
      "text/html": [
       "<div>\n",
       "<style scoped>\n",
       "    .dataframe tbody tr th:only-of-type {\n",
       "        vertical-align: middle;\n",
       "    }\n",
       "\n",
       "    .dataframe tbody tr th {\n",
       "        vertical-align: top;\n",
       "    }\n",
       "\n",
       "    .dataframe thead th {\n",
       "        text-align: right;\n",
       "    }\n",
       "</style>\n",
       "<table border=\"1\" class=\"dataframe\">\n",
       "  <thead>\n",
       "    <tr style=\"text-align: right;\">\n",
       "      <th></th>\n",
       "      <th>Brand 1</th>\n",
       "      <th>Brand2</th>\n",
       "      <th>Brand 3</th>\n",
       "      <th>Brand 4</th>\n",
       "    </tr>\n",
       "  </thead>\n",
       "  <tbody>\n",
       "    <tr>\n",
       "      <th>Brand 1</th>\n",
       "      <td>-2.688666</td>\n",
       "      <td>1.164621</td>\n",
       "      <td>0.052607</td>\n",
       "      <td>0.651862</td>\n",
       "    </tr>\n",
       "    <tr>\n",
       "      <th>Brand 2</th>\n",
       "      <td>1.221561</td>\n",
       "      <td>-1.837507</td>\n",
       "      <td>0.052607</td>\n",
       "      <td>0.651862</td>\n",
       "    </tr>\n",
       "    <tr>\n",
       "      <th>Brand 3</th>\n",
       "      <td>1.221561</td>\n",
       "      <td>1.164621</td>\n",
       "      <td>-1.916245</td>\n",
       "      <td>0.651862</td>\n",
       "    </tr>\n",
       "    <tr>\n",
       "      <th>Brand 4</th>\n",
       "      <td>1.221561</td>\n",
       "      <td>1.164621</td>\n",
       "      <td>0.052607</td>\n",
       "      <td>-2.276253</td>\n",
       "    </tr>\n",
       "  </tbody>\n",
       "</table>\n",
       "</div>"
      ],
      "text/plain": [
       "          Brand 1    Brand2   Brand 3   Brand 4\n",
       "Brand 1 -2.688666  1.164621  0.052607  0.651862\n",
       "Brand 2  1.221561 -1.837507  0.052607  0.651862\n",
       "Brand 3  1.221561  1.164621 -1.916245  0.651862\n",
       "Brand 4  1.221561  1.164621  0.052607 -2.276253"
      ]
     },
     "execution_count": 15,
     "metadata": {},
     "output_type": "execute_result"
    }
   ],
   "source": [
    "mat=pd.DataFrame({\"Brand 1\":[e11,e21,e31,e41], \"Brand2\":[e12,e22,e32,e42],\n",
    "                  \"Brand 3\":[e13,e23,e33,e43],'Brand 4':[e14,e24,e34,e44]})\n",
    "mat.index=[\"Brand 1\",\"Brand 2\", \"Brand 3\", \"Brand 4\"]\n",
    "print(\"Elasiticy Matrix with Simple Logit Model\")\n",
    "mat"
   ]
  },
  {
   "cell_type": "markdown",
   "metadata": {},
   "source": [
    "### Nested Logit Model on Yogurt Data"
   ]
  },
  {
   "cell_type": "markdown",
   "metadata": {},
   "source": [
    "#### Brands 1~3 in one nest and 4 in another "
   ]
  },
  {
   "cell_type": "code",
   "execution_count": 16,
   "metadata": {},
   "outputs": [],
   "source": [
    "def nestedlogit(params):\n",
    "\n",
    "    a1,a2,a3,bf,bp,theta=params \n",
    "    rho=np.exp(theta)/(np.exp(theta)+1)\n",
    "    ev1=np.exp((a1+bf*df['Feature 1']+bp*df['Price 1'])/rho)\n",
    "    ev2=np.exp((a2+bf*df['Feature 2']+bp*df['Price 2'])/rho)\n",
    "    ev3=np.exp((a3+bf*df['Feature 3']+bp*df['Price 3'])/rho)\n",
    "    ev4=np.exp(0+bf*df['Feature 4']+bp*df['Price 4'])\n",
    "    denom=ev1+ev2+ev3\n",
    "    P4=ev4/(np.power(denom,rho)+ev4)\n",
    "    P1=(1-P4)*ev1/denom\n",
    "    P2=(1-P4)*ev2/denom\n",
    "    P3=(1-P4)*ev3/denom\n",
    "        \n",
    "    pc=(P1*df['Brand 1']+P2*df['Brand  2']+P3*df['Brand 3']+P4*df['Brand 4'])\n",
    "    Inpc=np.log(pc)\n",
    "    LL=np.sum(Inpc)\n",
    "    return -LL"
   ]
  },
  {
   "cell_type": "code",
   "execution_count": 17,
   "metadata": {},
   "outputs": [
    {
     "name": "stdout",
     "output_type": "stream",
     "text": [
      " a1 (Intrinsic brand preference for Brand 1): 1.381668246314243 \n",
      " a2 (Intrinsic brand preference for Brand 2): 0.8394214107974036 \n",
      " a3 (Intrinsic brand preference for Brand 3): -1.6585033289233315 \n",
      " bf (Coefficients for feature variable): 0.3744687285023429 \n",
      " bp (Coefficients for price variable): -26.58111407114701 \n",
      " rho (Correlation variable): 0.6433850797137343 \n",
      " Maximized Log Likelihood: -2653.7645999847723\n"
     ]
    }
   ],
   "source": [
    "params_init = np.array([1.3,0.6,-3,0.5,-30,0])\n",
    "results = opt.minimize(nestedlogit, params_init)\n",
    "a1,a2,a3,bf,bp,theta = results.x\n",
    "rho=np.exp(theta)/(np.exp(theta)+1)\n",
    "print(\" a1 (Intrinsic brand preference for Brand 1):\",a1,\"\\n\",\n",
    "      \"a2 (Intrinsic brand preference for Brand 2):\",a2,\"\\n\",\n",
    "      \"a3 (Intrinsic brand preference for Brand 3):\",a3,\"\\n\",\n",
    "      \"bf (Coefficients for feature variable):\",bf,\"\\n\",\n",
    "      \"bp (Coefficients for price variable):\",bp,\"\\n\",\n",
    "      \"rho (Correlation variable):\",rho,\"\\n\",\n",
    "      \"Maximized Log Likelihood:\",-results.fun)"
   ]
  },
  {
   "cell_type": "code",
   "execution_count": 18,
   "metadata": {},
   "outputs": [
    {
     "name": "stdout",
     "output_type": "stream",
     "text": [
      "Standard error for a1 estimate =  0.07558685487925244\n",
      "Standard error for a2 estimate =  0.0643395346921931\n",
      "Standard error for a3 estimate =  0.25835257393961025\n",
      "Standard error for bf estimate =  0.10968714265868745\n",
      "Standard error for bp estimate =  2.2109577731832593\n",
      "Standard error for theta estimate =  0.2704197005249941\n"
     ]
    }
   ],
   "source": [
    "vcv_mle = results.hess_inv\n",
    "stderr_a1_mle = np.sqrt(vcv_mle[0,0])\n",
    "stderr_a2_mle = np.sqrt(vcv_mle[1,1])\n",
    "stderr_a3_mle = np.sqrt(vcv_mle[2,2])\n",
    "stderr_bf_mle = np.sqrt(vcv_mle[3,3])\n",
    "stderr_bp_mle = np.sqrt(vcv_mle[4,4])\n",
    "stderr_theta_mle = np.sqrt(vcv_mle[5,5])\n",
    "\n",
    "print('Standard error for a1 estimate = ', stderr_a1_mle)\n",
    "print('Standard error for a2 estimate = ', stderr_a2_mle)\n",
    "print('Standard error for a3 estimate = ', stderr_a3_mle)\n",
    "print('Standard error for bf estimate = ', stderr_bf_mle)\n",
    "print('Standard error for bp estimate = ', stderr_bp_mle)\n",
    "print('Standard error for theta estimate = ', stderr_theta_mle)"
   ]
  },
  {
   "cell_type": "markdown",
   "metadata": {},
   "source": [
    "### Elasticity when I.I.A assumption is violated"
   ]
  },
  {
   "cell_type": "markdown",
   "metadata": {},
   "source": [
    "Own Elasticity:\n",
    "$\\beta*X_{j}*[1/\\rho-P_{j}+P_{j|nest}*(1-1/\\rho)]$\n",
    "\n",
    "Cross Elasticity:\n",
    "\n",
    "Ex: Brands 1~3 in one nest and 4 in another\n",
    "\n",
    "$e_{41}=-\\beta*X_{1}*P_{1}$\n",
    "\n",
    "$e_{42}=-\\beta*X_{2}*P_{2}$\n",
    "\n",
    "$e_{43}=-\\beta*X_{3}*P_{3}$\n",
    "\n",
    "$e_{14}=e_{24}=e_{34}=-\\beta*X_{4}*P_{4}$\n",
    "\n",
    "$e_{12}=\\beta*X_{2}*[-P_{1}+P_{1|nest}*(1-1/\\rho)]*P_{2}/P_{1}$"
   ]
  },
  {
   "cell_type": "code",
   "execution_count": 19,
   "metadata": {},
   "outputs": [],
   "source": [
    "ev1=np.exp((a1+bf*df['Feature 1']+bp*df['Price 1'])/rho)\n",
    "ev2=np.exp((a2+bf*df['Feature 2']+bp*df['Price 2'])/rho)\n",
    "ev3=np.exp((a3+bf*df['Feature 3']+bp*df['Price 3'])/rho)\n",
    "ev4=np.exp(0+bf*df['Feature 4']+bp*df['Price 4'])\n",
    "denom=ev1+ev2+ev3\n",
    "P4=ev4/(np.power(denom,rho)+ev4)\n",
    "P1=(1-P4)*ev1/denom\n",
    "P2=(1-P4)*ev2/denom\n",
    "P3=(1-P4)*ev3/denom\n",
    "#Own Elasticities\n",
    "e11=np.mean((bf*df['Feature 1']+bp*df['Price 1'])*((1/rho)+(ev1/denom)*(1-1/rho)-P1))\n",
    "e22=np.mean((bf*df['Feature 2']+bp*df['Price 2'])*((1/rho)+(ev2/denom)*(1-1/rho)-P2))\n",
    "e33=np.mean((bf*df['Feature 3']+bp*df['Price 3'])*((1/rho)+(ev3/denom)*(1-1/rho)-P3))\n",
    "e44=np.mean((bf*df['Feature 4']+bp*df['Price 4'])*((1/rho)+P4*(1-1/rho)-P4))"
   ]
  },
  {
   "cell_type": "code",
   "execution_count": 20,
   "metadata": {},
   "outputs": [
    {
     "name": "stdout",
     "output_type": "stream",
     "text": [
      "Elasiticy Matrix with Model 1 (Nest 1: 1~3; Nest 2: 4)\n"
     ]
    },
    {
     "data": {
      "text/html": [
       "<div>\n",
       "<style scoped>\n",
       "    .dataframe tbody tr th:only-of-type {\n",
       "        vertical-align: middle;\n",
       "    }\n",
       "\n",
       "    .dataframe tbody tr th {\n",
       "        vertical-align: top;\n",
       "    }\n",
       "\n",
       "    .dataframe thead th {\n",
       "        text-align: right;\n",
       "    }\n",
       "</style>\n",
       "<table border=\"1\" class=\"dataframe\">\n",
       "  <thead>\n",
       "    <tr style=\"text-align: right;\">\n",
       "      <th></th>\n",
       "      <th>Brand 1</th>\n",
       "      <th>Brand2</th>\n",
       "      <th>Brand 3</th>\n",
       "      <th>Brand 4</th>\n",
       "    </tr>\n",
       "  </thead>\n",
       "  <tbody>\n",
       "    <tr>\n",
       "      <th>Brand 1</th>\n",
       "      <td>-2.862328</td>\n",
       "      <td>1.451158</td>\n",
       "      <td>0.064228</td>\n",
       "      <td>0.470184</td>\n",
       "    </tr>\n",
       "    <tr>\n",
       "      <th>Brand 2</th>\n",
       "      <td>1.494906</td>\n",
       "      <td>-1.894287</td>\n",
       "      <td>0.064228</td>\n",
       "      <td>0.470184</td>\n",
       "    </tr>\n",
       "    <tr>\n",
       "      <th>Brand 3</th>\n",
       "      <td>1.494906</td>\n",
       "      <td>1.451158</td>\n",
       "      <td>-2.129332</td>\n",
       "      <td>0.470184</td>\n",
       "    </tr>\n",
       "    <tr>\n",
       "      <th>Brand 4</th>\n",
       "      <td>0.867565</td>\n",
       "      <td>0.839325</td>\n",
       "      <td>0.037066</td>\n",
       "      <td>-2.532213</td>\n",
       "    </tr>\n",
       "  </tbody>\n",
       "</table>\n",
       "</div>"
      ],
      "text/plain": [
       "          Brand 1    Brand2   Brand 3   Brand 4\n",
       "Brand 1 -2.862328  1.451158  0.064228  0.470184\n",
       "Brand 2  1.494906 -1.894287  0.064228  0.470184\n",
       "Brand 3  1.494906  1.451158 -2.129332  0.470184\n",
       "Brand 4  0.867565  0.839325  0.037066 -2.532213"
      ]
     },
     "execution_count": 20,
     "metadata": {},
     "output_type": "execute_result"
    }
   ],
   "source": [
    "e41=np.mean(-(bf*df['Feature 1']+bp*df['Price 1'])*(P1))\n",
    "e42=np.mean(-(bf*df['Feature 2']+bp*df['Price 2'])*(P2))\n",
    "e43=np.mean(-(bf*df['Feature 3']+bp*df['Price 3'])*(P3))\n",
    "e14=e24=e34=np.mean(-(bf*df['Feature 4']+bp*df['Price 4'])*(P4))\n",
    "\n",
    "e12=np.mean((bf*df['Feature 2']+bp*df['Price 2'])*((ev1/denom)*(1-1/rho)-P1)*(ev2/ev1))\n",
    "e13=np.mean((bf*df['Feature 3']+bp*df['Price 3'])*((ev1/denom)*(1-1/rho)-P1)*(ev3/ev1))\n",
    "e21=np.mean((bf*df['Feature 1']+bp*df['Price 1'])*((ev2/denom)*(1-1/rho)-P2)*(ev1/ev2))\n",
    "e23=np.mean((bf*df['Feature 3']+bp*df['Price 3'])*((ev2/denom)*(1-1/rho)-P2)*(ev3/ev2))\n",
    "e32=np.mean((bf*df['Feature 2']+bp*df['Price 2'])*((ev3/denom)*(1-1/rho)-P3)*(ev2/ev3))\n",
    "e31=np.mean((bf*df['Feature 1']+bp*df['Price 1'])*((ev3/denom)*(1-1/rho)-P3)*(ev1/ev3))\n",
    "\n",
    "mat=pd.DataFrame({\"Brand 1\":[e11,e21,e31,e41], \"Brand2\":[e12,e22,e32,e42],\n",
    "                  \"Brand 3\":[e13,e23,e33,e43],'Brand 4':[e14,e24,e34,e44]})\n",
    "mat.index=[\"Brand 1\",\"Brand 2\", \"Brand 3\", \"Brand 4\"]\n",
    "print(\"Elasiticy Matrix with Model 1 (Nest 1: 1~3; Nest 2: 4)\")\n",
    "mat"
   ]
  },
  {
   "cell_type": "markdown",
   "metadata": {},
   "source": [
    "### IIA Test"
   ]
  },
  {
   "cell_type": "code",
   "execution_count": 21,
   "metadata": {},
   "outputs": [],
   "source": [
    "#Subset of the data where Brand 1 is not chosen\n",
    "df2=df[df[\"Brand 1\"] != 1]"
   ]
  },
  {
   "cell_type": "markdown",
   "metadata": {},
   "source": [
    "1. MTT(McFadden, Train, Tye)"
   ]
  },
  {
   "cell_type": "code",
   "execution_count": 22,
   "metadata": {},
   "outputs": [
    {
     "data": {
      "text/plain": [
       "-1258.8764069818249"
      ]
     },
     "execution_count": 22,
     "metadata": {},
     "output_type": "execute_result"
    }
   ],
   "source": [
    "#Drop a1 to fit a restricted logit model\n",
    "\n",
    "#Use estimated parameters from simple logit\n",
    "ev2=np.exp(a2F+bfF*df2['Feature 2']+bpF*df2['Price 2'])\n",
    "ev3=np.exp(a3F+bfF*df2['Feature 3']+bpF*df2['Price 3'])\n",
    "ev4=np.exp(0+bfF*df2['Feature 4']+bpF*df2['Price 4'])\n",
    "denom=ev2+ev3+ev4\n",
    "pc=(ev2*df2['Brand  2']+ev3*df2['Brand 3']+ev4*df2['Brand 4'])/denom\n",
    "Inpc=np.log(pc)\n",
    "LLFR=np.sum(Inpc)\n",
    "LLFR"
   ]
  },
  {
   "cell_type": "code",
   "execution_count": 23,
   "metadata": {},
   "outputs": [
    {
     "data": {
      "text/plain": [
       "-1256.909105382134"
      ]
     },
     "execution_count": 23,
     "metadata": {},
     "output_type": "execute_result"
    }
   ],
   "source": [
    "#Logit model with J-1 of alternatives on restricted data\n",
    "def crit2(params):\n",
    "\n",
    "    a2,a3,bf,bp=params\n",
    "    ev2=np.exp(a2+bf*df2['Feature 2']+bp*df2['Price 2'])\n",
    "    ev3=np.exp(a3+bf*df2['Feature 3']+bp*df2['Price 3'])\n",
    "    ev4=np.exp(0+bf*df2['Feature 4']+bp*df2['Price 4'])\n",
    "    denom=ev2+ev3+ev4\n",
    "    pc=(ev2*df2['Brand  2']+ev3*df2['Brand 3']+ev4*df2['Brand 4'])/denom\n",
    "    Inpc=np.log(pc)\n",
    "    LL=np.sum(Inpc)\n",
    "    return -LL\n",
    "a2r,a3r,bfr,bpr=0.6,-3,0.5,-30 #Initalization\n",
    "params_init = np.array([a2r,a3r,bfr,bpr])\n",
    "resultsR = opt.minimize(crit2, params_init)\n",
    "a2r,a3r,bfr,bpr = resultsR.x\n",
    "sigmaR=resultsR.hess_inv\n",
    "LLR=-resultsR.fun\n",
    "LLR"
   ]
  },
  {
   "cell_type": "code",
   "execution_count": 24,
   "metadata": {},
   "outputs": [
    {
     "data": {
      "text/plain": [
       "3.934603199381854"
      ]
     },
     "execution_count": 24,
     "metadata": {},
     "output_type": "execute_result"
    }
   ],
   "source": [
    "#MTT Formula\n",
    "MMT=-2*(LLFR-LLR)\n",
    "MMT"
   ]
  },
  {
   "cell_type": "code",
   "execution_count": 25,
   "metadata": {},
   "outputs": [
    {
     "data": {
      "text/plain": [
       "0.4149286869663318"
      ]
     },
     "execution_count": 25,
     "metadata": {},
     "output_type": "execute_result"
    }
   ],
   "source": [
    "#p-value\n",
    "from scipy.stats import chi2\n",
    "1 - chi2.cdf(MMT, 4)"
   ]
  },
  {
   "cell_type": "markdown",
   "metadata": {},
   "source": [
    "Fail to reject the null hypothesis of IIA."
   ]
  },
  {
   "cell_type": "markdown",
   "metadata": {},
   "source": [
    "2. Hausman McFadden"
   ]
  },
  {
   "cell_type": "code",
   "execution_count": 26,
   "metadata": {
    "scrolled": true
   },
   "outputs": [
    {
     "data": {
      "text/plain": [
       "matrix([[30.01624893]])"
      ]
     },
     "execution_count": 26,
     "metadata": {},
     "output_type": "execute_result"
    }
   ],
   "source": [
    "from numpy import matrix\n",
    "#Calculate V_R-V_FR where V_FR is the subvector of V_F excluding brand 1\n",
    "#V.I=inverse of (V_R-V_FR)\n",
    "V=matrix(sigmaR-sigmaF[1:,1:])\n",
    "\n",
    "#beta_R: parameters vectors of the restricted model\n",
    "#beta_FR: subvector of beta_F corresponding to beta_R\n",
    "paraR=np.array([a2r,a3r,bfr,bpr])\n",
    "paraFR=np.array([a2F,a3F,bfF,bpF])\n",
    "paradiff=(paraR-paraFR)\n",
    "paradiff.reshape(1,4)*(V.I)*paradiff.reshape(4,1)"
   ]
  },
  {
   "cell_type": "code",
   "execution_count": 27,
   "metadata": {},
   "outputs": [
    {
     "data": {
      "text/plain": [
       "4.894437128033502e-06"
      ]
     },
     "execution_count": 27,
     "metadata": {},
     "output_type": "execute_result"
    }
   ],
   "source": [
    "1 - chi2.cdf(30, 4)"
   ]
  },
  {
   "cell_type": "markdown",
   "metadata": {},
   "source": [
    "It's very unlikely that the parameters in the restricted model is the same as corresonding parameters from the full model."
   ]
  },
  {
   "cell_type": "markdown",
   "metadata": {},
   "source": [
    "#### Observable heterogeneity model with a priori "
   ]
  },
  {
   "cell_type": "markdown",
   "metadata": {},
   "source": [
    "Motivation: use demographical information to divide customers into segments\n",
    "\n",
    "For Yogurt Data, we divide the customers into four segments based on income level and household size."
   ]
  },
  {
   "cell_type": "code",
   "execution_count": 28,
   "metadata": {},
   "outputs": [
    {
     "data": {
      "text/html": [
       "<div>\n",
       "<style scoped>\n",
       "    .dataframe tbody tr th:only-of-type {\n",
       "        vertical-align: middle;\n",
       "    }\n",
       "\n",
       "    .dataframe tbody tr th {\n",
       "        vertical-align: top;\n",
       "    }\n",
       "\n",
       "    .dataframe thead th {\n",
       "        text-align: right;\n",
       "    }\n",
       "</style>\n",
       "<table border=\"1\" class=\"dataframe\">\n",
       "  <thead>\n",
       "    <tr style=\"text-align: right;\">\n",
       "      <th></th>\n",
       "      <th>Income</th>\n",
       "      <th>HH Size</th>\n",
       "    </tr>\n",
       "  </thead>\n",
       "  <tbody>\n",
       "    <tr>\n",
       "      <th>count</th>\n",
       "      <td>2430.000000</td>\n",
       "      <td>2430.000000</td>\n",
       "    </tr>\n",
       "    <tr>\n",
       "      <th>mean</th>\n",
       "      <td>8.720988</td>\n",
       "      <td>2.802058</td>\n",
       "    </tr>\n",
       "    <tr>\n",
       "      <th>std</th>\n",
       "      <td>3.800654</td>\n",
       "      <td>1.173291</td>\n",
       "    </tr>\n",
       "    <tr>\n",
       "      <th>min</th>\n",
       "      <td>1.000000</td>\n",
       "      <td>1.000000</td>\n",
       "    </tr>\n",
       "    <tr>\n",
       "      <th>25%</th>\n",
       "      <td>6.000000</td>\n",
       "      <td>2.000000</td>\n",
       "    </tr>\n",
       "    <tr>\n",
       "      <th>50%</th>\n",
       "      <td>9.000000</td>\n",
       "      <td>3.000000</td>\n",
       "    </tr>\n",
       "    <tr>\n",
       "      <th>75%</th>\n",
       "      <td>12.000000</td>\n",
       "      <td>4.000000</td>\n",
       "    </tr>\n",
       "    <tr>\n",
       "      <th>max</th>\n",
       "      <td>14.000000</td>\n",
       "      <td>6.000000</td>\n",
       "    </tr>\n",
       "  </tbody>\n",
       "</table>\n",
       "</div>"
      ],
      "text/plain": [
       "            Income      HH Size\n",
       "count  2430.000000  2430.000000\n",
       "mean      8.720988     2.802058\n",
       "std       3.800654     1.173291\n",
       "min       1.000000     1.000000\n",
       "25%       6.000000     2.000000\n",
       "50%       9.000000     3.000000\n",
       "75%      12.000000     4.000000\n",
       "max      14.000000     6.000000"
      ]
     },
     "execution_count": 28,
     "metadata": {},
     "output_type": "execute_result"
    }
   ],
   "source": [
    "df[['Income','HH Size']].describe()"
   ]
  },
  {
   "cell_type": "code",
   "execution_count": 29,
   "metadata": {},
   "outputs": [],
   "source": [
    "#Low Income, Small HH Size\n",
    "seg1=df[(df['Income']<9) & (df['HH Size']<3)]\n",
    "n1=seg1.shape[0]"
   ]
  },
  {
   "cell_type": "code",
   "execution_count": 30,
   "metadata": {},
   "outputs": [],
   "source": [
    "#High Income, Small HH Size\n",
    "seg2=df[(df['Income']>=9) & (df['HH Size']<3)]\n",
    "n2=seg2.shape[0]"
   ]
  },
  {
   "cell_type": "code",
   "execution_count": 31,
   "metadata": {},
   "outputs": [],
   "source": [
    "#Low Income, Large HH Size\n",
    "seg3=df[(df['Income']<9) & (df['HH Size']>=3)]\n",
    "n3=seg3.shape[0]"
   ]
  },
  {
   "cell_type": "code",
   "execution_count": 32,
   "metadata": {},
   "outputs": [],
   "source": [
    "#High Income, Large HH Size\n",
    "seg4=df[(df['Income']>=9) & (df['HH Size']>=3)]\n",
    "n4=seg4.shape[0]"
   ]
  },
  {
   "cell_type": "code",
   "execution_count": 33,
   "metadata": {},
   "outputs": [],
   "source": [
    "def BIC(data):\n",
    "    params_init = np.array([a1F,a2F,a3F,bfF,bpF])\n",
    "    results = opt.minimize(crit, params_init,data)\n",
    "    n=data.shape[0]\n",
    "    return np.log(n)*(5)-2*(-results.fun)"
   ]
  },
  {
   "cell_type": "code",
   "execution_count": 34,
   "metadata": {},
   "outputs": [
    {
     "data": {
      "text/html": [
       "<div>\n",
       "<style scoped>\n",
       "    .dataframe tbody tr th:only-of-type {\n",
       "        vertical-align: middle;\n",
       "    }\n",
       "\n",
       "    .dataframe tbody tr th {\n",
       "        vertical-align: top;\n",
       "    }\n",
       "\n",
       "    .dataframe thead th {\n",
       "        text-align: right;\n",
       "    }\n",
       "</style>\n",
       "<table border=\"1\" class=\"dataframe\">\n",
       "  <thead>\n",
       "    <tr style=\"text-align: right;\">\n",
       "      <th></th>\n",
       "      <th>BIC</th>\n",
       "    </tr>\n",
       "  </thead>\n",
       "  <tbody>\n",
       "    <tr>\n",
       "      <th>Seg 1</th>\n",
       "      <td>1332.669651</td>\n",
       "    </tr>\n",
       "    <tr>\n",
       "      <th>Seg 2</th>\n",
       "      <td>1251.350202</td>\n",
       "    </tr>\n",
       "    <tr>\n",
       "      <th>Seg 3</th>\n",
       "      <td>990.876326</td>\n",
       "    </tr>\n",
       "    <tr>\n",
       "      <th>Seg 4</th>\n",
       "      <td>1643.086377</td>\n",
       "    </tr>\n",
       "    <tr>\n",
       "      <th>Avg BIC</th>\n",
       "      <td>1304.495639</td>\n",
       "    </tr>\n",
       "    <tr>\n",
       "      <th>25% of Full Model</th>\n",
       "      <td>1339.022907</td>\n",
       "    </tr>\n",
       "  </tbody>\n",
       "</table>\n",
       "</div>"
      ],
      "text/plain": [
       "                          BIC \n",
       "Seg 1              1332.669651\n",
       "Seg 2              1251.350202\n",
       "Seg 3               990.876326\n",
       "Seg 4              1643.086377\n",
       "Avg BIC            1304.495639\n",
       "25% of Full Model  1339.022907"
      ]
     },
     "execution_count": 34,
     "metadata": {},
     "output_type": "execute_result"
    }
   ],
   "source": [
    "tab=pd.DataFrame({'BIC ':[BIC(seg1),BIC(seg2),BIC(seg3),BIC(seg4),\n",
    "                          (BIC(seg1)+BIC(seg2)+BIC(seg3)+BIC(seg4))/4,BIC(df)/4]},\n",
    "                 index=[\"Seg 1\",\"Seg 2\",\"Seg 3\",\"Seg 4\",\"Avg BIC\",\"25% of Full Model\"])\n",
    "tab"
   ]
  },
  {
   "cell_type": "markdown",
   "metadata": {},
   "source": [
    "The average BIC of four models is close to the 25% of the BIC from full logit model.\n",
    "\n",
    "There exists heterogeneity among this four groups, as the BIC changes greatly when one condition varies.\n",
    "\n",
    "Especially for large household size, BIC for high income group is 66% greater than BIC for low income group."
   ]
  },
  {
   "cell_type": "markdown",
   "metadata": {},
   "source": [
    "#### Observable heterogeneity model with interactions "
   ]
  },
  {
   "cell_type": "code",
   "execution_count": 35,
   "metadata": {},
   "outputs": [
    {
     "name": "stdout",
     "output_type": "stream",
     "text": [
      "Maximized Log Likelihood: -2537.4825261515534\n"
     ]
    }
   ],
   "source": [
    "def crit(params,df):\n",
    "\n",
    "    a11,a1i,a1h,a22,a2i,a2h,a33,a3i,a3h,bf,bp,bfi,bfh,bpi,bph=params\n",
    "    \n",
    "    a1=a11+a1i*df[\"Income\"]+a1h*df[\"HH Size\"]\n",
    "    a2=a22+a2i*df[\"Income\"]+a2h*df[\"HH Size\"]\n",
    "    a3=a33+a3i*df[\"Income\"]+a3h*df[\"HH Size\"]\n",
    "    \n",
    "    bfi=bf+bfi*df[\"Income\"]+bfh*df[\"HH Size\"]\n",
    "    bpi=bp+bpi*df[\"Income\"]+bph*df[\"HH Size\"]\n",
    "    \n",
    "    ev1=np.exp(a1+bfi*df['Feature 1']+bpi*df['Price 1'])\n",
    "    ev2=np.exp(a2+bfi*df['Feature 2']+bpi*df['Price 2'])\n",
    "    ev3=np.exp(a3+bfi*df['Feature 3']+bpi*df['Price 3'])\n",
    "    ev4=np.exp(0+bfi*df['Feature 4']+bpi*df['Price 4'])\n",
    "    denom=ev1+ev2+ev3+ev4\n",
    "    \n",
    "    pc=(ev1*df['Brand 1']+ev2*df['Brand  2']+ev3*df['Brand 3']+ev4*df['Brand 4'])/denom\n",
    "    Inpc=np.log(pc)\n",
    "    LL=np.sum(Inpc)\n",
    "    \n",
    "    return -LL\n",
    "\n",
    "a11,a1i,a1h,a22,a2i,a2h,a33,a3i,a3h,bf,bp,bfi,bfh,bpi,bph=1,1,1,1,1,1,1,1,1,1,1,1,1,1,1\n",
    "params_init = np.array([a11,a1i,a1h,a22,a2i,a2h,a33,a3i,a3h,bf,bp,bfi,bfh,bpi,bph])\n",
    "results = opt.minimize(crit, params_init,df)\n",
    "a11,a1i,a1h,a22,a2i,a2h,a33,a3i,a3h,bf,bp,bfi,bfh,bpi,bph= results.x\n",
    "print(\"Maximized Log Likelihood:\",-results.fun)"
   ]
  },
  {
   "cell_type": "markdown",
   "metadata": {},
   "source": [
    "$\\alpha_1=0.51-0.097*Inc+0.617*HH$\n",
    "\n",
    "$\\alpha_2=1.19-0.119*Inc+0.196*HH$\n",
    "\n",
    "$\\alpha_3=-1.88-0.293*Inc+0.373*HH$\n",
    "\n",
    "$\\beta_f=0.542-0.089*Inc+0.219*HH$\n",
    "\n",
    "$\\beta_p=-40+1.22*Inc-2.458*HH$\n"
   ]
  },
  {
   "cell_type": "code",
   "execution_count": 36,
   "metadata": {},
   "outputs": [
    {
     "data": {
      "text/html": [
       "<div>\n",
       "<style scoped>\n",
       "    .dataframe tbody tr th:only-of-type {\n",
       "        vertical-align: middle;\n",
       "    }\n",
       "\n",
       "    .dataframe tbody tr th {\n",
       "        vertical-align: top;\n",
       "    }\n",
       "\n",
       "    .dataframe thead th {\n",
       "        text-align: right;\n",
       "    }\n",
       "</style>\n",
       "<table border=\"1\" class=\"dataframe\">\n",
       "  <thead>\n",
       "    <tr style=\"text-align: right;\">\n",
       "      <th></th>\n",
       "      <th>Mean Value of Parameters</th>\n",
       "      <th>CI Left</th>\n",
       "      <th>CI Right</th>\n",
       "    </tr>\n",
       "  </thead>\n",
       "  <tbody>\n",
       "    <tr>\n",
       "      <th>a11</th>\n",
       "      <td>0.510290</td>\n",
       "      <td>0.187368</td>\n",
       "      <td>0.833211</td>\n",
       "    </tr>\n",
       "    <tr>\n",
       "      <th>a1i</th>\n",
       "      <td>-0.097419</td>\n",
       "      <td>-0.129433</td>\n",
       "      <td>-0.065405</td>\n",
       "    </tr>\n",
       "    <tr>\n",
       "      <th>a1h</th>\n",
       "      <td>0.616646</td>\n",
       "      <td>0.519699</td>\n",
       "      <td>0.713593</td>\n",
       "    </tr>\n",
       "    <tr>\n",
       "      <th>a22</th>\n",
       "      <td>1.190373</td>\n",
       "      <td>0.987831</td>\n",
       "      <td>1.392914</td>\n",
       "    </tr>\n",
       "    <tr>\n",
       "      <th>a2i</th>\n",
       "      <td>-0.118501</td>\n",
       "      <td>-0.143341</td>\n",
       "      <td>-0.093661</td>\n",
       "    </tr>\n",
       "    <tr>\n",
       "      <th>a2h</th>\n",
       "      <td>0.196365</td>\n",
       "      <td>0.099227</td>\n",
       "      <td>0.293502</td>\n",
       "    </tr>\n",
       "    <tr>\n",
       "      <th>a33</th>\n",
       "      <td>-1.884975</td>\n",
       "      <td>-2.344343</td>\n",
       "      <td>-1.425606</td>\n",
       "    </tr>\n",
       "    <tr>\n",
       "      <th>a3i</th>\n",
       "      <td>-0.292851</td>\n",
       "      <td>-0.368287</td>\n",
       "      <td>-0.217416</td>\n",
       "    </tr>\n",
       "    <tr>\n",
       "      <th>a3h</th>\n",
       "      <td>0.372958</td>\n",
       "      <td>0.175329</td>\n",
       "      <td>0.570587</td>\n",
       "    </tr>\n",
       "    <tr>\n",
       "      <th>bf</th>\n",
       "      <td>0.542250</td>\n",
       "      <td>0.136067</td>\n",
       "      <td>0.948433</td>\n",
       "    </tr>\n",
       "    <tr>\n",
       "      <th>bp</th>\n",
       "      <td>-40.113837</td>\n",
       "      <td>-40.682639</td>\n",
       "      <td>-39.545034</td>\n",
       "    </tr>\n",
       "    <tr>\n",
       "      <th>bfi</th>\n",
       "      <td>-0.089989</td>\n",
       "      <td>-0.157655</td>\n",
       "      <td>-0.022323</td>\n",
       "    </tr>\n",
       "    <tr>\n",
       "      <th>bfh</th>\n",
       "      <td>0.219042</td>\n",
       "      <td>0.028561</td>\n",
       "      <td>0.409523</td>\n",
       "    </tr>\n",
       "    <tr>\n",
       "      <th>bpi</th>\n",
       "      <td>1.220267</td>\n",
       "      <td>0.866704</td>\n",
       "      <td>1.573830</td>\n",
       "    </tr>\n",
       "    <tr>\n",
       "      <th>bph</th>\n",
       "      <td>-2.457922</td>\n",
       "      <td>-2.805825</td>\n",
       "      <td>-2.110018</td>\n",
       "    </tr>\n",
       "  </tbody>\n",
       "</table>\n",
       "</div>"
      ],
      "text/plain": [
       "     Mean Value of Parameters    CI Left   CI Right\n",
       "a11                  0.510290   0.187368   0.833211\n",
       "a1i                 -0.097419  -0.129433  -0.065405\n",
       "a1h                  0.616646   0.519699   0.713593\n",
       "a22                  1.190373   0.987831   1.392914\n",
       "a2i                 -0.118501  -0.143341  -0.093661\n",
       "a2h                  0.196365   0.099227   0.293502\n",
       "a33                 -1.884975  -2.344343  -1.425606\n",
       "a3i                 -0.292851  -0.368287  -0.217416\n",
       "a3h                  0.372958   0.175329   0.570587\n",
       "bf                   0.542250   0.136067   0.948433\n",
       "bp                 -40.113837 -40.682639 -39.545034\n",
       "bfi                 -0.089989  -0.157655  -0.022323\n",
       "bfh                  0.219042   0.028561   0.409523\n",
       "bpi                  1.220267   0.866704   1.573830\n",
       "bph                 -2.457922  -2.805825  -2.110018"
      ]
     },
     "execution_count": 36,
     "metadata": {},
     "output_type": "execute_result"
    }
   ],
   "source": [
    "para=[a11,a1i,a1h,a22,a2i,a2h,a33,a3i,a3h,bf,bp,bfi,bfh,bpi,bph]\n",
    "paraname=[\"a11\",\"a1i\",\"a1h\",\"a22\",\"a2i\",\"a2h\",\"a33\",\"a3i\",\"a3h\",\"bf\",\"bp\",\"bfi\",\"bfh\",\"bpi\",\"bph\"]\n",
    "\n",
    "vcv_mle = results.hess_inv\n",
    "CIlow,CIhigh=[],[]\n",
    "for i in range(len(para)):\n",
    "    std=np.sqrt(vcv_mle[i,i])\n",
    "    CIlow.append(para[i]-1.96*std)\n",
    "    CIhigh.append(para[i]+1.96*std)\n",
    "paratable=pd.DataFrame({\"Mean Value of Parameters\":para,\"CI Left\":CIlow,\"CI Right\":CIhigh},\n",
    "                       index=paraname)\n",
    "paratable"
   ]
  },
  {
   "cell_type": "markdown",
   "metadata": {},
   "source": [
    "All of the confidence interval doesn't contain 0 at 95% level. So they are all statistically significant. There exists heterogeneity for groups with different income and household size when responding to feature and price."
   ]
  }
 ],
 "metadata": {
  "kernelspec": {
   "display_name": "Python 3",
   "language": "python",
   "name": "python3"
  },
  "language_info": {
   "codemirror_mode": {
    "name": "ipython",
    "version": 3
   },
   "file_extension": ".py",
   "mimetype": "text/x-python",
   "name": "python",
   "nbconvert_exporter": "python",
   "pygments_lexer": "ipython3",
   "version": "3.7.1"
  }
 },
 "nbformat": 4,
 "nbformat_minor": 2
}
