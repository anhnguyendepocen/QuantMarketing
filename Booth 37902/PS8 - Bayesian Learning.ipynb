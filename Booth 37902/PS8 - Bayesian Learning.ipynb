{
 "cells": [
  {
   "cell_type": "code",
   "execution_count": 1,
   "metadata": {},
   "outputs": [],
   "source": [
    "import pandas as pd\n",
    "import numpy as np\n",
    "import scipy.optimize as opt"
   ]
  },
  {
   "cell_type": "markdown",
   "metadata": {},
   "source": [
    "#### Read in Data"
   ]
  },
  {
   "cell_type": "code",
   "execution_count": 2,
   "metadata": {},
   "outputs": [
    {
     "data": {
      "text/html": [
       "<div>\n",
       "<style scoped>\n",
       "    .dataframe tbody tr th:only-of-type {\n",
       "        vertical-align: middle;\n",
       "    }\n",
       "\n",
       "    .dataframe tbody tr th {\n",
       "        vertical-align: top;\n",
       "    }\n",
       "\n",
       "    .dataframe thead th {\n",
       "        text-align: right;\n",
       "    }\n",
       "</style>\n",
       "<table border=\"1\" class=\"dataframe\">\n",
       "  <thead>\n",
       "    <tr style=\"text-align: right;\">\n",
       "      <th></th>\n",
       "      <th>Period Pres</th>\n",
       "      <th>Upto Pres</th>\n",
       "      <th>Cum Det</th>\n",
       "      <th>Rnd 1</th>\n",
       "      <th>Rnd 2</th>\n",
       "      <th>Rnd 3</th>\n",
       "      <th>Rnd 4</th>\n",
       "      <th>Rnd 5</th>\n",
       "      <th>Rnd 6</th>\n",
       "      <th>Rnd 7</th>\n",
       "      <th>Rnd 8</th>\n",
       "      <th>Rnd 9</th>\n",
       "      <th>Rnd 10</th>\n",
       "      <th>Last Obs</th>\n",
       "      <th>ID</th>\n",
       "    </tr>\n",
       "  </thead>\n",
       "  <tbody>\n",
       "    <tr>\n",
       "      <th>0</th>\n",
       "      <td>0</td>\n",
       "      <td>1</td>\n",
       "      <td>0</td>\n",
       "      <td>1.322058</td>\n",
       "      <td>1.331552</td>\n",
       "      <td>-0.458844</td>\n",
       "      <td>1.030480</td>\n",
       "      <td>-0.100846</td>\n",
       "      <td>-0.284677</td>\n",
       "      <td>0.513185</td>\n",
       "      <td>1.174519</td>\n",
       "      <td>1.942139</td>\n",
       "      <td>-0.305398</td>\n",
       "      <td>0</td>\n",
       "      <td>0</td>\n",
       "    </tr>\n",
       "    <tr>\n",
       "      <th>1</th>\n",
       "      <td>0</td>\n",
       "      <td>1</td>\n",
       "      <td>0</td>\n",
       "      <td>1.606255</td>\n",
       "      <td>0.863877</td>\n",
       "      <td>0.876901</td>\n",
       "      <td>-0.050385</td>\n",
       "      <td>2.009774</td>\n",
       "      <td>-0.171038</td>\n",
       "      <td>-1.165551</td>\n",
       "      <td>-0.580196</td>\n",
       "      <td>0.919090</td>\n",
       "      <td>0.503233</td>\n",
       "      <td>0</td>\n",
       "      <td>0</td>\n",
       "    </tr>\n",
       "    <tr>\n",
       "      <th>2</th>\n",
       "      <td>0</td>\n",
       "      <td>1</td>\n",
       "      <td>0</td>\n",
       "      <td>-1.270226</td>\n",
       "      <td>-0.814384</td>\n",
       "      <td>-2.648688</td>\n",
       "      <td>-0.545644</td>\n",
       "      <td>-2.365354</td>\n",
       "      <td>1.574516</td>\n",
       "      <td>0.405809</td>\n",
       "      <td>-0.771119</td>\n",
       "      <td>-0.471666</td>\n",
       "      <td>-0.851620</td>\n",
       "      <td>0</td>\n",
       "      <td>0</td>\n",
       "    </tr>\n",
       "    <tr>\n",
       "      <th>3</th>\n",
       "      <td>0</td>\n",
       "      <td>1</td>\n",
       "      <td>0</td>\n",
       "      <td>1.045399</td>\n",
       "      <td>-0.000841</td>\n",
       "      <td>-0.798137</td>\n",
       "      <td>-0.309227</td>\n",
       "      <td>0.779146</td>\n",
       "      <td>0.325385</td>\n",
       "      <td>0.610192</td>\n",
       "      <td>0.301137</td>\n",
       "      <td>0.296502</td>\n",
       "      <td>-1.642758</td>\n",
       "      <td>0</td>\n",
       "      <td>0</td>\n",
       "    </tr>\n",
       "    <tr>\n",
       "      <th>4</th>\n",
       "      <td>1</td>\n",
       "      <td>1</td>\n",
       "      <td>1</td>\n",
       "      <td>0.540844</td>\n",
       "      <td>0.741571</td>\n",
       "      <td>-0.409022</td>\n",
       "      <td>-0.335746</td>\n",
       "      <td>0.282179</td>\n",
       "      <td>0.201364</td>\n",
       "      <td>-0.154678</td>\n",
       "      <td>-0.843039</td>\n",
       "      <td>0.610842</td>\n",
       "      <td>0.762996</td>\n",
       "      <td>0</td>\n",
       "      <td>0</td>\n",
       "    </tr>\n",
       "  </tbody>\n",
       "</table>\n",
       "</div>"
      ],
      "text/plain": [
       "   Period Pres  Upto Pres  Cum Det     Rnd 1     Rnd 2     Rnd 3     Rnd 4  \\\n",
       "0            0          1        0  1.322058  1.331552 -0.458844  1.030480   \n",
       "1            0          1        0  1.606255  0.863877  0.876901 -0.050385   \n",
       "2            0          1        0 -1.270226 -0.814384 -2.648688 -0.545644   \n",
       "3            0          1        0  1.045399 -0.000841 -0.798137 -0.309227   \n",
       "4            1          1        1  0.540844  0.741571 -0.409022 -0.335746   \n",
       "\n",
       "      Rnd 5     Rnd 6     Rnd 7     Rnd 8     Rnd 9    Rnd 10  Last Obs  ID  \n",
       "0 -0.100846 -0.284677  0.513185  1.174519  1.942139 -0.305398         0   0  \n",
       "1  2.009774 -0.171038 -1.165551 -0.580196  0.919090  0.503233         0   0  \n",
       "2 -2.365354  1.574516  0.405809 -0.771119 -0.471666 -0.851620         0   0  \n",
       "3  0.779146  0.325385  0.610192  0.301137  0.296502 -1.642758         0   0  \n",
       "4  0.282179  0.201364 -0.154678 -0.843039  0.610842  0.762996         0   0  "
      ]
     },
     "execution_count": 2,
     "metadata": {},
     "output_type": "execute_result"
    }
   ],
   "source": [
    "df=pd.read_excel(\"PhysDiff.xls\")\n",
    "#Generate physicians ID\n",
    "df[\"ID\"]=(df.index)//6\n",
    "df.head()"
   ]
  },
  {
   "cell_type": "markdown",
   "metadata": {},
   "source": [
    "Period Pres: Period in which physician first prescribes\n",
    "    \n",
    "Upto Pres: Periods upto first prescription - as the likelihood discards all subsequent observations\n",
    "\n",
    "Cum Det: Cumulative number of calls for each physician\n",
    "\n",
    "Rnd 1-10: Random draws 1-10\n"
   ]
  },
  {
   "cell_type": "markdown",
   "metadata": {},
   "source": [
    "#### Bayesian Learning"
   ]
  },
  {
   "cell_type": "code",
   "execution_count": 3,
   "metadata": {},
   "outputs": [],
   "source": [
    "def crit(params):\n",
    "    '''\n",
    "    Function computes the negative log likelihood of Bayesian Learning Model\n",
    "    Input:\n",
    "    params: alpha, alpha_0 and sigma_square\n",
    "    D (number of draws), assume given for this case\n",
    "    '''  \n",
    "    #Step 0: Starting values\n",
    "    IQP, TQP, ADSV=params\n",
    "    \n",
    "    #Step 1: STandard normal draws\n",
    "    D=10\n",
    "    #Given in this dataset\n",
    "    #Otherwise use np.random.normal to make NTDJ draws\n",
    "    \n",
    "    #New dataframe for storing likelihood for each physician\n",
    "    global liktab\n",
    "    liktab=pd.DataFrame({\"ID\":df[\"ID\"]})\n",
    "    \n",
    "    #Step 2: transform distributions\n",
    "    \n",
    "    for i in range(1,D+1):\n",
    "        df[\"NDr \"+str(i)]=TQP*df[\"Cum Det\"]+np.sqrt(ADSV*df[\"Cum Det\"])*df[\"Rnd \"+str(i)]\n",
    "    \n",
    "    #Step3: Posterior belief:\n",
    "        df[\"qp \"+str(i)]=(IQP+df[\"NDr \"+str(i)]/ADSV)/(1+df[\"Cum Det\"]/ADSV)\n",
    "        \n",
    "    #Step 4-7: Likelihood of adoption\n",
    "        Pr=np.exp(df[\"qp \"+str(i)])/(1+np.exp(df[\"qp \"+str(i)]))\n",
    "        df[\"prp \"+str(i)]=(Pr*df[\"Period Pres\"]+(1-Pr)*(1-df[\"Period Pres\"]))**df[\"Upto Pres\"]\n",
    "        \n",
    "    #Step 8:\n",
    "        liktab[i]=df.groupby(\"ID\")[[\"prp \"+str(i)]].prod()\n",
    "        \n",
    "    #Step 9: Physicians' average likelihood\n",
    "    liktab=liktab.drop(columns=['ID'])\n",
    "    liktab[\"avg\"]=liktab.mean(axis=1)\n",
    "    \n",
    "    #Step 10: Sum of log likelihood\n",
    "    LL=np.sum(np.log(liktab[\"avg\"]))\n",
    "    \n",
    "    return -LL"
   ]
  },
  {
   "cell_type": "code",
   "execution_count": 4,
   "metadata": {},
   "outputs": [
    {
     "name": "stdout",
     "output_type": "stream",
     "text": [
      " alpha_0: -1.2914972474901312 \n",
      " alpha 2.5918291877903616 \n",
      " sigma^2: 2.407976762122733 \n",
      " Maximized Log Likelihood: -1868.740615803639\n"
     ]
    }
   ],
   "source": [
    "#Step 11: Maximize the LL by choosing alpha_0, alpha and sigma_square parameters\n",
    "para_init=[-1,2,3]\n",
    "results = opt.minimize(crit, para_init,tol=1e-10, method='L-BFGS-B')\n",
    "a1,a2,a3 = results.x\n",
    "print(\" alpha_0:\",a1,\"\\n\",\n",
    "      \"alpha\",a2,\"\\n\",\n",
    "      \"sigma^2:\",a3,\"\\n\",\n",
    "      \"Maximized Log Likelihood:\",-results.fun)"
   ]
  },
  {
   "cell_type": "markdown",
   "metadata": {},
   "source": [
    "#### LC Model (allow for some unobserved heterogeneity across physicians)"
   ]
  },
  {
   "cell_type": "markdown",
   "metadata": {},
   "source": [
    "Try latent-class heterogeneity model with 3 segments"
   ]
  },
  {
   "cell_type": "code",
   "execution_count": 5,
   "metadata": {},
   "outputs": [],
   "source": [
    "def crit2(params):\n",
    "    '''\n",
    "    Function computes the negative log likelihood of Bayesian Learning Model\n",
    "    Input:\n",
    "    params: alpha, alpha_0 and sigma_square\n",
    "    D (number of draws), assume given for this case\n",
    "    '''  \n",
    "    IQP1, TQP1, ADSV1, \\\n",
    "    IQP2, TQP2, ADSV2, \\\n",
    "    IQP3, TQP3, ADSV3 ,lam1,lam2=params    \n",
    "    D=10\n",
    "    liktab1=pd.DataFrame({\"ID\":df[\"ID\"]})\n",
    "    liktab2=pd.DataFrame({\"ID\":df[\"ID\"]})\n",
    "    liktab3=pd.DataFrame({\"ID\":df[\"ID\"]})\n",
    "\n",
    "    #Segment 1\n",
    "    for i in range(1,D+1):\n",
    "        df[\"NDr \"+str(i)]=TQP1*df[\"Cum Det\"]+np.sqrt(ADSV1*df[\"Cum Det\"])*df[\"Rnd \"+str(i)] \n",
    "        df[\"qp \"+str(i)]=(IQP1+df[\"NDr \"+str(i)]/ADSV1)/(1+df[\"Cum Det\"]/ADSV1)\n",
    "        Pr=np.exp(df[\"qp \"+str(i)])/(1+np.exp(df[\"qp \"+str(i)]))\n",
    "        df[\"prp \"+str(i)]=(Pr*df[\"Period Pres\"]+(1-Pr)*(1-df[\"Period Pres\"]))**df[\"Upto Pres\"]\n",
    "        liktab1[i]=df.groupby(\"ID\")[[\"prp \"+str(i)]].prod()\n",
    "    liktab1=liktab1.drop(columns=['ID'])\n",
    "    liktab1[\"avg\"]=liktab1.mean(axis=1)\n",
    "\n",
    "    #Segment 2\n",
    "    for i in range(1,D+1):\n",
    "        df[\"NDr \"+str(i)]=TQP2*df[\"Cum Det\"]+np.sqrt(ADSV2*df[\"Cum Det\"])*df[\"Rnd \"+str(i)] \n",
    "        df[\"qp \"+str(i)]=(IQP2+df[\"NDr \"+str(i)]/ADSV2)/(1+df[\"Cum Det\"]/ADSV2)\n",
    "        Pr=np.exp(df[\"qp \"+str(i)])/(1+np.exp(df[\"qp \"+str(i)]))\n",
    "        df[\"prp \"+str(i)]=(Pr*df[\"Period Pres\"]+(1-Pr)*(1-df[\"Period Pres\"]))**df[\"Upto Pres\"]\n",
    "        liktab2[i]=df.groupby(\"ID\")[[\"prp \"+str(i)]].prod()\n",
    "    liktab2=liktab2.drop(columns=['ID'])\n",
    "    liktab2[\"avg\"]=liktab2.mean(axis=1)\n",
    " \n",
    "    #Segment 3\n",
    "    for i in range(1,D+1):\n",
    "        df[\"NDr \"+str(i)]=TQP3*df[\"Cum Det\"]+np.sqrt(ADSV3*df[\"Cum Det\"])*df[\"Rnd \"+str(i)] \n",
    "        df[\"qp \"+str(i)]=(IQP3+df[\"NDr \"+str(i)]/ADSV3)/(1+df[\"Cum Det\"]/ADSV3)\n",
    "        Pr=np.exp(df[\"qp \"+str(i)])/(1+np.exp(df[\"qp \"+str(i)]))\n",
    "        df[\"prp \"+str(i)]=(Pr*df[\"Period Pres\"]+(1-Pr)*(1-df[\"Period Pres\"]))**df[\"Upto Pres\"]\n",
    "        liktab3[i]=df.groupby(\"ID\")[[\"prp \"+str(i)]].prod()\n",
    "    liktab3=liktab3.drop(columns=['ID'])\n",
    "    liktab3[\"avg\"]=liktab3.mean(axis=1)\n",
    "    \n",
    "    pi1=np.exp(lam1)/(1+np.exp(lam1) + np.exp(lam2))\n",
    "    pi2=np.exp(lam2)/(1+np.exp(lam1) + np.exp(lam2))\n",
    "    pi3=1-pi1-pi2\n",
    "    \n",
    "    agg_seg=liktab1[\"avg\"]*pi1+liktab2[\"avg\"]*pi2+liktab3[\"avg\"]*pi3\n",
    "    \n",
    "    LL=np.sum(np.log(agg_seg))\n",
    "    \n",
    "    return -LL"
   ]
  },
  {
   "cell_type": "code",
   "execution_count": 16,
   "metadata": {},
   "outputs": [
    {
     "name": "stdout",
     "output_type": "stream",
     "text": [
      " alpha_0: -1.291497104008225 \n",
      " alpha 2.5918382289828994 \n",
      " sigma^2: 2.407986247552964 \n",
      " Maximized Log Likelihood: -1868.740615803639\n"
     ]
    }
   ],
   "source": [
    "#Step 11: Maximize the LL by choosing alpha, alpha_0 and sigma_square parameters\n",
    "para_init=[-1.3,2.6,2.4,-1,4,4,-2,1,1,0,0]\n",
    "results2 = opt.minimize(crit2, para_init,tol=1e-10, method='BFGS')\n",
    "a1,a2,a3,b1,b2,b3,c1,c2,c3, lam1,lam2 = results2.x\n",
    "print(\" alpha_0:\",a1,\"\\n\",\n",
    "      \"alpha\",a2,\"\\n\",\n",
    "      \"sigma^2:\",a3,\"\\n\",\n",
    "      \"Maximized Log Likelihood:\",-results.fun)"
   ]
  },
  {
   "cell_type": "code",
   "execution_count": 17,
   "metadata": {},
   "outputs": [
    {
     "name": "stdout",
     "output_type": "stream",
     "text": [
      "Probability of belonging to seg 1: 0.7265481930964626\n",
      "Probability of belonging to seg 2: 0.14992474382310497\n",
      "Probability of belonging to seg 3: 0.1235270630804324\n"
     ]
    }
   ],
   "source": [
    "print(\"Probability of belonging to seg 1:\",np.exp(lam1)/(1+np.exp(lam1)+np.exp(lam2)))\n",
    "print(\"Probability of belonging to seg 2:\",np.exp(lam2)/(1+np.exp(lam1)+np.exp(lam2)))\n",
    "print(\"Probability of belonging to seg 3:\",1/(1+np.exp(lam1)+np.exp(lam2)))"
   ]
  },
  {
   "cell_type": "code",
   "execution_count": 18,
   "metadata": {},
   "outputs": [
    {
     "data": {
      "text/html": [
       "<div>\n",
       "<style scoped>\n",
       "    .dataframe tbody tr th:only-of-type {\n",
       "        vertical-align: middle;\n",
       "    }\n",
       "\n",
       "    .dataframe tbody tr th {\n",
       "        vertical-align: top;\n",
       "    }\n",
       "\n",
       "    .dataframe thead th {\n",
       "        text-align: right;\n",
       "    }\n",
       "</style>\n",
       "<table border=\"1\" class=\"dataframe\">\n",
       "  <thead>\n",
       "    <tr style=\"text-align: right;\">\n",
       "      <th></th>\n",
       "      <th>Seg1</th>\n",
       "      <th>Seg2</th>\n",
       "      <th>Seg3</th>\n",
       "    </tr>\n",
       "  </thead>\n",
       "  <tbody>\n",
       "    <tr>\n",
       "      <th>alpha_0</th>\n",
       "      <td>-1.291497</td>\n",
       "      <td>-1.291498</td>\n",
       "      <td>-1.291497</td>\n",
       "    </tr>\n",
       "    <tr>\n",
       "      <th>alpha</th>\n",
       "      <td>2.591838</td>\n",
       "      <td>2.591736</td>\n",
       "      <td>2.591736</td>\n",
       "    </tr>\n",
       "    <tr>\n",
       "      <th>sigma^2</th>\n",
       "      <td>2.407986</td>\n",
       "      <td>2.407882</td>\n",
       "      <td>2.407868</td>\n",
       "    </tr>\n",
       "  </tbody>\n",
       "</table>\n",
       "</div>"
      ],
      "text/plain": [
       "             Seg1      Seg2      Seg3\n",
       "alpha_0 -1.291497 -1.291498 -1.291497\n",
       "alpha    2.591838  2.591736  2.591736\n",
       "sigma^2  2.407986  2.407882  2.407868"
      ]
     },
     "execution_count": 18,
     "metadata": {},
     "output_type": "execute_result"
    }
   ],
   "source": [
    "pd.DataFrame({\"Seg1\":[a1,a2,a3],\n",
    "              'Seg2':[b1,b2,b3],\n",
    "              'Seg3':[c1,c2,c3]},\n",
    "              index=['alpha_0','alpha','sigma^2'])"
   ]
  }
 ],
 "metadata": {
  "kernelspec": {
   "display_name": "Python 3",
   "language": "python",
   "name": "python3"
  },
  "language_info": {
   "codemirror_mode": {
    "name": "ipython",
    "version": 3
   },
   "file_extension": ".py",
   "mimetype": "text/x-python",
   "name": "python",
   "nbconvert_exporter": "python",
   "pygments_lexer": "ipython3",
   "version": "3.7.1"
  }
 },
 "nbformat": 4,
 "nbformat_minor": 2
}
