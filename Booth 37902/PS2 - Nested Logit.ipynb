{
 "cells": [
  {
   "cell_type": "markdown",
   "metadata": {},
   "source": [
    "37902 Foundation of Advanced Quantitative Marketing\n",
    "\n",
    "Li Liu"
   ]
  },
  {
   "cell_type": "code",
   "execution_count": 1,
   "metadata": {},
   "outputs": [],
   "source": [
    "import numpy as np\n",
    "import pandas as pd\n",
    "import matplotlib.pyplot as plt\n",
    "import scipy.optimize as opt\n",
    "pd.options.display.max_colwidth = 1000"
   ]
  },
  {
   "cell_type": "markdown",
   "metadata": {},
   "source": [
    "### Yogurt100N Sales Data"
   ]
  },
  {
   "cell_type": "code",
   "execution_count": 2,
   "metadata": {
    "scrolled": true
   },
   "outputs": [
    {
     "data": {
      "text/html": [
       "<div>\n",
       "<style scoped>\n",
       "    .dataframe tbody tr th:only-of-type {\n",
       "        vertical-align: middle;\n",
       "    }\n",
       "\n",
       "    .dataframe tbody tr th {\n",
       "        vertical-align: top;\n",
       "    }\n",
       "\n",
       "    .dataframe thead th {\n",
       "        text-align: right;\n",
       "    }\n",
       "</style>\n",
       "<table border=\"1\" class=\"dataframe\">\n",
       "  <thead>\n",
       "    <tr style=\"text-align: right;\">\n",
       "      <th></th>\n",
       "      <th>Pan I.D.</th>\n",
       "      <th>Expend $</th>\n",
       "      <th>Income</th>\n",
       "      <th>HH Size</th>\n",
       "      <th>IPT</th>\n",
       "      <th>Quantity</th>\n",
       "      <th>Brand 1</th>\n",
       "      <th>Brand  2</th>\n",
       "      <th>Brand 3</th>\n",
       "      <th>Brand 4</th>\n",
       "      <th>Feature 1</th>\n",
       "      <th>Feature 2</th>\n",
       "      <th>Feature 3</th>\n",
       "      <th>Feature 4</th>\n",
       "      <th>Price 1</th>\n",
       "      <th>Price 2</th>\n",
       "      <th>Price 3</th>\n",
       "      <th>Price 4</th>\n",
       "      <th>PanelistFirstObs</th>\n",
       "    </tr>\n",
       "  </thead>\n",
       "  <tbody>\n",
       "    <tr>\n",
       "      <th>0</th>\n",
       "      <td>1</td>\n",
       "      <td>40.900002</td>\n",
       "      <td>9</td>\n",
       "      <td>2</td>\n",
       "      <td>5</td>\n",
       "      <td>2</td>\n",
       "      <td>0</td>\n",
       "      <td>0</td>\n",
       "      <td>0</td>\n",
       "      <td>1</td>\n",
       "      <td>0</td>\n",
       "      <td>0</td>\n",
       "      <td>0</td>\n",
       "      <td>0</td>\n",
       "      <td>0.108</td>\n",
       "      <td>0.081</td>\n",
       "      <td>0.061</td>\n",
       "      <td>0.079</td>\n",
       "      <td>1</td>\n",
       "    </tr>\n",
       "    <tr>\n",
       "      <th>1</th>\n",
       "      <td>1</td>\n",
       "      <td>16.809999</td>\n",
       "      <td>9</td>\n",
       "      <td>2</td>\n",
       "      <td>5</td>\n",
       "      <td>2</td>\n",
       "      <td>0</td>\n",
       "      <td>1</td>\n",
       "      <td>0</td>\n",
       "      <td>0</td>\n",
       "      <td>0</td>\n",
       "      <td>0</td>\n",
       "      <td>0</td>\n",
       "      <td>0</td>\n",
       "      <td>0.108</td>\n",
       "      <td>0.098</td>\n",
       "      <td>0.064</td>\n",
       "      <td>0.075</td>\n",
       "      <td>0</td>\n",
       "    </tr>\n",
       "    <tr>\n",
       "      <th>2</th>\n",
       "      <td>1</td>\n",
       "      <td>4.060000</td>\n",
       "      <td>9</td>\n",
       "      <td>2</td>\n",
       "      <td>1</td>\n",
       "      <td>2</td>\n",
       "      <td>0</td>\n",
       "      <td>1</td>\n",
       "      <td>0</td>\n",
       "      <td>0</td>\n",
       "      <td>0</td>\n",
       "      <td>0</td>\n",
       "      <td>0</td>\n",
       "      <td>0</td>\n",
       "      <td>0.108</td>\n",
       "      <td>0.098</td>\n",
       "      <td>0.061</td>\n",
       "      <td>0.086</td>\n",
       "      <td>0</td>\n",
       "    </tr>\n",
       "    <tr>\n",
       "      <th>3</th>\n",
       "      <td>1</td>\n",
       "      <td>34.459999</td>\n",
       "      <td>9</td>\n",
       "      <td>2</td>\n",
       "      <td>4</td>\n",
       "      <td>2</td>\n",
       "      <td>0</td>\n",
       "      <td>1</td>\n",
       "      <td>0</td>\n",
       "      <td>0</td>\n",
       "      <td>0</td>\n",
       "      <td>0</td>\n",
       "      <td>0</td>\n",
       "      <td>0</td>\n",
       "      <td>0.108</td>\n",
       "      <td>0.098</td>\n",
       "      <td>0.061</td>\n",
       "      <td>0.086</td>\n",
       "      <td>0</td>\n",
       "    </tr>\n",
       "    <tr>\n",
       "      <th>4</th>\n",
       "      <td>1</td>\n",
       "      <td>8.390000</td>\n",
       "      <td>9</td>\n",
       "      <td>2</td>\n",
       "      <td>7</td>\n",
       "      <td>2</td>\n",
       "      <td>0</td>\n",
       "      <td>1</td>\n",
       "      <td>0</td>\n",
       "      <td>0</td>\n",
       "      <td>0</td>\n",
       "      <td>0</td>\n",
       "      <td>0</td>\n",
       "      <td>0</td>\n",
       "      <td>0.125</td>\n",
       "      <td>0.098</td>\n",
       "      <td>0.049</td>\n",
       "      <td>0.079</td>\n",
       "      <td>0</td>\n",
       "    </tr>\n",
       "  </tbody>\n",
       "</table>\n",
       "</div>"
      ],
      "text/plain": [
       "   Pan I.D.   Expend $  Income  HH Size  IPT  Quantity  Brand 1  Brand  2  \\\n",
       "0         1  40.900002       9        2    5         2        0         0   \n",
       "1         1  16.809999       9        2    5         2        0         1   \n",
       "2         1   4.060000       9        2    1         2        0         1   \n",
       "3         1  34.459999       9        2    4         2        0         1   \n",
       "4         1   8.390000       9        2    7         2        0         1   \n",
       "\n",
       "   Brand 3  Brand 4  Feature 1  Feature 2  Feature 3  Feature 4  Price 1  \\\n",
       "0        0        1          0          0          0          0    0.108   \n",
       "1        0        0          0          0          0          0    0.108   \n",
       "2        0        0          0          0          0          0    0.108   \n",
       "3        0        0          0          0          0          0    0.108   \n",
       "4        0        0          0          0          0          0    0.125   \n",
       "\n",
       "   Price 2  Price 3  Price 4  PanelistFirstObs  \n",
       "0    0.081    0.061    0.079                 1  \n",
       "1    0.098    0.064    0.075                 0  \n",
       "2    0.098    0.061    0.086                 0  \n",
       "3    0.098    0.061    0.086                 0  \n",
       "4    0.098    0.049    0.079                 0  "
      ]
     },
     "execution_count": 2,
     "metadata": {},
     "output_type": "execute_result"
    }
   ],
   "source": [
    "df=pd.read_excel(\"Yogurt100N.csv.xlsx\")\n",
    "df.describe()\n",
    "df.head()"
   ]
  },
  {
   "cell_type": "markdown",
   "metadata": {},
   "source": [
    "### Simple Logit on Yogurt Data"
   ]
  },
  {
   "cell_type": "code",
   "execution_count": 3,
   "metadata": {},
   "outputs": [
    {
     "name": "stdout",
     "output_type": "stream",
     "text": [
      " a1 (Intrinsic brand preference for Brand 1): 1.3877493848693059 \n",
      " a2 (Intrinsic brand preference for Brand 2): 0.6435046305879636 \n",
      " a3 (Intrinsic brand preference for Brand 3): -3.0861119572117355 \n",
      " bf (Coefficients for feature variable): 0.4874149107851659 \n",
      " bp (Coefficients for price variable): -37.057782766093105 \n",
      " Maximized Log Likelihood: -2658.5566975071233\n"
     ]
    }
   ],
   "source": [
    "def crit(params):\n",
    "\n",
    "    a1,a2,a3,bf,bp=params\n",
    "    ev1=np.exp(a1+bf*df['Feature 1']+bp*df['Price 1'])\n",
    "    ev2=np.exp(a2+bf*df['Feature 2']+bp*df['Price 2'])\n",
    "    ev3=np.exp(a3+bf*df['Feature 3']+bp*df['Price 3'])\n",
    "    ev4=np.exp(0+bf*df['Feature 4']+bp*df['Price 4'])\n",
    "    denom=ev1+ev2+ev3+ev4\n",
    "    global p1,p2,p3,p4\n",
    "    p1,p2,p3,p4=ev1/denom,ev2/denom,ev3/denom,ev4/denom\n",
    "    pc=(ev1*df['Brand 1']+ev2*df['Brand  2']+ev3*df['Brand 3']+ev4*df['Brand 4'])/denom\n",
    "    Inpc=np.log(pc)\n",
    "    LL=np.sum(Inpc)\n",
    "    return -LL\n",
    "a1,a2,a3,bf,bp=1,1,1,1,1 #Initalization\n",
    "params_init = np.array([a1,a2,a3,bf,bp])\n",
    "results = opt.minimize(crit, params_init)\n",
    "a1,a2,a3,bf,bp = results.x\n",
    "print(\" a1 (Intrinsic brand preference for Brand 1):\",a1,\"\\n\",\n",
    "      \"a2 (Intrinsic brand preference for Brand 2):\",a2,\"\\n\",\n",
    "      \"a3 (Intrinsic brand preference for Brand 3):\",a3,\"\\n\",\n",
    "      \"bf (Coefficients for feature variable):\",bf,\"\\n\",\n",
    "      \"bp (Coefficients for price variable):\",bp,\"\\n\",\n",
    "      \"Maximized Log Likelihood:\",-results.fun)"
   ]
  },
  {
   "cell_type": "code",
   "execution_count": 4,
   "metadata": {},
   "outputs": [],
   "source": [
    "#Own elasticities\n",
    "e11=np.mean((bf*df['Feature 1']+bp*df['Price 1'])*(1-p1))\n",
    "e22=np.mean((bf*df['Feature 2']+bp*df['Price 2'])*(1-p2))\n",
    "e33=np.mean((bf*df['Feature 3']+bp*df['Price 3'])*(1-p3))\n",
    "e44=np.mean((bf*df['Feature 4']+bp*df['Price 4'])*(1-p4))"
   ]
  },
  {
   "cell_type": "code",
   "execution_count": 5,
   "metadata": {},
   "outputs": [],
   "source": [
    "#Property of Logit Model: for all j != k, the cross elasticity will be the same.\n",
    "e21=e31=e41=np.mean(-(bf*df['Feature 1']+bp*df['Price 1'])*p1)\n",
    "e12=e32=e42=np.mean(-(bf*df['Feature 2']+bp*df['Price 2'])*p2)\n",
    "e13=e23=e43=np.mean(-(bf*df['Feature 3']+bp*df['Price 3'])*p3)\n",
    "e14=e24=e34=np.mean(-(bf*df['Feature 4']+bp*df['Price 4'])*p4)"
   ]
  },
  {
   "cell_type": "code",
   "execution_count": 6,
   "metadata": {},
   "outputs": [
    {
     "name": "stdout",
     "output_type": "stream",
     "text": [
      "Elasiticy Matrix with Simple Logit Model\n"
     ]
    },
    {
     "data": {
      "text/html": [
       "<div>\n",
       "<style scoped>\n",
       "    .dataframe tbody tr th:only-of-type {\n",
       "        vertical-align: middle;\n",
       "    }\n",
       "\n",
       "    .dataframe tbody tr th {\n",
       "        vertical-align: top;\n",
       "    }\n",
       "\n",
       "    .dataframe thead th {\n",
       "        text-align: right;\n",
       "    }\n",
       "</style>\n",
       "<table border=\"1\" class=\"dataframe\">\n",
       "  <thead>\n",
       "    <tr style=\"text-align: right;\">\n",
       "      <th></th>\n",
       "      <th>Brand 1</th>\n",
       "      <th>Brand2</th>\n",
       "      <th>Brand 3</th>\n",
       "      <th>Brand 4</th>\n",
       "    </tr>\n",
       "  </thead>\n",
       "  <tbody>\n",
       "    <tr>\n",
       "      <th>Brand 1</th>\n",
       "      <td>-2.688666</td>\n",
       "      <td>1.164621</td>\n",
       "      <td>0.052607</td>\n",
       "      <td>0.651862</td>\n",
       "    </tr>\n",
       "    <tr>\n",
       "      <th>Brand 2</th>\n",
       "      <td>1.221561</td>\n",
       "      <td>-1.837507</td>\n",
       "      <td>0.052607</td>\n",
       "      <td>0.651862</td>\n",
       "    </tr>\n",
       "    <tr>\n",
       "      <th>Brand 3</th>\n",
       "      <td>1.221561</td>\n",
       "      <td>1.164621</td>\n",
       "      <td>-1.916245</td>\n",
       "      <td>0.651862</td>\n",
       "    </tr>\n",
       "    <tr>\n",
       "      <th>Brand 4</th>\n",
       "      <td>1.221561</td>\n",
       "      <td>1.164621</td>\n",
       "      <td>0.052607</td>\n",
       "      <td>-2.276253</td>\n",
       "    </tr>\n",
       "  </tbody>\n",
       "</table>\n",
       "</div>"
      ],
      "text/plain": [
       "          Brand 1    Brand2   Brand 3   Brand 4\n",
       "Brand 1 -2.688666  1.164621  0.052607  0.651862\n",
       "Brand 2  1.221561 -1.837507  0.052607  0.651862\n",
       "Brand 3  1.221561  1.164621 -1.916245  0.651862\n",
       "Brand 4  1.221561  1.164621  0.052607 -2.276253"
      ]
     },
     "execution_count": 6,
     "metadata": {},
     "output_type": "execute_result"
    }
   ],
   "source": [
    "mat=pd.DataFrame({\"Brand 1\":[e11,e21,e31,e41], \"Brand2\":[e12,e22,e32,e42],\n",
    "                  \"Brand 3\":[e13,e23,e33,e43],'Brand 4':[e14,e24,e34,e44]})\n",
    "mat.index=[\"Brand 1\",\"Brand 2\", \"Brand 3\", \"Brand 4\"]\n",
    "print(\"Elasiticy Matrix with Simple Logit Model\")\n",
    "mat"
   ]
  },
  {
   "cell_type": "markdown",
   "metadata": {},
   "source": [
    "### Nested Logit Model on Yogurt Data"
   ]
  },
  {
   "cell_type": "markdown",
   "metadata": {},
   "source": [
    "#### 1. brands 1~3 in one nest and 4 in another "
   ]
  },
  {
   "cell_type": "code",
   "execution_count": 7,
   "metadata": {},
   "outputs": [],
   "source": [
    "def nestedlogit(params):\n",
    "\n",
    "    a1,a2,a3,bf,bp,theta=params \n",
    "    rho=np.exp(theta)/(np.exp(theta)+1)\n",
    "    ev1=np.exp((a1+bf*df['Feature 1']+bp*df['Price 1'])/rho)\n",
    "    ev2=np.exp((a2+bf*df['Feature 2']+bp*df['Price 2'])/rho)\n",
    "    ev3=np.exp((a3+bf*df['Feature 3']+bp*df['Price 3'])/rho)\n",
    "    ev4=np.exp(0+bf*df['Feature 4']+bp*df['Price 4'])\n",
    "    denom=ev1+ev2+ev3\n",
    "    global P1,P2,P3,P4\n",
    "\n",
    "    P4=ev4/(np.power(denom,rho)+ev4)\n",
    "    P1=(1-P4)*ev1/denom\n",
    "    P2=(1-P4)*ev2/denom\n",
    "    P3=(1-P4)*ev3/denom\n",
    "        \n",
    "    pc=(P1*df['Brand 1']+P2*df['Brand  2']+P3*df['Brand 3']+P4*df['Brand 4'])\n",
    "    Inpc=np.log(pc)\n",
    "    LL=np.sum(Inpc)\n",
    "    return -LL"
   ]
  },
  {
   "cell_type": "code",
   "execution_count": 8,
   "metadata": {},
   "outputs": [
    {
     "name": "stdout",
     "output_type": "stream",
     "text": [
      " a1 (Intrinsic brand preference for Brand 1): 1.3816689432731886 \n",
      " a2 (Intrinsic brand preference for Brand 2): 0.8394218694834024 \n",
      " a3 (Intrinsic brand preference for Brand 3): -1.6585023784518325 \n",
      " bf (Coefficients for feature variable): 0.3744679884335011 \n",
      " bp (Coefficients for price variable): -26.58112038547648 \n",
      " rho (Correlation variable): 0.6433848076286417 \n",
      " Maximized Log Likelihood: -2653.7645999847773\n"
     ]
    }
   ],
   "source": [
    "a1,a2,a3,bf,bp,theta=1,1,1,1,1,1 #Initalization\n",
    "params_init = np.array([a1,a2,a3,bf,bp,theta])\n",
    "results = opt.minimize(nestedlogit, params_init)\n",
    "a1,a2,a3,bf,bp,theta = results.x\n",
    "print(\" a1 (Intrinsic brand preference for Brand 1):\",a1,\"\\n\",\n",
    "      \"a2 (Intrinsic brand preference for Brand 2):\",a2,\"\\n\",\n",
    "      \"a3 (Intrinsic brand preference for Brand 3):\",a3,\"\\n\",\n",
    "      \"bf (Coefficients for feature variable):\",bf,\"\\n\",\n",
    "      \"bp (Coefficients for price variable):\",bp,\"\\n\",\n",
    "      \"rho (Correlation variable):\",np.exp(theta)/(np.exp(theta)+1),\"\\n\",\n",
    "      \"Maximized Log Likelihood:\",-results.fun)"
   ]
  },
  {
   "cell_type": "code",
   "execution_count": 9,
   "metadata": {},
   "outputs": [
    {
     "name": "stdout",
     "output_type": "stream",
     "text": [
      "Standard error for a1 estimate =  0.07125745085397713\n",
      "Standard error for a2 estimate =  0.0498364392238186\n",
      "Standard error for a3 estimate =  0.023037025008121905\n",
      "Standard error for bf estimate =  0.08637968526841336\n",
      "Standard error for bp estimate =  1.4536600440077279\n",
      "Standard error for theta estimate =  0.1084251269080594\n"
     ]
    }
   ],
   "source": [
    "vcv_mle = results.hess_inv\n",
    "stderr_a1_mle = np.sqrt(vcv_mle[0,0])\n",
    "stderr_a2_mle = np.sqrt(vcv_mle[1,1])\n",
    "stderr_a3_mle = np.sqrt(vcv_mle[2,2])\n",
    "stderr_bf_mle = np.sqrt(vcv_mle[3,3])\n",
    "stderr_bp_mle = np.sqrt(vcv_mle[4,4])\n",
    "stderr_theta_mle = np.sqrt(vcv_mle[5,5])\n",
    "\n",
    "print('Standard error for a1 estimate = ', stderr_a1_mle)\n",
    "print('Standard error for a2 estimate = ', stderr_a2_mle)\n",
    "print('Standard error for a3 estimate = ', stderr_a3_mle)\n",
    "print('Standard error for bf estimate = ', stderr_bf_mle)\n",
    "print('Standard error for bp estimate = ', stderr_bp_mle)\n",
    "print('Standard error for theta estimate = ', stderr_theta_mle)"
   ]
  },
  {
   "cell_type": "markdown",
   "metadata": {},
   "source": [
    "#### 2. brands 1 and 4 in one nest; 2 and 3 in another"
   ]
  },
  {
   "cell_type": "code",
   "execution_count": 10,
   "metadata": {},
   "outputs": [],
   "source": [
    "def nestedlogit2(params):\n",
    "\n",
    "    a1,a2,a3,bf,bp,theta1,theta2=params\n",
    "    rho1=np.exp(theta1)/(np.exp(theta1)+1)\n",
    "    rho2=np.exp(theta2)/(np.exp(theta2)+1)\n",
    "    \n",
    "    #Nest1 (Brand 1 and 4)\n",
    "    ev1=np.exp((a1+bf*df['Feature 1']+bp*df['Price 1'])/rho1)\n",
    "    ev4=np.exp((0+bf*df['Feature 4']+bp*df['Price 4'])/rho1)\n",
    "    denom1=ev1+ev4\n",
    "\n",
    "    #Nest2 (Brand 2 and 3)\n",
    "    ev2=np.exp((a2+bf*df['Feature 2']+bp*df['Price 2'])/rho2)\n",
    "    ev3=np.exp((a3+bf*df['Feature 3']+bp*df['Price 3'])/rho2)\n",
    "    denom2=ev2+ev3\n",
    "    \n",
    "    Nest1=np.power(denom1,rho1)/(np.power(denom1,rho1)+np.power(denom2,rho2))\n",
    "    Nest2=np.power(denom2,rho2)/(np.power(denom1,rho1)+np.power(denom2,rho2))\n",
    "\n",
    "    P1=Nest1*ev1/denom1\n",
    "    P2=Nest2*ev2/denom2\n",
    "    P3=Nest2*ev3/denom2\n",
    "    P4=Nest1*ev4/denom1\n",
    "     \n",
    "    pc=(P1*df['Brand 1']+P2*df['Brand  2']+P3*df['Brand 3']+P4*df['Brand 4'])\n",
    "    Inpc=np.log(pc)\n",
    "    LL=np.sum(Inpc)\n",
    "    return -LL"
   ]
  },
  {
   "cell_type": "code",
   "execution_count": 11,
   "metadata": {},
   "outputs": [
    {
     "name": "stdout",
     "output_type": "stream",
     "text": [
      " a1 (Intrinsic brand preference for Brand 1): 1.2704362491822534 \n",
      " a2 (Intrinsic brand preference for Brand 2): 0.5967295980737131 \n",
      " a3 (Intrinsic brand preference for Brand 3): -1.955107545333905 \n",
      " bf (Coefficients for feature variable): 0.44043450580060095 \n",
      " bp (Coefficients for price variable): -33.755240518991044 \n",
      " rho (Correlation variable 1): 0.9169151375527343 \n",
      " rho (Correlation variable 2): 0.5607146318939851 \n",
      " Maximized Log Likelihood: -2652.8512628377266\n"
     ]
    }
   ],
   "source": [
    "a1,a2,a3,bf,bp,theta1,theta2=1,1,1,1,1,1,1 #Initalization\n",
    "params_init = np.array([a1,a2,a3,bf,bp,theta1,theta2])\n",
    "results = opt.minimize(nestedlogit2, params_init)\n",
    "a1,a2,a3,bf,bp,theta1,theta2 = results.x\n",
    "print(\" a1 (Intrinsic brand preference for Brand 1):\",a1,\"\\n\",\n",
    "      \"a2 (Intrinsic brand preference for Brand 2):\",a2,\"\\n\",\n",
    "      \"a3 (Intrinsic brand preference for Brand 3):\",a3,\"\\n\",\n",
    "      \"bf (Coefficients for feature variable):\",bf,\"\\n\",\n",
    "      \"bp (Coefficients for price variable):\",bp,\"\\n\",\n",
    "      \"rho (Correlation variable 1):\",np.exp(theta1)/(np.exp(theta1)+1),\"\\n\",\n",
    "      \"rho (Correlation variable 2):\",np.exp(theta2)/(np.exp(theta2)+1),\"\\n\",\n",
    "      \"Maximized Log Likelihood:\",-results.fun)"
   ]
  },
  {
   "cell_type": "code",
   "execution_count": 12,
   "metadata": {},
   "outputs": [
    {
     "name": "stdout",
     "output_type": "stream",
     "text": [
      "Standard error for a1 estimate =  0.08758688439542385\n",
      "Standard error for a2 estimate =  0.061878752812136985\n",
      "Standard error for a3 estimate =  0.16247679412323798\n",
      "Standard error for bf estimate =  0.11976577605634205\n",
      "Standard error for bp estimate =  1.5165678362983608\n",
      "Standard error for theta estimate =  0.6269595968830872\n"
     ]
    }
   ],
   "source": [
    "vcv_mle = results.hess_inv\n",
    "stderr_a1_mle = np.sqrt(vcv_mle[0,0])\n",
    "stderr_a2_mle = np.sqrt(vcv_mle[1,1])\n",
    "stderr_a3_mle = np.sqrt(vcv_mle[2,2])\n",
    "stderr_bf_mle = np.sqrt(vcv_mle[3,3])\n",
    "stderr_bp_mle = np.sqrt(vcv_mle[4,4])\n",
    "stderr_theta_mle = np.sqrt(vcv_mle[5,5])\n",
    "\n",
    "print('Standard error for a1 estimate = ', stderr_a1_mle)\n",
    "print('Standard error for a2 estimate = ', stderr_a2_mle)\n",
    "print('Standard error for a3 estimate = ', stderr_a3_mle)\n",
    "print('Standard error for bf estimate = ', stderr_bf_mle)\n",
    "print('Standard error for bp estimate = ', stderr_bp_mle)\n",
    "print('Standard error for theta estimate = ', stderr_theta_mle)"
   ]
  },
  {
   "cell_type": "markdown",
   "metadata": {},
   "source": [
    "#### 3. brands 1 and 2 in one nest; 3 and 4 in another"
   ]
  },
  {
   "cell_type": "code",
   "execution_count": 13,
   "metadata": {},
   "outputs": [],
   "source": [
    "def nestedlogit3(params):\n",
    "\n",
    "    a1,a2,a3,bf,bp,theta1,theta2=params\n",
    "    rho1=np.exp(theta1)/(np.exp(theta1)+1)\n",
    "    rho2=np.exp(theta2)/(np.exp(theta2)+1)\n",
    "    \n",
    "    #Nest1 (Brand 1 and 2)\n",
    "    ev1=np.exp((a1+bf*df['Feature 1']+bp*df['Price 1'])/rho1)\n",
    "    ev2=np.exp((a2+bf*df['Feature 2']+bp*df['Price 2'])/rho1)\n",
    "    denom1=ev1+ev2\n",
    "\n",
    "    #Nest2 (Brand 3 and 4)\n",
    "    ev3=np.exp((a3+bf*df['Feature 3']+bp*df['Price 3'])/rho2)\n",
    "    ev4=np.exp((0+bf*df['Feature 4']+bp*df['Price 4'])/rho2)\n",
    "    denom2=ev3+ev4\n",
    "      \n",
    "    Nest1=np.power(denom1,rho1)/(np.power(denom1,rho1)+np.power(denom2,rho2))\n",
    "    Nest2=np.power(denom2,rho2)/(np.power(denom1,rho1)+np.power(denom2,rho2))\n",
    "\n",
    "    P1=Nest1*ev1/denom1\n",
    "    P2=Nest1*ev2/denom1\n",
    "    P3=Nest2*ev3/denom2\n",
    "    P4=Nest2*ev4/denom2\n",
    "     \n",
    "    pc=(P1*df['Brand 1']+P2*df['Brand  2']+P3*df['Brand 3']+P4*df['Brand 4'])\n",
    "    Inpc=np.log(pc)\n",
    "    LL=np.sum(Inpc)\n",
    "    return -LL"
   ]
  },
  {
   "cell_type": "code",
   "execution_count": 14,
   "metadata": {},
   "outputs": [
    {
     "name": "stdout",
     "output_type": "stream",
     "text": [
      " a1 (Intrinsic brand preference for Brand 1): 1.3084060666455373 \n",
      " a2 (Intrinsic brand preference for Brand 2): 0.7343621134017146 \n",
      " a3 (Intrinsic brand preference for Brand 3): -1.929613660806728 \n",
      " bf (Coefficients for feature variable): 0.38708415089337606 \n",
      " bp (Coefficients for price variable): -28.195927795046757 \n",
      " rho (Correlation variable 1): 0.7016516377756066 \n",
      " rho (Correlation variable 2): 0.5252493668403772 \n",
      " Maximized Log Likelihood: -2654.0983981494196\n"
     ]
    }
   ],
   "source": [
    "a1,a2,a3,bf,bp,theta1,theta2=1,1,1,1,1,1,1 #Initalization\n",
    "params_init = np.array([a1,a2,a3,bf,bp,theta1,theta2])\n",
    "results = opt.minimize(nestedlogit3, params_init)\n",
    "a1,a2,a3,bf,bp,theta1,theta2 = results.x\n",
    "print(\" a1 (Intrinsic brand preference for Brand 1):\",a1,\"\\n\",\n",
    "      \"a2 (Intrinsic brand preference for Brand 2):\",a2,\"\\n\",\n",
    "      \"a3 (Intrinsic brand preference for Brand 3):\",a3,\"\\n\",\n",
    "      \"bf (Coefficients for feature variable):\",bf,\"\\n\",\n",
    "      \"bp (Coefficients for price variable):\",bp,\"\\n\",\n",
    "      \"rho (Correlation variable 1):\",np.exp(theta1)/(np.exp(theta1)+1),\"\\n\",\n",
    "      \"rho (Correlation variable 2):\",np.exp(theta2)/(np.exp(theta2)+1),\"\\n\",\n",
    "      \"Maximized Log Likelihood:\",-results.fun)"
   ]
  },
  {
   "cell_type": "code",
   "execution_count": 15,
   "metadata": {},
   "outputs": [
    {
     "name": "stdout",
     "output_type": "stream",
     "text": [
      "Standard error for a1 estimate =  0.06671632055044982\n",
      "Standard error for a2 estimate =  0.02959206917454104\n",
      "Standard error for a3 estimate =  0.07896443344265563\n",
      "Standard error for bf estimate =  0.029591624905351072\n",
      "Standard error for bp estimate =  2.605273084327706\n",
      "Standard error for theta estimate =  0.08175547577415325\n"
     ]
    }
   ],
   "source": [
    "vcv_mle = results.hess_inv\n",
    "stderr_a1_mle = np.sqrt(vcv_mle[0,0])\n",
    "stderr_a2_mle = np.sqrt(vcv_mle[1,1])\n",
    "stderr_a3_mle = np.sqrt(vcv_mle[2,2])\n",
    "stderr_bf_mle = np.sqrt(vcv_mle[3,3])\n",
    "stderr_bp_mle = np.sqrt(vcv_mle[4,4])\n",
    "stderr_theta_mle = np.sqrt(vcv_mle[5,5])\n",
    "\n",
    "print('Standard error for a1 estimate = ', stderr_a1_mle)\n",
    "print('Standard error for a2 estimate = ', stderr_a2_mle)\n",
    "print('Standard error for a3 estimate = ', stderr_a3_mle)\n",
    "print('Standard error for bf estimate = ', stderr_bf_mle)\n",
    "print('Standard error for bp estimate = ', stderr_bp_mle)\n",
    "print('Standard error for theta estimate = ', stderr_theta_mle)"
   ]
  },
  {
   "cell_type": "markdown",
   "metadata": {},
   "source": [
    "#### 4. brands 1 and 3 in one nest; 2 and 4 in another"
   ]
  },
  {
   "cell_type": "code",
   "execution_count": 16,
   "metadata": {},
   "outputs": [],
   "source": [
    "def nestedlogit4(params):\n",
    "\n",
    "    a1,a2,a3,bf,bp,theta1,theta2=params\n",
    "    rho1=np.exp(theta1)/(np.exp(theta1)+1)\n",
    "    rho2=np.exp(theta2)/(np.exp(theta2)+1)\n",
    "    \n",
    "    #Nest1 (Brand 1 and 2)\n",
    "    ev1=np.exp((a1+bf*df['Feature 1']+bp*df['Price 1'])/rho1)\n",
    "    ev3=np.exp((a3+bf*df['Feature 3']+bp*df['Price 3'])/rho1)\n",
    "    denom1=ev1+ev3\n",
    "\n",
    "    #Nest2 (Brand 3 and 4)\n",
    "    ev2=np.exp((a2+bf*df['Feature 2']+bp*df['Price 2'])/rho2)\n",
    "    ev4=np.exp((0+bf*df['Feature 4']+bp*df['Price 4'])/rho2)\n",
    "    denom2=ev2+ev4\n",
    "      \n",
    "    Nest1=np.power(denom1,rho1)/(np.power(denom1,rho1)+np.power(denom2,rho2))\n",
    "    Nest2=np.power(denom2,rho2)/(np.power(denom1,rho1)+np.power(denom2,rho2))\n",
    "\n",
    "    P1=Nest1*ev1/denom1\n",
    "    P2=Nest2*ev2/denom2\n",
    "    P3=Nest1*ev3/denom1\n",
    "    P4=Nest2*ev4/denom2\n",
    "     \n",
    "    pc=(P1*df['Brand 1']+P2*df['Brand  2']+P3*df['Brand 3']+P4*df['Brand 4'])\n",
    "    Inpc=np.log(pc)\n",
    "    LL=np.sum(Inpc)\n",
    "    return -LL"
   ]
  },
  {
   "cell_type": "code",
   "execution_count": 17,
   "metadata": {},
   "outputs": [
    {
     "name": "stdout",
     "output_type": "stream",
     "text": [
      " a1 (Intrinsic brand preference for Brand 1): 1.3812460673010283 \n",
      " a2 (Intrinsic brand preference for Brand 2): 0.6423131393782008 \n",
      " a3 (Intrinsic brand preference for Brand 3): -2.847026599694185 \n",
      " bf (Coefficients for feature variable): 0.49156346089164277 \n",
      " bp (Coefficients for price variable): -36.508609848585486 \n",
      " rho (Correlation variable 1): 0.901615703802694 \n",
      " rho (Correlation variable 2): 0.9999990433380485 \n",
      " Maximized Log Likelihood: -2658.3966631253315\n"
     ]
    }
   ],
   "source": [
    "a1,a2,a3,bf,bp,theta1,theta2=1,1,1,1,1,1,1 #Initalization\n",
    "params_init = np.array([a1,a2,a3,bf,bp,theta1,theta2])\n",
    "results = opt.minimize(nestedlogit4, params_init)\n",
    "a1,a2,a3,bf,bp,theta1,theta2 = results.x\n",
    "print(\" a1 (Intrinsic brand preference for Brand 1):\",a1,\"\\n\",\n",
    "      \"a2 (Intrinsic brand preference for Brand 2):\",a2,\"\\n\",\n",
    "      \"a3 (Intrinsic brand preference for Brand 3):\",a3,\"\\n\",\n",
    "      \"bf (Coefficients for feature variable):\",bf,\"\\n\",\n",
    "      \"bp (Coefficients for price variable):\",bp,\"\\n\",\n",
    "      \"rho (Correlation variable 1):\",np.exp(theta1)/(np.exp(theta1)+1),\"\\n\",\n",
    "      \"rho (Correlation variable 2):\",np.exp(theta2)/(np.exp(theta2)+1),\"\\n\",\n",
    "      \"Maximized Log Likelihood:\",-results.fun)"
   ]
  },
  {
   "cell_type": "code",
   "execution_count": 18,
   "metadata": {},
   "outputs": [
    {
     "name": "stdout",
     "output_type": "stream",
     "text": [
      "Standard error for a1 estimate =  0.08316113798127142\n",
      "Standard error for a2 estimate =  0.04824393427177462\n",
      "Standard error for a3 estimate =  0.37193832604676147\n",
      "Standard error for bf estimate =  0.11037880841183746\n",
      "Standard error for bp estimate =  2.414625402671832\n",
      "Standard error for theta estimate =  1.6174746186369395\n"
     ]
    }
   ],
   "source": [
    "vcv_mle = results.hess_inv\n",
    "stderr_a1_mle = np.sqrt(vcv_mle[0,0])\n",
    "stderr_a2_mle = np.sqrt(vcv_mle[1,1])\n",
    "stderr_a3_mle = np.sqrt(vcv_mle[2,2])\n",
    "stderr_bf_mle = np.sqrt(vcv_mle[3,3])\n",
    "stderr_bp_mle = np.sqrt(vcv_mle[4,4])\n",
    "stderr_theta_mle = np.sqrt(vcv_mle[5,5])\n",
    "\n",
    "print('Standard error for a1 estimate = ', stderr_a1_mle)\n",
    "print('Standard error for a2 estimate = ', stderr_a2_mle)\n",
    "print('Standard error for a3 estimate = ', stderr_a3_mle)\n",
    "print('Standard error for bf estimate = ', stderr_bf_mle)\n",
    "print('Standard error for bp estimate = ', stderr_bp_mle)\n",
    "print('Standard error for theta estimate = ', stderr_theta_mle)"
   ]
  },
  {
   "cell_type": "markdown",
   "metadata": {},
   "source": [
    "### Summary"
   ]
  },
  {
   "cell_type": "code",
   "execution_count": 19,
   "metadata": {},
   "outputs": [
    {
     "data": {
      "text/html": [
       "<div>\n",
       "<style scoped>\n",
       "    .dataframe tbody tr th:only-of-type {\n",
       "        vertical-align: middle;\n",
       "    }\n",
       "\n",
       "    .dataframe tbody tr th {\n",
       "        vertical-align: top;\n",
       "    }\n",
       "\n",
       "    .dataframe thead th {\n",
       "        text-align: right;\n",
       "    }\n",
       "</style>\n",
       "<table border=\"1\" class=\"dataframe\">\n",
       "  <thead>\n",
       "    <tr style=\"text-align: right;\">\n",
       "      <th></th>\n",
       "      <th>Nest 1</th>\n",
       "      <th>Nest 2</th>\n",
       "      <th>rho1</th>\n",
       "      <th>rho2</th>\n",
       "    </tr>\n",
       "  </thead>\n",
       "  <tbody>\n",
       "    <tr>\n",
       "      <th>1</th>\n",
       "      <td>1,2,3</td>\n",
       "      <td>4</td>\n",
       "      <td>0.64</td>\n",
       "      <td>/</td>\n",
       "    </tr>\n",
       "    <tr>\n",
       "      <th>2</th>\n",
       "      <td>1,4</td>\n",
       "      <td>2,3</td>\n",
       "      <td>0.92</td>\n",
       "      <td>0.56</td>\n",
       "    </tr>\n",
       "    <tr>\n",
       "      <th>3</th>\n",
       "      <td>1,2</td>\n",
       "      <td>3,4</td>\n",
       "      <td>0.70</td>\n",
       "      <td>0.53</td>\n",
       "    </tr>\n",
       "    <tr>\n",
       "      <th>4</th>\n",
       "      <td>1,3</td>\n",
       "      <td>2,4</td>\n",
       "      <td>0.90</td>\n",
       "      <td>0.99</td>\n",
       "    </tr>\n",
       "  </tbody>\n",
       "</table>\n",
       "</div>"
      ],
      "text/plain": [
       "  Nest 1 Nest 2  rho1  rho2\n",
       "1  1,2,3      4  0.64     /\n",
       "2    1,4    2,3  0.92  0.56\n",
       "3    1,2    3,4  0.70  0.53\n",
       "4    1,3    2,4  0.90  0.99"
      ]
     },
     "execution_count": 19,
     "metadata": {},
     "output_type": "execute_result"
    }
   ],
   "source": [
    "N1=[\"1,2,3\",\"1,4\",\"1,2\",\"1,3\"]\n",
    "N2=[\"4\",\"2,3\",\"3,4\",\"2,4\"]\n",
    "r1=[0.64,0.92,0.70,0.90]\n",
    "r2=[\"/\",0.56,0.53,0.99]\n",
    "table=pd.DataFrame({\"Nest 1\":N1,\"Nest 2\":N2,\"rho1\":r1,\"rho2\":r2})\n",
    "table.index+=1\n",
    "table"
   ]
  },
  {
   "cell_type": "markdown",
   "metadata": {},
   "source": [
    "In model 4, rho 1 and rho 2 are close to 1 and the coefficients are identical to the previous coefficients from the simple logit model. This suggests the model satisfies the i.i.a assumption.\n",
    "\n",
    "In model 2 and 3, rho2 are relatively small (away from 1). This suggests the nested models violate the i.i.a assumption."
   ]
  }
 ],
 "metadata": {
  "kernelspec": {
   "display_name": "Python 3",
   "language": "python",
   "name": "python3"
  },
  "language_info": {
   "codemirror_mode": {
    "name": "ipython",
    "version": 3
   },
   "file_extension": ".py",
   "mimetype": "text/x-python",
   "name": "python",
   "nbconvert_exporter": "python",
   "pygments_lexer": "ipython3",
   "version": "3.7.1"
  }
 },
 "nbformat": 4,
 "nbformat_minor": 2
}
