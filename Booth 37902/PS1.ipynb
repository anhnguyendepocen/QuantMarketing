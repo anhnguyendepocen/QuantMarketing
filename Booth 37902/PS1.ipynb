{
 "cells": [
  {
   "cell_type": "markdown",
   "metadata": {},
   "source": [
    "37902 Foundation of Advanced Quantitative Marketing\n",
    "\n",
    "Li Liu"
   ]
  },
  {
   "cell_type": "code",
   "execution_count": 1,
   "metadata": {
    "collapsed": true
   },
   "outputs": [],
   "source": [
    "import numpy as np\n",
    "import pandas as pd\n",
    "import matplotlib.pyplot as plt\n",
    "import scipy.optimize as opt\n",
    "pd.options.display.max_colwidth = 1000"
   ]
  },
  {
   "cell_type": "code",
   "execution_count": 2,
   "metadata": {},
   "outputs": [
    {
     "data": {
      "text/html": [
       "<div>\n",
       "<style scoped>\n",
       "    .dataframe tbody tr th:only-of-type {\n",
       "        vertical-align: middle;\n",
       "    }\n",
       "\n",
       "    .dataframe tbody tr th {\n",
       "        vertical-align: top;\n",
       "    }\n",
       "\n",
       "    .dataframe thead th {\n",
       "        text-align: right;\n",
       "    }\n",
       "</style>\n",
       "<table border=\"1\" class=\"dataframe\">\n",
       "  <thead>\n",
       "    <tr style=\"text-align: right;\">\n",
       "      <th></th>\n",
       "      <th>Pan I.D.</th>\n",
       "      <th>Expend $</th>\n",
       "      <th>Income</th>\n",
       "      <th>HH Size</th>\n",
       "      <th>IPT</th>\n",
       "      <th>Quantity</th>\n",
       "      <th>Brand 1</th>\n",
       "      <th>Brand  2</th>\n",
       "      <th>Brand 3</th>\n",
       "      <th>Brand 4</th>\n",
       "      <th>Feature 1</th>\n",
       "      <th>Feature 2</th>\n",
       "      <th>Feature 3</th>\n",
       "      <th>Feature 4</th>\n",
       "      <th>Price 1</th>\n",
       "      <th>Price 2</th>\n",
       "      <th>Price 3</th>\n",
       "      <th>Price 4</th>\n",
       "      <th>PanelistFirstObs</th>\n",
       "    </tr>\n",
       "  </thead>\n",
       "  <tbody>\n",
       "    <tr>\n",
       "      <th>0</th>\n",
       "      <td>1</td>\n",
       "      <td>40.900002</td>\n",
       "      <td>9</td>\n",
       "      <td>2</td>\n",
       "      <td>5</td>\n",
       "      <td>2</td>\n",
       "      <td>0</td>\n",
       "      <td>0</td>\n",
       "      <td>0</td>\n",
       "      <td>1</td>\n",
       "      <td>0</td>\n",
       "      <td>0</td>\n",
       "      <td>0</td>\n",
       "      <td>0</td>\n",
       "      <td>0.108</td>\n",
       "      <td>0.081</td>\n",
       "      <td>0.061</td>\n",
       "      <td>0.079</td>\n",
       "      <td>1</td>\n",
       "    </tr>\n",
       "    <tr>\n",
       "      <th>1</th>\n",
       "      <td>1</td>\n",
       "      <td>16.809999</td>\n",
       "      <td>9</td>\n",
       "      <td>2</td>\n",
       "      <td>5</td>\n",
       "      <td>2</td>\n",
       "      <td>0</td>\n",
       "      <td>1</td>\n",
       "      <td>0</td>\n",
       "      <td>0</td>\n",
       "      <td>0</td>\n",
       "      <td>0</td>\n",
       "      <td>0</td>\n",
       "      <td>0</td>\n",
       "      <td>0.108</td>\n",
       "      <td>0.098</td>\n",
       "      <td>0.064</td>\n",
       "      <td>0.075</td>\n",
       "      <td>0</td>\n",
       "    </tr>\n",
       "    <tr>\n",
       "      <th>2</th>\n",
       "      <td>1</td>\n",
       "      <td>4.060000</td>\n",
       "      <td>9</td>\n",
       "      <td>2</td>\n",
       "      <td>1</td>\n",
       "      <td>2</td>\n",
       "      <td>0</td>\n",
       "      <td>1</td>\n",
       "      <td>0</td>\n",
       "      <td>0</td>\n",
       "      <td>0</td>\n",
       "      <td>0</td>\n",
       "      <td>0</td>\n",
       "      <td>0</td>\n",
       "      <td>0.108</td>\n",
       "      <td>0.098</td>\n",
       "      <td>0.061</td>\n",
       "      <td>0.086</td>\n",
       "      <td>0</td>\n",
       "    </tr>\n",
       "    <tr>\n",
       "      <th>3</th>\n",
       "      <td>1</td>\n",
       "      <td>34.459999</td>\n",
       "      <td>9</td>\n",
       "      <td>2</td>\n",
       "      <td>4</td>\n",
       "      <td>2</td>\n",
       "      <td>0</td>\n",
       "      <td>1</td>\n",
       "      <td>0</td>\n",
       "      <td>0</td>\n",
       "      <td>0</td>\n",
       "      <td>0</td>\n",
       "      <td>0</td>\n",
       "      <td>0</td>\n",
       "      <td>0.108</td>\n",
       "      <td>0.098</td>\n",
       "      <td>0.061</td>\n",
       "      <td>0.086</td>\n",
       "      <td>0</td>\n",
       "    </tr>\n",
       "    <tr>\n",
       "      <th>4</th>\n",
       "      <td>1</td>\n",
       "      <td>8.390000</td>\n",
       "      <td>9</td>\n",
       "      <td>2</td>\n",
       "      <td>7</td>\n",
       "      <td>2</td>\n",
       "      <td>0</td>\n",
       "      <td>1</td>\n",
       "      <td>0</td>\n",
       "      <td>0</td>\n",
       "      <td>0</td>\n",
       "      <td>0</td>\n",
       "      <td>0</td>\n",
       "      <td>0</td>\n",
       "      <td>0.125</td>\n",
       "      <td>0.098</td>\n",
       "      <td>0.049</td>\n",
       "      <td>0.079</td>\n",
       "      <td>0</td>\n",
       "    </tr>\n",
       "  </tbody>\n",
       "</table>\n",
       "</div>"
      ],
      "text/plain": [
       "   Pan I.D.   Expend $  Income  HH Size  IPT  Quantity  Brand 1  Brand  2  \\\n",
       "0         1  40.900002       9        2    5         2        0         0   \n",
       "1         1  16.809999       9        2    5         2        0         1   \n",
       "2         1   4.060000       9        2    1         2        0         1   \n",
       "3         1  34.459999       9        2    4         2        0         1   \n",
       "4         1   8.390000       9        2    7         2        0         1   \n",
       "\n",
       "   Brand 3  Brand 4  Feature 1  Feature 2  Feature 3  Feature 4  Price 1  \\\n",
       "0        0        1          0          0          0          0    0.108   \n",
       "1        0        0          0          0          0          0    0.108   \n",
       "2        0        0          0          0          0          0    0.108   \n",
       "3        0        0          0          0          0          0    0.108   \n",
       "4        0        0          0          0          0          0    0.125   \n",
       "\n",
       "   Price 2  Price 3  Price 4  PanelistFirstObs  \n",
       "0    0.081    0.061    0.079                 1  \n",
       "1    0.098    0.064    0.075                 0  \n",
       "2    0.098    0.061    0.086                 0  \n",
       "3    0.098    0.061    0.086                 0  \n",
       "4    0.098    0.049    0.079                 0  "
      ]
     },
     "execution_count": 2,
     "metadata": {},
     "output_type": "execute_result"
    }
   ],
   "source": [
    "df=pd.read_excel(\"Yogurt100N.csv.xlsx\")\n",
    "df.describe()\n",
    "df.head()"
   ]
  },
  {
   "cell_type": "markdown",
   "metadata": {},
   "source": [
    "### Exploratory Data Analysis"
   ]
  },
  {
   "cell_type": "code",
   "execution_count": 26,
   "metadata": {},
   "outputs": [
    {
     "data": {
      "image/png": "[encoded data removed]",
      "text/plain": [
       "<matplotlib.figure.Figure at 0x1dde9298cf8>"
      ]
     },
     "metadata": {},
     "output_type": "display_data"
    }
   ],
   "source": [
    "HH=df.groupby('HH Size')['Expend $','Income','Quantity'].mean()\n",
    "plt.plot(HH['Expend $'])\n",
    "plt.plot(HH['Income'])\n",
    "plt.plot(HH['Quantity'])\n",
    "plt.legend()\n",
    "plt.show()"
   ]
  },
  {
   "cell_type": "markdown",
   "metadata": {},
   "source": [
    "As household size increases, average expenditure increases, income peaks at the largest householdsize, and quantity purchased doesn't change much."
   ]
  },
  {
   "cell_type": "code",
   "execution_count": 4,
   "metadata": {},
   "outputs": [
    {
     "data": {
      "text/plain": [
       "count    100.000000\n",
       "mean      24.300000\n",
       "std       29.455839\n",
       "min        4.000000\n",
       "25%        9.000000\n",
       "50%       15.000000\n",
       "75%       25.000000\n",
       "max      185.000000\n",
       "Name: Pan I.D., dtype: float64"
      ]
     },
     "execution_count": 4,
     "metadata": {},
     "output_type": "execute_result"
    }
   ],
   "source": [
    "visit=df.groupby('Pan I.D.')['Pan I.D.'].count()\n",
    "visit.describe()"
   ]
  },
  {
   "cell_type": "code",
   "execution_count": 27,
   "metadata": {},
   "outputs": [
    {
     "data": {
      "image/png": "[encoded data removed]",
      "text/plain": [
       "<matplotlib.figure.Figure at 0x1dde9618cc0>"
      ]
     },
     "metadata": {},
     "output_type": "display_data"
    }
   ],
   "source": [
    "plt.hist(visit,bins=100)\n",
    "plt.show()"
   ]
  },
  {
   "cell_type": "markdown",
   "metadata": {},
   "source": [
    "Customers on average have 24 shopping records, with the most frequent visit to be 185 and least frequent visit to be 4. \n",
    "\n",
    "75% of the customers shop fewer than 25 times."
   ]
  },
  {
   "cell_type": "code",
   "execution_count": 29,
   "metadata": {},
   "outputs": [
    {
     "data": {
      "image/png": "[encoded data removed]",
      "text/plain": [
       "<matplotlib.figure.Figure at 0x1ddeae90358>"
      ]
     },
     "metadata": {},
     "output_type": "display_data"
    }
   ],
   "source": [
    "cts=[sum(df['Brand 1']),sum(df['Brand  2']),sum(df['Brand 3']),sum(df['Brand 4'])]\n",
    "labels='Brand 1','Brand 2','Brand 3','Brand 4'\n",
    "fig1, ax1 = plt.subplots()\n",
    "ax1.pie(cts, labels=labels, autopct='%1.0f%%',startangle=90)\n",
    "ax1.axis('equal') \n",
    "plt.show()"
   ]
  },
  {
   "cell_type": "markdown",
   "metadata": {},
   "source": [
    "In this dataset, Brand 2 has the highest demand and Brand 3 has the lowest demand."
   ]
  },
  {
   "cell_type": "markdown",
   "metadata": {},
   "source": [
    "### Logit Model \n"
   ]
  },
  {
   "cell_type": "code",
   "execution_count": 30,
   "metadata": {},
   "outputs": [
    {
     "data": {
      "text/plain": [
       "Index(['Pan I.D.', 'Expend $', 'Income', 'HH Size', 'IPT', 'Quantity',\n",
       "       'Brand 1', 'Brand  2', 'Brand 3', 'Brand 4', 'Feature 1', 'Feature 2',\n",
       "       'Feature 3', 'Feature 4', 'Price 1', 'Price 2', 'Price 3', 'Price 4',\n",
       "       'PanelistFirstObs'],\n",
       "      dtype='object')"
      ]
     },
     "execution_count": 30,
     "metadata": {},
     "output_type": "execute_result"
    }
   ],
   "source": [
    "df.columns"
   ]
  },
  {
   "cell_type": "code",
   "execution_count": 31,
   "metadata": {
    "collapsed": true
   },
   "outputs": [],
   "source": [
    "def crit(params):\n",
    "\n",
    "    a1,a2,a3,bf,bp=params\n",
    "    ev1=np.exp(a1+bf*df['Feature 1']+bp*df['Price 1'])\n",
    "    ev2=np.exp(a2+bf*df['Feature 2']+bp*df['Price 2'])\n",
    "    ev3=np.exp(a3+bf*df['Feature 3']+bp*df['Price 3'])\n",
    "    ev4=np.exp(0+bf*df['Feature 4']+bp*df['Price 4'])\n",
    "    denom=ev1+ev2+ev3+ev4\n",
    "    pc=(ev1*df['Brand 1']+ev2*df['Brand  2']+ev3*df['Brand 3']+ev4*df['Brand 4'])/denom\n",
    "    Inpc=np.log(pc)\n",
    "    LL=np.sum(Inpc)\n",
    "    return -LL"
   ]
  },
  {
   "cell_type": "code",
   "execution_count": 46,
   "metadata": {},
   "outputs": [
    {
     "name": "stdout",
     "output_type": "stream",
     "text": [
      " a1 (Intrinsic brand preference for Brand 1): 1.3877493848693059 \n",
      " a2 (Intrinsic brand preference for Brand 2): 0.6435046305879636 \n",
      " a3 (Intrinsic brand preference for Brand 3): -3.0861119572117355 \n",
      " bf (Coefficients for feature variable): 0.4874149107851659 \n",
      " bp (Coefficients for price variable): -37.057782766093105 \n",
      " Maximized Log Likelihood: -2658.5566975071233\n"
     ]
    }
   ],
   "source": [
    "a1,a2,a3,bf,bp=1,1,1,1,1 #Initalization\n",
    "params_init = np.array([a1,a2,a3,bf,bp])\n",
    "results = opt.minimize(crit, params_init)\n",
    "a1,a2,a3,bf,bp = results.x\n",
    "print(\" a1 (Intrinsic brand preference for Brand 1):\",a1,\"\\n\",\n",
    "      \"a2 (Intrinsic brand preference for Brand 2):\",a2,\"\\n\",\n",
    "      \"a3 (Intrinsic brand preference for Brand 3):\",a3,\"\\n\",\n",
    "      \"bf (Coefficients for feature variable):\",bf,\"\\n\",\n",
    "      \"bp (Coefficients for price variable):\",bp,\"\\n\",\n",
    "      \"Maximized Log Likelihood:\",-results.fun)"
   ]
  },
  {
   "cell_type": "markdown",
   "metadata": {},
   "source": [
    "The identified logit model for choosing each of the four brands are:\n",
    "\n",
    "\\begin{equation}\n",
    "  p(Brand 1) = \\frac{\\text{exp}(1.38 + 0.48*\\text{feature 1} -37*\\text{price 1})}{\\text{exp}(1.38 + 0.48*\\text{feature 1} -37*\\text{price 1})+\\text{exp}(0.64 + 0.48*\\text{feature 2} -37*\\text{price 2})+\\text{exp}(-3+ 0.48*\\text{feature 3} -37*\\text{price 3})+\\text{exp}(0.48*\\text{feature 4} -37*\\text{price 4})} \n",
    "\\end{equation}\n",
    "\n",
    "\\begin{equation}\n",
    "  p(Brand 2) = \\frac{\\text{exp}(0.64+ 0.48*\\text{feature 2} -37*\\text{price 2})}{\\text{exp}(1.38 + 0.48*\\text{feature 1} -37*\\text{price 1})+\\text{exp}(0.64 + 0.48*\\text{feature 2} -37*\\text{price 2})+\\text{exp}(-3+ 0.48*\\text{feature 3} -37*\\text{price 3})+\\text{exp}(0.48*\\text{feature 4} -37*\\text{price 4})} \n",
    "\\end{equation}\n",
    "\n",
    "\\begin{equation}\n",
    "  p(Brand 3) = \\frac{\\text{exp}(-3 + 0.48*\\text{feature 3} -37*\\text{price 3})}{\\text{exp}(1.38 + 0.48*\\text{feature 1} -37*\\text{price 1})+\\text{exp}(0.64 + 0.48*\\text{feature 2} -37*\\text{price 2})+\\text{exp}(-3+ 0.48*\\text{feature 3} -37*\\text{price 3})+\\text{exp}(0.48*\\text{feature 4} -37*\\text{price 4})} \n",
    "\\end{equation}\n",
    "\n",
    "\\begin{equation}\n",
    "  p(Brand 4) = \\frac{\\text{exp}(0.48*\\text{feature 4} -37*\\text{price 4})}{\\text{exp}(1.38 + 0.48*\\text{feature 1} -37*\\text{price 1})+\\text{exp}(0.64 + 0.48*\\text{feature 2} -37*\\text{price 2})+\\text{exp}(-3+ 0.48*\\text{feature 3} -37*\\text{price 3})+\\text{exp}(0.48*\\text{feature 4} -37*\\text{price 4})} \n",
    "\\end{equation}"
   ]
  },
  {
   "cell_type": "markdown",
   "metadata": {},
   "source": [
    "### The variance-covariance matrix of ML estimates"
   ]
  },
  {
   "cell_type": "code",
   "execution_count": 10,
   "metadata": {},
   "outputs": [
    {
     "data": {
      "text/plain": [
       "array([[ 7.48200844e-03,  2.20685323e-03, -2.96670164e-03,\n",
       "        -2.16608416e-03, -1.53854223e-01],\n",
       "       [ 2.20685323e-03,  3.03416481e-03,  1.56732482e-03,\n",
       "        -1.41506984e-04, -1.15580067e-02],\n",
       "       [-2.96670164e-03,  1.56732482e-03,  2.08265167e-02,\n",
       "         1.81403601e-03,  1.67282482e-01],\n",
       "       [-2.16608416e-03, -1.41506984e-04,  1.81403601e-03,\n",
       "         1.27119528e-02,  6.74989276e-02],\n",
       "       [-1.53854223e-01, -1.15580067e-02,  1.67282482e-01,\n",
       "         6.74989276e-02,  5.42571345e+00]])"
      ]
     },
     "execution_count": 10,
     "metadata": {},
     "output_type": "execute_result"
    }
   ],
   "source": [
    "results.hess_inv"
   ]
  },
  {
   "cell_type": "markdown",
   "metadata": {},
   "source": [
    "From Davidson and MacKinnon (2004, Sec. 10.4):\n",
    "\n",
    "VCV: variance-covariance matrix of the maximum likelihood estimates\n",
    "\n",
    "\n",
    "The Hessian is a matrix of second derivatives of the log likelihood function with respect to the parameters being chosen.\n",
    "\n",
    "$$ \\hat{VCV}_H(\\hat{\\theta}) =-H^{-1}(\\hat{\\theta}) \\quad\\text{from max prob} $$\n",
    "\n",
    "Equivalently,\n",
    "\n",
    "$$ \\hat{VCV}_H(\\hat(\\theta)) = OffDiag(-1) H^{-1}(\\hat{\\theta}) \\quad\\text{from min prob} $$\n"
   ]
  },
  {
   "cell_type": "code",
   "execution_count": 11,
   "metadata": {},
   "outputs": [
    {
     "name": "stdout",
     "output_type": "stream",
     "text": [
      "VCV(MLE) =  [[ 7.48200844e-03 -2.20685323e-03  2.96670164e-03  2.16608416e-03\n",
      "   1.53854223e-01]\n",
      " [-2.20685323e-03  3.03416481e-03 -1.56732482e-03  1.41506984e-04\n",
      "   1.15580067e-02]\n",
      " [ 2.96670164e-03 -1.56732482e-03  2.08265167e-02 -1.81403601e-03\n",
      "  -1.67282482e-01]\n",
      " [-2.16608416e-03  1.41506984e-04 -1.81403601e-03  1.27119528e-02\n",
      "  -6.74989276e-02]\n",
      " [-1.53854223e-01  1.15580067e-02 -1.67282482e-01 -6.74989276e-02\n",
      "   5.42571345e+00]]\n"
     ]
    }
   ],
   "source": [
    "OffDiagNeg = np.array([[1, -1, -1, -1, -1], [-1, 1, -1, -1, -1],\n",
    "                       [-1, -1, 1, -1, -1],[1, -1, -1, 1, -1],[1, -1, -1, -1, 1]])\n",
    "vcv_mle = results.hess_inv * OffDiagNeg\n",
    "print('VCV(MLE) = ', vcv_mle)"
   ]
  },
  {
   "cell_type": "code",
   "execution_count": 42,
   "metadata": {},
   "outputs": [
    {
     "name": "stdout",
     "output_type": "stream",
     "text": [
      "Standard error for a1 estimate =  0.08649860370236154\n",
      "Standard error for a2 estimate =  0.055083253479824096\n",
      "Standard error for a3 estimate =  0.14431395169240108\n",
      "Standard error for bf estimate =  0.11274729600339733\n",
      "Standard error for bp estimate =  2.32931609089431\n"
     ]
    }
   ],
   "source": [
    "#The square root of diagonal elements are standard errors \n",
    "stderr_a1_mle = np.sqrt(vcv_mle[0,0])\n",
    "stderr_a2_mle = np.sqrt(vcv_mle[1,1])\n",
    "stderr_a3_mle = np.sqrt(vcv_mle[2,2])\n",
    "stderr_bf_mle = np.sqrt(vcv_mle[3,3])\n",
    "stderr_bp_mle = np.sqrt(vcv_mle[4,4])\n",
    "print('Standard error for a1 estimate = ', stderr_a1_mle)\n",
    "print('Standard error for a2 estimate = ', stderr_a2_mle)\n",
    "print('Standard error for a3 estimate = ', stderr_a3_mle)\n",
    "print('Standard error for bf estimate = ', stderr_bf_mle)\n",
    "print('Standard error for bp estimate = ', stderr_bp_mle)"
   ]
  },
  {
   "cell_type": "markdown",
   "metadata": {},
   "source": [
    "The sample size for choosing Brand 2 (975) is much larger than the size for Brand 3 (71). Since standard error is inversely proportional to the sample size, the S.E for a2 (0.055) is much smaller than the S.E for a1 (0.14)."
   ]
  }
 ],
 "metadata": {
  "kernelspec": {
   "display_name": "Python 3",
   "language": "python",
   "name": "python3"
  },
  "language_info": {
   "codemirror_mode": {
    "name": "ipython",
    "version": 3
   },
   "file_extension": ".py",
   "mimetype": "text/x-python",
   "name": "python",
   "nbconvert_exporter": "python",
   "pygments_lexer": "ipython3",
   "version": "3.6.7"
  }
 },
 "nbformat": 4,
 "nbformat_minor": 2
}
